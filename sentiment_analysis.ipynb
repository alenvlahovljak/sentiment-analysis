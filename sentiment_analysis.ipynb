{
 "cells": [
  {
   "cell_type": "markdown",
   "id": "f2abfa2f",
   "metadata": {},
   "source": [
    "Import necessary modules:"
   ]
  },
  {
   "cell_type": "code",
   "execution_count": 1,
   "id": "9fe9ec41",
   "metadata": {},
   "outputs": [],
   "source": [
    "import numpy as np\n",
    "import pandas as pd\n",
    "import seaborn as sn\n",
    "import matplotlib.pyplot as plt\n",
    "\n",
    "from sklearn.feature_extraction.text import TfidfVectorizer\n",
    "from sklearn.linear_model import LogisticRegression\n",
    "from sklearn.metrics import roc_auc_score, f1_score, confusion_matrix\n",
    "from sklearn.model_selection import train_test_split\n",
    "from nltk.corpus import stopwords\n",
    "from wordcloud import WordCloud"
   ]
  },
  {
   "cell_type": "markdown",
   "id": "4f4e67f1",
   "metadata": {},
   "source": [
    "- Import 'csv' file"
   ]
  },
  {
   "cell_type": "code",
   "execution_count": 2,
   "id": "2199a09a",
   "metadata": {},
   "outputs": [],
   "source": [
    "df = pd.read_csv(\"./Tweets.csv\")"
   ]
  },
  {
   "cell_type": "markdown",
   "id": "c03cbdc2",
   "metadata": {},
   "source": [
    "- Get first five records"
   ]
  },
  {
   "cell_type": "code",
   "execution_count": 3,
   "id": "f2724bab",
   "metadata": {},
   "outputs": [
    {
     "data": {
      "text/html": [
       "<div>\n",
       "<style scoped>\n",
       "    .dataframe tbody tr th:only-of-type {\n",
       "        vertical-align: middle;\n",
       "    }\n",
       "\n",
       "    .dataframe tbody tr th {\n",
       "        vertical-align: top;\n",
       "    }\n",
       "\n",
       "    .dataframe thead th {\n",
       "        text-align: right;\n",
       "    }\n",
       "</style>\n",
       "<table border=\"1\" class=\"dataframe\">\n",
       "  <thead>\n",
       "    <tr style=\"text-align: right;\">\n",
       "      <th></th>\n",
       "      <th>tweet_id</th>\n",
       "      <th>airline_sentiment</th>\n",
       "      <th>airline_sentiment_confidence</th>\n",
       "      <th>negativereason</th>\n",
       "      <th>negativereason_confidence</th>\n",
       "      <th>airline</th>\n",
       "      <th>airline_sentiment_gold</th>\n",
       "      <th>name</th>\n",
       "      <th>negativereason_gold</th>\n",
       "      <th>retweet_count</th>\n",
       "      <th>text</th>\n",
       "      <th>tweet_coord</th>\n",
       "      <th>tweet_created</th>\n",
       "      <th>tweet_location</th>\n",
       "      <th>user_timezone</th>\n",
       "    </tr>\n",
       "  </thead>\n",
       "  <tbody>\n",
       "    <tr>\n",
       "      <th>0</th>\n",
       "      <td>570306133677760513</td>\n",
       "      <td>neutral</td>\n",
       "      <td>1.0000</td>\n",
       "      <td>NaN</td>\n",
       "      <td>NaN</td>\n",
       "      <td>Virgin America</td>\n",
       "      <td>NaN</td>\n",
       "      <td>cairdin</td>\n",
       "      <td>NaN</td>\n",
       "      <td>0</td>\n",
       "      <td>@VirginAmerica What @dhepburn said.</td>\n",
       "      <td>NaN</td>\n",
       "      <td>2015-02-24 11:35:52 -0800</td>\n",
       "      <td>NaN</td>\n",
       "      <td>Eastern Time (US &amp; Canada)</td>\n",
       "    </tr>\n",
       "    <tr>\n",
       "      <th>1</th>\n",
       "      <td>570301130888122368</td>\n",
       "      <td>positive</td>\n",
       "      <td>0.3486</td>\n",
       "      <td>NaN</td>\n",
       "      <td>0.0000</td>\n",
       "      <td>Virgin America</td>\n",
       "      <td>NaN</td>\n",
       "      <td>jnardino</td>\n",
       "      <td>NaN</td>\n",
       "      <td>0</td>\n",
       "      <td>@VirginAmerica plus you've added commercials t...</td>\n",
       "      <td>NaN</td>\n",
       "      <td>2015-02-24 11:15:59 -0800</td>\n",
       "      <td>NaN</td>\n",
       "      <td>Pacific Time (US &amp; Canada)</td>\n",
       "    </tr>\n",
       "    <tr>\n",
       "      <th>2</th>\n",
       "      <td>570301083672813571</td>\n",
       "      <td>neutral</td>\n",
       "      <td>0.6837</td>\n",
       "      <td>NaN</td>\n",
       "      <td>NaN</td>\n",
       "      <td>Virgin America</td>\n",
       "      <td>NaN</td>\n",
       "      <td>yvonnalynn</td>\n",
       "      <td>NaN</td>\n",
       "      <td>0</td>\n",
       "      <td>@VirginAmerica I didn't today... Must mean I n...</td>\n",
       "      <td>NaN</td>\n",
       "      <td>2015-02-24 11:15:48 -0800</td>\n",
       "      <td>Lets Play</td>\n",
       "      <td>Central Time (US &amp; Canada)</td>\n",
       "    </tr>\n",
       "    <tr>\n",
       "      <th>3</th>\n",
       "      <td>570301031407624196</td>\n",
       "      <td>negative</td>\n",
       "      <td>1.0000</td>\n",
       "      <td>Bad Flight</td>\n",
       "      <td>0.7033</td>\n",
       "      <td>Virgin America</td>\n",
       "      <td>NaN</td>\n",
       "      <td>jnardino</td>\n",
       "      <td>NaN</td>\n",
       "      <td>0</td>\n",
       "      <td>@VirginAmerica it's really aggressive to blast...</td>\n",
       "      <td>NaN</td>\n",
       "      <td>2015-02-24 11:15:36 -0800</td>\n",
       "      <td>NaN</td>\n",
       "      <td>Pacific Time (US &amp; Canada)</td>\n",
       "    </tr>\n",
       "    <tr>\n",
       "      <th>4</th>\n",
       "      <td>570300817074462722</td>\n",
       "      <td>negative</td>\n",
       "      <td>1.0000</td>\n",
       "      <td>Can't Tell</td>\n",
       "      <td>1.0000</td>\n",
       "      <td>Virgin America</td>\n",
       "      <td>NaN</td>\n",
       "      <td>jnardino</td>\n",
       "      <td>NaN</td>\n",
       "      <td>0</td>\n",
       "      <td>@VirginAmerica and it's a really big bad thing...</td>\n",
       "      <td>NaN</td>\n",
       "      <td>2015-02-24 11:14:45 -0800</td>\n",
       "      <td>NaN</td>\n",
       "      <td>Pacific Time (US &amp; Canada)</td>\n",
       "    </tr>\n",
       "  </tbody>\n",
       "</table>\n",
       "</div>"
      ],
      "text/plain": [
       "             tweet_id airline_sentiment  airline_sentiment_confidence  \\\n",
       "0  570306133677760513           neutral                        1.0000   \n",
       "1  570301130888122368          positive                        0.3486   \n",
       "2  570301083672813571           neutral                        0.6837   \n",
       "3  570301031407624196          negative                        1.0000   \n",
       "4  570300817074462722          negative                        1.0000   \n",
       "\n",
       "  negativereason  negativereason_confidence         airline  \\\n",
       "0            NaN                        NaN  Virgin America   \n",
       "1            NaN                     0.0000  Virgin America   \n",
       "2            NaN                        NaN  Virgin America   \n",
       "3     Bad Flight                     0.7033  Virgin America   \n",
       "4     Can't Tell                     1.0000  Virgin America   \n",
       "\n",
       "  airline_sentiment_gold        name negativereason_gold  retweet_count  \\\n",
       "0                    NaN     cairdin                 NaN              0   \n",
       "1                    NaN    jnardino                 NaN              0   \n",
       "2                    NaN  yvonnalynn                 NaN              0   \n",
       "3                    NaN    jnardino                 NaN              0   \n",
       "4                    NaN    jnardino                 NaN              0   \n",
       "\n",
       "                                                text tweet_coord  \\\n",
       "0                @VirginAmerica What @dhepburn said.         NaN   \n",
       "1  @VirginAmerica plus you've added commercials t...         NaN   \n",
       "2  @VirginAmerica I didn't today... Must mean I n...         NaN   \n",
       "3  @VirginAmerica it's really aggressive to blast...         NaN   \n",
       "4  @VirginAmerica and it's a really big bad thing...         NaN   \n",
       "\n",
       "               tweet_created tweet_location               user_timezone  \n",
       "0  2015-02-24 11:35:52 -0800            NaN  Eastern Time (US & Canada)  \n",
       "1  2015-02-24 11:15:59 -0800            NaN  Pacific Time (US & Canada)  \n",
       "2  2015-02-24 11:15:48 -0800      Lets Play  Central Time (US & Canada)  \n",
       "3  2015-02-24 11:15:36 -0800            NaN  Pacific Time (US & Canada)  \n",
       "4  2015-02-24 11:14:45 -0800            NaN  Pacific Time (US & Canada)  "
      ]
     },
     "execution_count": 3,
     "metadata": {},
     "output_type": "execute_result"
    }
   ],
   "source": [
    "df.head()"
   ]
  },
  {
   "cell_type": "markdown",
   "id": "64d68833",
   "metadata": {},
   "source": [
    "- Filter out colums for further work"
   ]
  },
  {
   "cell_type": "markdown",
   "id": "d4bdd1e0",
   "metadata": {},
   "source": [
    "<h1>Exploratory data analysis</h1>"
   ]
  },
  {
   "cell_type": "markdown",
   "id": "12b0e02a",
   "metadata": {},
   "source": [
    "<h3> Most preferable airlines </h3>"
   ]
  },
  {
   "cell_type": "markdown",
   "id": "145c4a10",
   "metadata": {},
   "source": [
    "- List of airlines"
   ]
  },
  {
   "cell_type": "code",
   "execution_count": 4,
   "id": "2f6a5e90",
   "metadata": {},
   "outputs": [
    {
     "name": "stdout",
     "output_type": "stream",
     "text": [
      "Airlines: ['Virgin America' 'United' 'Southwest' 'Delta' 'US Airways' 'American']\n"
     ]
    }
   ],
   "source": [
    "airlines = df['airline'].unique()\n",
    "\n",
    "print(\"Airlines:\", airlines)"
   ]
  },
  {
   "cell_type": "markdown",
   "id": "ffc867a5",
   "metadata": {},
   "source": [
    "- Positive, neutral and negative <code>airline_sentiment</code> per <code>airline</code>"
   ]
  },
  {
   "cell_type": "code",
   "execution_count": 5,
   "id": "f92b3f77",
   "metadata": {},
   "outputs": [
    {
     "data": {
      "text/html": [
       "<div>\n",
       "<style scoped>\n",
       "    .dataframe tbody tr th:only-of-type {\n",
       "        vertical-align: middle;\n",
       "    }\n",
       "\n",
       "    .dataframe tbody tr th {\n",
       "        vertical-align: top;\n",
       "    }\n",
       "\n",
       "    .dataframe thead th {\n",
       "        text-align: right;\n",
       "    }\n",
       "</style>\n",
       "<table border=\"1\" class=\"dataframe\">\n",
       "  <thead>\n",
       "    <tr style=\"text-align: right;\">\n",
       "      <th></th>\n",
       "      <th>neutrals</th>\n",
       "      <th>positives</th>\n",
       "      <th>negatives</th>\n",
       "    </tr>\n",
       "  </thead>\n",
       "  <tbody>\n",
       "    <tr>\n",
       "      <th>Virgin America</th>\n",
       "      <td>171</td>\n",
       "      <td>152</td>\n",
       "      <td>181</td>\n",
       "    </tr>\n",
       "    <tr>\n",
       "      <th>United</th>\n",
       "      <td>697</td>\n",
       "      <td>492</td>\n",
       "      <td>2633</td>\n",
       "    </tr>\n",
       "    <tr>\n",
       "      <th>Southwest</th>\n",
       "      <td>664</td>\n",
       "      <td>570</td>\n",
       "      <td>1186</td>\n",
       "    </tr>\n",
       "    <tr>\n",
       "      <th>Delta</th>\n",
       "      <td>723</td>\n",
       "      <td>544</td>\n",
       "      <td>955</td>\n",
       "    </tr>\n",
       "    <tr>\n",
       "      <th>US Airways</th>\n",
       "      <td>381</td>\n",
       "      <td>269</td>\n",
       "      <td>2263</td>\n",
       "    </tr>\n",
       "    <tr>\n",
       "      <th>American</th>\n",
       "      <td>463</td>\n",
       "      <td>336</td>\n",
       "      <td>1960</td>\n",
       "    </tr>\n",
       "  </tbody>\n",
       "</table>\n",
       "</div>"
      ],
      "text/plain": [
       "                neutrals  positives  negatives\n",
       "Virgin America       171        152        181\n",
       "United               697        492       2633\n",
       "Southwest            664        570       1186\n",
       "Delta                723        544        955\n",
       "US Airways           381        269       2263\n",
       "American             463        336       1960"
      ]
     },
     "execution_count": 5,
     "metadata": {},
     "output_type": "execute_result"
    }
   ],
   "source": [
    "def get_airline_sentiment(df, airlines):\n",
    "    positives = []\n",
    "    negatives = []\n",
    "    neutrals = []\n",
    "\n",
    "    for airline in airlines:\n",
    "        positive = df.query('@airline == airline and airline_sentiment == \"positive\"')['tweet_id'].count()\n",
    "        negative = df.query('@airline == airline and airline_sentiment == \"negative\"')['tweet_id'].count()\n",
    "        neutral = df.query('@airline == airline and airline_sentiment == \"neutral\"')['tweet_id'].count()\n",
    "        \n",
    "        positives.append(positive)\n",
    "        negatives.append(negative)\n",
    "        neutrals.append(neutral)\n",
    "          \n",
    "    return positives, negatives, neutrals\n",
    "        \n",
    "\n",
    "     \n",
    "positives, negatives, neutrals = get_airline_sentiment(df, airlines)\n",
    "\n",
    "sentiment_airlines_df = pd.DataFrame(index = airlines);\n",
    "sentiment_airlines_df['neutrals'] = neutrals\n",
    "sentiment_airlines_df['positives'] = positives\n",
    "sentiment_airlines_df['negatives'] = negatives\n",
    "sentiment_airlines_df"
   ]
  },
  {
   "cell_type": "markdown",
   "id": "eb001119",
   "metadata": {},
   "source": [
    "- Positive, neutral and negative <code>airline_sentiment</code> per <code>airline</code> in percentage (%)"
   ]
  },
  {
   "cell_type": "code",
   "execution_count": 6,
   "id": "17ceef4b",
   "metadata": {},
   "outputs": [
    {
     "data": {
      "text/html": [
       "<div>\n",
       "<style scoped>\n",
       "    .dataframe tbody tr th:only-of-type {\n",
       "        vertical-align: middle;\n",
       "    }\n",
       "\n",
       "    .dataframe tbody tr th {\n",
       "        vertical-align: top;\n",
       "    }\n",
       "\n",
       "    .dataframe thead th {\n",
       "        text-align: right;\n",
       "    }\n",
       "</style>\n",
       "<table border=\"1\" class=\"dataframe\">\n",
       "  <thead>\n",
       "    <tr style=\"text-align: right;\">\n",
       "      <th></th>\n",
       "      <th>neutrals (%)</th>\n",
       "      <th>positives (%)</th>\n",
       "      <th>negatives (%)</th>\n",
       "    </tr>\n",
       "  </thead>\n",
       "  <tbody>\n",
       "    <tr>\n",
       "      <th>Virgin America</th>\n",
       "      <td>5.517909</td>\n",
       "      <td>6.432501</td>\n",
       "      <td>1.972107</td>\n",
       "    </tr>\n",
       "    <tr>\n",
       "      <th>United</th>\n",
       "      <td>22.491126</td>\n",
       "      <td>20.820990</td>\n",
       "      <td>28.688167</td>\n",
       "    </tr>\n",
       "    <tr>\n",
       "      <th>Southwest</th>\n",
       "      <td>21.426267</td>\n",
       "      <td>24.121879</td>\n",
       "      <td>12.922205</td>\n",
       "    </tr>\n",
       "    <tr>\n",
       "      <th>Delta</th>\n",
       "      <td>23.330106</td>\n",
       "      <td>23.021583</td>\n",
       "      <td>10.405317</td>\n",
       "    </tr>\n",
       "    <tr>\n",
       "      <th>US Airways</th>\n",
       "      <td>12.294288</td>\n",
       "      <td>11.383834</td>\n",
       "      <td>24.656788</td>\n",
       "    </tr>\n",
       "    <tr>\n",
       "      <th>American</th>\n",
       "      <td>14.940303</td>\n",
       "      <td>14.219213</td>\n",
       "      <td>21.355415</td>\n",
       "    </tr>\n",
       "  </tbody>\n",
       "</table>\n",
       "</div>"
      ],
      "text/plain": [
       "                neutrals (%)  positives (%)  negatives (%)\n",
       "Virgin America      5.517909       6.432501       1.972107\n",
       "United             22.491126      20.820990      28.688167\n",
       "Southwest          21.426267      24.121879      12.922205\n",
       "Delta              23.330106      23.021583      10.405317\n",
       "US Airways         12.294288      11.383834      24.656788\n",
       "American           14.940303      14.219213      21.355415"
      ]
     },
     "execution_count": 6,
     "metadata": {},
     "output_type": "execute_result"
    }
   ],
   "source": [
    "sentiment_airlines_percentage_df = pd.DataFrame(index = airlines);\n",
    "sentiment_airlines_percentage_df['neutrals (%)'] = list(map(lambda n: n / sum(neutrals) * 100, neutrals))\n",
    "sentiment_airlines_percentage_df['positives (%)'] = list(map(lambda n: n / sum(positives) * 100, positives))\n",
    "sentiment_airlines_percentage_df['negatives (%)'] = list(map(lambda n: n / sum(negatives) * 100, negatives))\n",
    "sentiment_airlines_percentage_df"
   ]
  },
  {
   "cell_type": "markdown",
   "id": "593d3e1a",
   "metadata": {},
   "source": [
    "<strong>According to this analysis, the most preferable airline is Southwest. Virgin America is the airline with the lowest negative feedbacks.</strong>"
   ]
  },
  {
   "cell_type": "markdown",
   "id": "c1c5a250",
   "metadata": {},
   "source": [
    "- Positive, neutral and negative <code>airline_sentiment</code> per <code>airline</code>"
   ]
  },
  {
   "cell_type": "code",
   "execution_count": 7,
   "id": "b11fcd02",
   "metadata": {},
   "outputs": [
    {
     "data": {
      "image/png": "[encoded data removed]",
      "text/plain": [
       "<Figure size 1440x360 with 1 Axes>"
      ]
     },
     "metadata": {
      "needs_background": "light"
     },
     "output_type": "display_data"
    }
   ],
   "source": [
    "sentiment_airlines_df.plot.bar(rot=0, figsize=(20,5))\n",
    "\n",
    "plt.title('Sentiment count by airlines')\n",
    "plt.xlabel('Airlines')\n",
    "plt.ylabel('number of sentiments')\n",
    "\n",
    "plt.show()"
   ]
  },
  {
   "cell_type": "code",
   "execution_count": 8,
   "id": "7a79ac38",
   "metadata": {},
   "outputs": [],
   "source": [
    "sentiment_df = df[['airline_sentiment', 'text']].copy()"
   ]
  },
  {
   "cell_type": "markdown",
   "id": "aa4866b3",
   "metadata": {},
   "source": [
    "- Get first five records"
   ]
  },
  {
   "cell_type": "code",
   "execution_count": 9,
   "id": "511b1ffa",
   "metadata": {},
   "outputs": [
    {
     "data": {
      "text/html": [
       "<div>\n",
       "<style scoped>\n",
       "    .dataframe tbody tr th:only-of-type {\n",
       "        vertical-align: middle;\n",
       "    }\n",
       "\n",
       "    .dataframe tbody tr th {\n",
       "        vertical-align: top;\n",
       "    }\n",
       "\n",
       "    .dataframe thead th {\n",
       "        text-align: right;\n",
       "    }\n",
       "</style>\n",
       "<table border=\"1\" class=\"dataframe\">\n",
       "  <thead>\n",
       "    <tr style=\"text-align: right;\">\n",
       "      <th></th>\n",
       "      <th>airline_sentiment</th>\n",
       "      <th>text</th>\n",
       "    </tr>\n",
       "  </thead>\n",
       "  <tbody>\n",
       "    <tr>\n",
       "      <th>0</th>\n",
       "      <td>neutral</td>\n",
       "      <td>@VirginAmerica What @dhepburn said.</td>\n",
       "    </tr>\n",
       "    <tr>\n",
       "      <th>1</th>\n",
       "      <td>positive</td>\n",
       "      <td>@VirginAmerica plus you've added commercials t...</td>\n",
       "    </tr>\n",
       "    <tr>\n",
       "      <th>2</th>\n",
       "      <td>neutral</td>\n",
       "      <td>@VirginAmerica I didn't today... Must mean I n...</td>\n",
       "    </tr>\n",
       "    <tr>\n",
       "      <th>3</th>\n",
       "      <td>negative</td>\n",
       "      <td>@VirginAmerica it's really aggressive to blast...</td>\n",
       "    </tr>\n",
       "    <tr>\n",
       "      <th>4</th>\n",
       "      <td>negative</td>\n",
       "      <td>@VirginAmerica and it's a really big bad thing...</td>\n",
       "    </tr>\n",
       "  </tbody>\n",
       "</table>\n",
       "</div>"
      ],
      "text/plain": [
       "  airline_sentiment                                               text\n",
       "0           neutral                @VirginAmerica What @dhepburn said.\n",
       "1          positive  @VirginAmerica plus you've added commercials t...\n",
       "2           neutral  @VirginAmerica I didn't today... Must mean I n...\n",
       "3          negative  @VirginAmerica it's really aggressive to blast...\n",
       "4          negative  @VirginAmerica and it's a really big bad thing..."
      ]
     },
     "execution_count": 9,
     "metadata": {},
     "output_type": "execute_result"
    }
   ],
   "source": [
    "sentiment_df.head()"
   ]
  },
  {
   "cell_type": "markdown",
   "id": "8babcc73",
   "metadata": {},
   "source": [
    "- Apply histogram (distribution of data) on <code>airline_sentiment</code> to check for potential class imbalance"
   ]
  },
  {
   "cell_type": "code",
   "execution_count": 10,
   "id": "54064438",
   "metadata": {},
   "outputs": [
    {
     "data": {
      "text/plain": [
       "<AxesSubplot:>"
      ]
     },
     "execution_count": 10,
     "metadata": {},
     "output_type": "execute_result"
    },
    {
     "data": {
      "image/png": "[encoded data removed]",
      "text/plain": [
       "<Figure size 432x288 with 1 Axes>"
      ]
     },
     "metadata": {
      "needs_background": "light"
     },
     "output_type": "display_data"
    }
   ],
   "source": [
    "sentiment_df['airline_sentiment'].hist()"
   ]
  },
  {
   "cell_type": "markdown",
   "id": "f41c3bbe",
   "metadata": {},
   "source": [
    "<strong style='color:red'>Class is imbalanced!</strong> Negative class overrepresented! <br/> <small>Note: Users may used social network to express dissatisfaction with a particular service.</small>"
   ]
  },
  {
   "cell_type": "markdown",
   "id": "6563625f",
   "metadata": {},
   "source": [
    "- Apply integer encoding"
   ]
  },
  {
   "cell_type": "code",
   "execution_count": 11,
   "id": "ca51350e",
   "metadata": {},
   "outputs": [],
   "source": [
    "sentiment_encode = {\n",
    "    'negative': 0, \n",
    "    'positive': 1, \n",
    "    'neutral': 2\n",
    "}"
   ]
  },
  {
   "cell_type": "code",
   "execution_count": 12,
   "id": "f8a47356",
   "metadata": {},
   "outputs": [
    {
     "data": {
      "text/html": [
       "<div>\n",
       "<style scoped>\n",
       "    .dataframe tbody tr th:only-of-type {\n",
       "        vertical-align: middle;\n",
       "    }\n",
       "\n",
       "    .dataframe tbody tr th {\n",
       "        vertical-align: top;\n",
       "    }\n",
       "\n",
       "    .dataframe thead th {\n",
       "        text-align: right;\n",
       "    }\n",
       "</style>\n",
       "<table border=\"1\" class=\"dataframe\">\n",
       "  <thead>\n",
       "    <tr style=\"text-align: right;\">\n",
       "      <th></th>\n",
       "      <th>airline_sentiment</th>\n",
       "      <th>text</th>\n",
       "      <th>encoded_sentiment</th>\n",
       "    </tr>\n",
       "  </thead>\n",
       "  <tbody>\n",
       "    <tr>\n",
       "      <th>0</th>\n",
       "      <td>neutral</td>\n",
       "      <td>@VirginAmerica What @dhepburn said.</td>\n",
       "      <td>2</td>\n",
       "    </tr>\n",
       "    <tr>\n",
       "      <th>1</th>\n",
       "      <td>positive</td>\n",
       "      <td>@VirginAmerica plus you've added commercials t...</td>\n",
       "      <td>1</td>\n",
       "    </tr>\n",
       "    <tr>\n",
       "      <th>2</th>\n",
       "      <td>neutral</td>\n",
       "      <td>@VirginAmerica I didn't today... Must mean I n...</td>\n",
       "      <td>2</td>\n",
       "    </tr>\n",
       "    <tr>\n",
       "      <th>3</th>\n",
       "      <td>negative</td>\n",
       "      <td>@VirginAmerica it's really aggressive to blast...</td>\n",
       "      <td>0</td>\n",
       "    </tr>\n",
       "    <tr>\n",
       "      <th>4</th>\n",
       "      <td>negative</td>\n",
       "      <td>@VirginAmerica and it's a really big bad thing...</td>\n",
       "      <td>0</td>\n",
       "    </tr>\n",
       "  </tbody>\n",
       "</table>\n",
       "</div>"
      ],
      "text/plain": [
       "  airline_sentiment                                               text  \\\n",
       "0           neutral                @VirginAmerica What @dhepburn said.   \n",
       "1          positive  @VirginAmerica plus you've added commercials t...   \n",
       "2           neutral  @VirginAmerica I didn't today... Must mean I n...   \n",
       "3          negative  @VirginAmerica it's really aggressive to blast...   \n",
       "4          negative  @VirginAmerica and it's a really big bad thing...   \n",
       "\n",
       "   encoded_sentiment  \n",
       "0                  2  \n",
       "1                  1  \n",
       "2                  2  \n",
       "3                  0  \n",
       "4                  0  "
      ]
     },
     "execution_count": 12,
     "metadata": {},
     "output_type": "execute_result"
    }
   ],
   "source": [
    "sentiment_df['encoded_sentiment'] = sentiment_df['airline_sentiment'].map(sentiment_encode)\n",
    "\n",
    "sentiment_df.head()"
   ]
  },
  {
   "cell_type": "markdown",
   "id": "8de140bd",
   "metadata": {},
   "source": [
    "- Split the data into two subrecords:\n",
    "<ul>\n",
    "    <li>train (30%)</li>\n",
    "    <li>test (70%)</li>\n",
    "</ul>"
   ]
  },
  {
   "cell_type": "code",
   "execution_count": 13,
   "id": "a37f3869",
   "metadata": {},
   "outputs": [
    {
     "name": "stdout",
     "output_type": "stream",
     "text": [
      "Number of train samples are: 4392.\n",
      "Number of test samles are: 10248.\n"
     ]
    }
   ],
   "source": [
    "df_train, df_test = train_test_split(sentiment_df, train_size = 0.30)\n",
    "\n",
    "print(f'Number of train samples are: {len(df_train.index)}.\\nNumber of test samles are: {len(df_test.index)}.')"
   ]
  },
  {
   "cell_type": "markdown",
   "id": "061e2544",
   "metadata": {},
   "source": [
    "- Get the last five records"
   ]
  },
  {
   "cell_type": "code",
   "execution_count": 14,
   "id": "a4ef70f9",
   "metadata": {},
   "outputs": [
    {
     "data": {
      "text/html": [
       "<div>\n",
       "<style scoped>\n",
       "    .dataframe tbody tr th:only-of-type {\n",
       "        vertical-align: middle;\n",
       "    }\n",
       "\n",
       "    .dataframe tbody tr th {\n",
       "        vertical-align: top;\n",
       "    }\n",
       "\n",
       "    .dataframe thead th {\n",
       "        text-align: right;\n",
       "    }\n",
       "</style>\n",
       "<table border=\"1\" class=\"dataframe\">\n",
       "  <thead>\n",
       "    <tr style=\"text-align: right;\">\n",
       "      <th></th>\n",
       "      <th>airline_sentiment</th>\n",
       "      <th>text</th>\n",
       "      <th>encoded_sentiment</th>\n",
       "    </tr>\n",
       "  </thead>\n",
       "  <tbody>\n",
       "    <tr>\n",
       "      <th>6344</th>\n",
       "      <td>negative</td>\n",
       "      <td>@SouthwestAir Flight 4110 MCO to ISP delayed. ...</td>\n",
       "      <td>0</td>\n",
       "    </tr>\n",
       "    <tr>\n",
       "      <th>1580</th>\n",
       "      <td>neutral</td>\n",
       "      <td>@united If an award is no longer showing avail...</td>\n",
       "      <td>2</td>\n",
       "    </tr>\n",
       "    <tr>\n",
       "      <th>7027</th>\n",
       "      <td>negative</td>\n",
       "      <td>Just in case you needed confirmation that \"on ...</td>\n",
       "      <td>0</td>\n",
       "    </tr>\n",
       "    <tr>\n",
       "      <th>10682</th>\n",
       "      <td>negative</td>\n",
       "      <td>@USAirways us air should be ashamed of this se...</td>\n",
       "      <td>0</td>\n",
       "    </tr>\n",
       "    <tr>\n",
       "      <th>10735</th>\n",
       "      <td>negative</td>\n",
       "      <td>@USAirways them and @AmericanAir</td>\n",
       "      <td>0</td>\n",
       "    </tr>\n",
       "  </tbody>\n",
       "</table>\n",
       "</div>"
      ],
      "text/plain": [
       "      airline_sentiment                                               text  \\\n",
       "6344           negative  @SouthwestAir Flight 4110 MCO to ISP delayed. ...   \n",
       "1580            neutral  @united If an award is no longer showing avail...   \n",
       "7027           negative  Just in case you needed confirmation that \"on ...   \n",
       "10682          negative  @USAirways us air should be ashamed of this se...   \n",
       "10735          negative                   @USAirways them and @AmericanAir   \n",
       "\n",
       "       encoded_sentiment  \n",
       "6344                   0  \n",
       "1580                   2  \n",
       "7027                   0  \n",
       "10682                  0  \n",
       "10735                  0  "
      ]
     },
     "execution_count": 14,
     "metadata": {},
     "output_type": "execute_result"
    }
   ],
   "source": [
    "df_train.tail()"
   ]
  },
  {
   "cell_type": "markdown",
   "id": "0b2f8619",
   "metadata": {},
   "source": [
    "- Get the last five records"
   ]
  },
  {
   "cell_type": "code",
   "execution_count": 15,
   "id": "e33859b9",
   "metadata": {},
   "outputs": [
    {
     "data": {
      "text/html": [
       "<div>\n",
       "<style scoped>\n",
       "    .dataframe tbody tr th:only-of-type {\n",
       "        vertical-align: middle;\n",
       "    }\n",
       "\n",
       "    .dataframe tbody tr th {\n",
       "        vertical-align: top;\n",
       "    }\n",
       "\n",
       "    .dataframe thead th {\n",
       "        text-align: right;\n",
       "    }\n",
       "</style>\n",
       "<table border=\"1\" class=\"dataframe\">\n",
       "  <thead>\n",
       "    <tr style=\"text-align: right;\">\n",
       "      <th></th>\n",
       "      <th>airline_sentiment</th>\n",
       "      <th>text</th>\n",
       "      <th>encoded_sentiment</th>\n",
       "    </tr>\n",
       "  </thead>\n",
       "  <tbody>\n",
       "    <tr>\n",
       "      <th>9279</th>\n",
       "      <td>neutral</td>\n",
       "      <td>@USAirways  I need to email customer service f...</td>\n",
       "      <td>2</td>\n",
       "    </tr>\n",
       "    <tr>\n",
       "      <th>9318</th>\n",
       "      <td>negative</td>\n",
       "      <td>@USAirways your lack of customer service has s...</td>\n",
       "      <td>0</td>\n",
       "    </tr>\n",
       "    <tr>\n",
       "      <th>2521</th>\n",
       "      <td>negative</td>\n",
       "      <td>@united his cell phone record needs to be chec...</td>\n",
       "      <td>0</td>\n",
       "    </tr>\n",
       "    <tr>\n",
       "      <th>10764</th>\n",
       "      <td>neutral</td>\n",
       "      <td>@USAirways How do I redeem my pass to the admi...</td>\n",
       "      <td>2</td>\n",
       "    </tr>\n",
       "    <tr>\n",
       "      <th>2759</th>\n",
       "      <td>negative</td>\n",
       "      <td>@united Don't ask me to be patient without off...</td>\n",
       "      <td>0</td>\n",
       "    </tr>\n",
       "  </tbody>\n",
       "</table>\n",
       "</div>"
      ],
      "text/plain": [
       "      airline_sentiment                                               text  \\\n",
       "9279            neutral  @USAirways  I need to email customer service f...   \n",
       "9318           negative  @USAirways your lack of customer service has s...   \n",
       "2521           negative  @united his cell phone record needs to be chec...   \n",
       "10764           neutral  @USAirways How do I redeem my pass to the admi...   \n",
       "2759           negative  @united Don't ask me to be patient without off...   \n",
       "\n",
       "       encoded_sentiment  \n",
       "9279                   2  \n",
       "9318                   0  \n",
       "2521                   0  \n",
       "10764                  2  \n",
       "2759                   0  "
      ]
     },
     "execution_count": 15,
     "metadata": {},
     "output_type": "execute_result"
    }
   ],
   "source": [
    "df_test.tail()"
   ]
  },
  {
   "cell_type": "markdown",
   "id": "bdc41557",
   "metadata": {},
   "source": [
    "- Create TD IDF vectorizer object (transforms the text into a usable vector)\n",
    "\n",
    "\n",
    "<small><code>max_features</code> limits the vocabulary size of the model to 2000</small>"
   ]
  },
  {
   "cell_type": "code",
   "execution_count": 16,
   "id": "5a7c1baf",
   "metadata": {},
   "outputs": [
    {
     "data": {
      "text/plain": [
       "TfidfVectorizer(max_features=2000)"
      ]
     },
     "execution_count": 16,
     "metadata": {},
     "output_type": "execute_result"
    }
   ],
   "source": [
    "vectorizer = TfidfVectorizer(max_features = 2000)\n",
    "vectorizer"
   ]
  },
  {
   "cell_type": "markdown",
   "id": "2cb96f5f",
   "metadata": {},
   "source": [
    "- Fit vectorizer to the training data and transform it into <code>X_train</code>"
   ]
  },
  {
   "cell_type": "code",
   "execution_count": 17,
   "id": "ce4175f6",
   "metadata": {},
   "outputs": [
    {
     "data": {
      "text/plain": [
       "<4392x2000 sparse matrix of type '<class 'numpy.float64'>'\n",
       "\twith 63875 stored elements in Compressed Sparse Row format>"
      ]
     },
     "execution_count": 17,
     "metadata": {},
     "output_type": "execute_result"
    }
   ],
   "source": [
    "X_train = vectorizer.fit_transform(df_train['text'])\n",
    "X_train"
   ]
  },
  {
   "cell_type": "markdown",
   "id": "17991880",
   "metadata": {},
   "source": [
    "- Transform the test data into <code>X_test</code>"
   ]
  },
  {
   "cell_type": "code",
   "execution_count": 18,
   "id": "a86ad97e",
   "metadata": {},
   "outputs": [
    {
     "data": {
      "text/plain": [
       "<10248x2000 sparse matrix of type '<class 'numpy.float64'>'\n",
       "\twith 144893 stored elements in Compressed Sparse Row format>"
      ]
     },
     "execution_count": 18,
     "metadata": {},
     "output_type": "execute_result"
    }
   ],
   "source": [
    "X_test = vectorizer.transform(df_test['text'])\n",
    "X_test"
   ]
  },
  {
   "cell_type": "markdown",
   "id": "c8dc1f7d",
   "metadata": {},
   "source": [
    "- Assign <code>Y_train</code> and <code>Y_test</code> to <code>encoded_sentiment</code> from previously integer encoded <code>airline_sentiment</code>"
   ]
  },
  {
   "cell_type": "code",
   "execution_count": 19,
   "id": "10bcd48e",
   "metadata": {},
   "outputs": [],
   "source": [
    "Y_train = df_train['encoded_sentiment']\n",
    "Y_test = df_test['encoded_sentiment']"
   ]
  },
  {
   "cell_type": "markdown",
   "id": "184f50d3",
   "metadata": {},
   "source": [
    "- print <code>df_train</code> data frame"
   ]
  },
  {
   "cell_type": "code",
   "execution_count": 20,
   "id": "5c4866a9",
   "metadata": {},
   "outputs": [
    {
     "data": {
      "text/html": [
       "<div>\n",
       "<style scoped>\n",
       "    .dataframe tbody tr th:only-of-type {\n",
       "        vertical-align: middle;\n",
       "    }\n",
       "\n",
       "    .dataframe tbody tr th {\n",
       "        vertical-align: top;\n",
       "    }\n",
       "\n",
       "    .dataframe thead th {\n",
       "        text-align: right;\n",
       "    }\n",
       "</style>\n",
       "<table border=\"1\" class=\"dataframe\">\n",
       "  <thead>\n",
       "    <tr style=\"text-align: right;\">\n",
       "      <th></th>\n",
       "      <th>airline_sentiment</th>\n",
       "      <th>text</th>\n",
       "      <th>encoded_sentiment</th>\n",
       "    </tr>\n",
       "  </thead>\n",
       "  <tbody>\n",
       "    <tr>\n",
       "      <th>12538</th>\n",
       "      <td>negative</td>\n",
       "      <td>@AmericanAir @emxlyy \"The wheel was broken whe...</td>\n",
       "      <td>0</td>\n",
       "    </tr>\n",
       "    <tr>\n",
       "      <th>4668</th>\n",
       "      <td>positive</td>\n",
       "      <td>@SouthwestAir I'll stick with flying for free ...</td>\n",
       "      <td>1</td>\n",
       "    </tr>\n",
       "    <tr>\n",
       "      <th>12742</th>\n",
       "      <td>negative</td>\n",
       "      <td>@AmericanAir thanks, but I had to hire a car i...</td>\n",
       "      <td>0</td>\n",
       "    </tr>\n",
       "    <tr>\n",
       "      <th>1483</th>\n",
       "      <td>negative</td>\n",
       "      <td>@united Why have you never held a plane for me...</td>\n",
       "      <td>0</td>\n",
       "    </tr>\n",
       "    <tr>\n",
       "      <th>986</th>\n",
       "      <td>negative</td>\n",
       "      <td>@united really?  Someone called in sick and th...</td>\n",
       "      <td>0</td>\n",
       "    </tr>\n",
       "    <tr>\n",
       "      <th>...</th>\n",
       "      <td>...</td>\n",
       "      <td>...</td>\n",
       "      <td>...</td>\n",
       "    </tr>\n",
       "    <tr>\n",
       "      <th>6344</th>\n",
       "      <td>negative</td>\n",
       "      <td>@SouthwestAir Flight 4110 MCO to ISP delayed. ...</td>\n",
       "      <td>0</td>\n",
       "    </tr>\n",
       "    <tr>\n",
       "      <th>1580</th>\n",
       "      <td>neutral</td>\n",
       "      <td>@united If an award is no longer showing avail...</td>\n",
       "      <td>2</td>\n",
       "    </tr>\n",
       "    <tr>\n",
       "      <th>7027</th>\n",
       "      <td>negative</td>\n",
       "      <td>Just in case you needed confirmation that \"on ...</td>\n",
       "      <td>0</td>\n",
       "    </tr>\n",
       "    <tr>\n",
       "      <th>10682</th>\n",
       "      <td>negative</td>\n",
       "      <td>@USAirways us air should be ashamed of this se...</td>\n",
       "      <td>0</td>\n",
       "    </tr>\n",
       "    <tr>\n",
       "      <th>10735</th>\n",
       "      <td>negative</td>\n",
       "      <td>@USAirways them and @AmericanAir</td>\n",
       "      <td>0</td>\n",
       "    </tr>\n",
       "  </tbody>\n",
       "</table>\n",
       "<p>4392 rows × 3 columns</p>\n",
       "</div>"
      ],
      "text/plain": [
       "      airline_sentiment                                               text  \\\n",
       "12538          negative  @AmericanAir @emxlyy \"The wheel was broken whe...   \n",
       "4668           positive  @SouthwestAir I'll stick with flying for free ...   \n",
       "12742          negative  @AmericanAir thanks, but I had to hire a car i...   \n",
       "1483           negative  @united Why have you never held a plane for me...   \n",
       "986            negative  @united really?  Someone called in sick and th...   \n",
       "...                 ...                                                ...   \n",
       "6344           negative  @SouthwestAir Flight 4110 MCO to ISP delayed. ...   \n",
       "1580            neutral  @united If an award is no longer showing avail...   \n",
       "7027           negative  Just in case you needed confirmation that \"on ...   \n",
       "10682          negative  @USAirways us air should be ashamed of this se...   \n",
       "10735          negative                   @USAirways them and @AmericanAir   \n",
       "\n",
       "       encoded_sentiment  \n",
       "12538                  0  \n",
       "4668                   1  \n",
       "12742                  0  \n",
       "1483                   0  \n",
       "986                    0  \n",
       "...                  ...  \n",
       "6344                   0  \n",
       "1580                   2  \n",
       "7027                   0  \n",
       "10682                  0  \n",
       "10735                  0  \n",
       "\n",
       "[4392 rows x 3 columns]"
      ]
     },
     "execution_count": 20,
     "metadata": {},
     "output_type": "execute_result"
    }
   ],
   "source": [
    "df_train"
   ]
  },
  {
   "cell_type": "markdown",
   "id": "8f416771",
   "metadata": {},
   "source": [
    "- print <code>df_test</code> data frame"
   ]
  },
  {
   "cell_type": "code",
   "execution_count": 21,
   "id": "dde91c1c",
   "metadata": {},
   "outputs": [
    {
     "data": {
      "text/html": [
       "<div>\n",
       "<style scoped>\n",
       "    .dataframe tbody tr th:only-of-type {\n",
       "        vertical-align: middle;\n",
       "    }\n",
       "\n",
       "    .dataframe tbody tr th {\n",
       "        vertical-align: top;\n",
       "    }\n",
       "\n",
       "    .dataframe thead th {\n",
       "        text-align: right;\n",
       "    }\n",
       "</style>\n",
       "<table border=\"1\" class=\"dataframe\">\n",
       "  <thead>\n",
       "    <tr style=\"text-align: right;\">\n",
       "      <th></th>\n",
       "      <th>airline_sentiment</th>\n",
       "      <th>text</th>\n",
       "      <th>encoded_sentiment</th>\n",
       "    </tr>\n",
       "  </thead>\n",
       "  <tbody>\n",
       "    <tr>\n",
       "      <th>13926</th>\n",
       "      <td>negative</td>\n",
       "      <td>@AmericanAir delta rerouted 6 of my bags onto ...</td>\n",
       "      <td>0</td>\n",
       "    </tr>\n",
       "    <tr>\n",
       "      <th>10997</th>\n",
       "      <td>negative</td>\n",
       "      <td>@USAirways please explain, I have plenty of ti...</td>\n",
       "      <td>0</td>\n",
       "    </tr>\n",
       "    <tr>\n",
       "      <th>2087</th>\n",
       "      <td>negative</td>\n",
       "      <td>@united we have tried to change our flight THR...</td>\n",
       "      <td>0</td>\n",
       "    </tr>\n",
       "    <tr>\n",
       "      <th>8873</th>\n",
       "      <td>neutral</td>\n",
       "      <td>@JetBlue I applied for a job at PDW where coul...</td>\n",
       "      <td>2</td>\n",
       "    </tr>\n",
       "    <tr>\n",
       "      <th>10224</th>\n",
       "      <td>negative</td>\n",
       "      <td>@USAirways You are 0 for 3 so far in on-time f...</td>\n",
       "      <td>0</td>\n",
       "    </tr>\n",
       "    <tr>\n",
       "      <th>...</th>\n",
       "      <td>...</td>\n",
       "      <td>...</td>\n",
       "      <td>...</td>\n",
       "    </tr>\n",
       "    <tr>\n",
       "      <th>9279</th>\n",
       "      <td>neutral</td>\n",
       "      <td>@USAirways  I need to email customer service f...</td>\n",
       "      <td>2</td>\n",
       "    </tr>\n",
       "    <tr>\n",
       "      <th>9318</th>\n",
       "      <td>negative</td>\n",
       "      <td>@USAirways your lack of customer service has s...</td>\n",
       "      <td>0</td>\n",
       "    </tr>\n",
       "    <tr>\n",
       "      <th>2521</th>\n",
       "      <td>negative</td>\n",
       "      <td>@united his cell phone record needs to be chec...</td>\n",
       "      <td>0</td>\n",
       "    </tr>\n",
       "    <tr>\n",
       "      <th>10764</th>\n",
       "      <td>neutral</td>\n",
       "      <td>@USAirways How do I redeem my pass to the admi...</td>\n",
       "      <td>2</td>\n",
       "    </tr>\n",
       "    <tr>\n",
       "      <th>2759</th>\n",
       "      <td>negative</td>\n",
       "      <td>@united Don't ask me to be patient without off...</td>\n",
       "      <td>0</td>\n",
       "    </tr>\n",
       "  </tbody>\n",
       "</table>\n",
       "<p>10248 rows × 3 columns</p>\n",
       "</div>"
      ],
      "text/plain": [
       "      airline_sentiment                                               text  \\\n",
       "13926          negative  @AmericanAir delta rerouted 6 of my bags onto ...   \n",
       "10997          negative  @USAirways please explain, I have plenty of ti...   \n",
       "2087           negative  @united we have tried to change our flight THR...   \n",
       "8873            neutral  @JetBlue I applied for a job at PDW where coul...   \n",
       "10224          negative  @USAirways You are 0 for 3 so far in on-time f...   \n",
       "...                 ...                                                ...   \n",
       "9279            neutral  @USAirways  I need to email customer service f...   \n",
       "9318           negative  @USAirways your lack of customer service has s...   \n",
       "2521           negative  @united his cell phone record needs to be chec...   \n",
       "10764           neutral  @USAirways How do I redeem my pass to the admi...   \n",
       "2759           negative  @united Don't ask me to be patient without off...   \n",
       "\n",
       "       encoded_sentiment  \n",
       "13926                  0  \n",
       "10997                  0  \n",
       "2087                   0  \n",
       "8873                   2  \n",
       "10224                  0  \n",
       "...                  ...  \n",
       "9279                   2  \n",
       "9318                   0  \n",
       "2521                   0  \n",
       "10764                  2  \n",
       "2759                   0  \n",
       "\n",
       "[10248 rows x 3 columns]"
      ]
     },
     "execution_count": 21,
     "metadata": {},
     "output_type": "execute_result"
    }
   ],
   "source": [
    "df_test"
   ]
  },
  {
   "cell_type": "markdown",
   "id": "aadf5cfb",
   "metadata": {},
   "source": [
    "- Build a logistic reggression instace \n",
    "\n",
    "<small><code>max_iter</code> number of training processes taken to converge with the default values</small>"
   ]
  },
  {
   "cell_type": "code",
   "execution_count": 22,
   "id": "d1820113",
   "metadata": {},
   "outputs": [],
   "source": [
    "model = LogisticRegression(max_iter = 500)"
   ]
  },
  {
   "cell_type": "markdown",
   "id": "e3ac5399",
   "metadata": {},
   "source": [
    "- Fit the both train sets to the model"
   ]
  },
  {
   "cell_type": "code",
   "execution_count": 23,
   "id": "696d86e0",
   "metadata": {},
   "outputs": [
    {
     "data": {
      "text/plain": [
       "LogisticRegression(max_iter=500)"
      ]
     },
     "execution_count": 23,
     "metadata": {},
     "output_type": "execute_result"
    }
   ],
   "source": [
    "model.fit(X_train, Y_train)"
   ]
  },
  {
   "cell_type": "markdown",
   "id": "8aba28c1",
   "metadata": {},
   "source": [
    "- Print train set accuracy"
   ]
  },
  {
   "cell_type": "code",
   "execution_count": 24,
   "id": "7d2a4b7c",
   "metadata": {},
   "outputs": [
    {
     "name": "stdout",
     "output_type": "stream",
     "text": [
      "Train acc: 0.855191256830601\n"
     ]
    }
   ],
   "source": [
    "print(\"Train acc:\", model.score(X_train, Y_train))"
   ]
  },
  {
   "cell_type": "markdown",
   "id": "2199e2a5",
   "metadata": {},
   "source": [
    "- Print test set accuracy"
   ]
  },
  {
   "cell_type": "code",
   "execution_count": 25,
   "id": "55189152",
   "metadata": {},
   "outputs": [
    {
     "name": "stdout",
     "output_type": "stream",
     "text": [
      "Test acc: 0.7772248243559718\n"
     ]
    }
   ],
   "source": [
    "print(\"Test acc:\", model.score(X_test, Y_test))"
   ]
  },
  {
   "cell_type": "markdown",
   "id": "7caed6fb",
   "metadata": {},
   "source": [
    "<small style='color:red'>Note: Both results cannot be interpreted in isolation since there are imbalanced classes</small>"
   ]
  },
  {
   "cell_type": "markdown",
   "id": "d385e3a8",
   "metadata": {},
   "source": [
    "- Check the AUC (infer the class probabilities)"
   ]
  },
  {
   "cell_type": "code",
   "execution_count": 26,
   "id": "80327c8b",
   "metadata": {},
   "outputs": [],
   "source": [
    "Pr_train = model.predict_proba(X_train)\n",
    "Pr_test = model.predict_proba(X_test)"
   ]
  },
  {
   "cell_type": "markdown",
   "id": "b6f89d0f",
   "metadata": {},
   "source": [
    "- Print train AUC"
   ]
  },
  {
   "cell_type": "code",
   "execution_count": 27,
   "id": "bc27d596",
   "metadata": {},
   "outputs": [
    {
     "name": "stdout",
     "output_type": "stream",
     "text": [
      "Train AUC: 0.9530153554742212\n"
     ]
    }
   ],
   "source": [
    "print(\"Train AUC:\", roc_auc_score(Y_train, Pr_train, multi_class = 'ovo'))"
   ]
  },
  {
   "cell_type": "markdown",
   "id": "da996940",
   "metadata": {},
   "source": [
    "- Print test AUC"
   ]
  },
  {
   "cell_type": "code",
   "execution_count": 28,
   "id": "90e69c7f",
   "metadata": {},
   "outputs": [
    {
     "name": "stdout",
     "output_type": "stream",
     "text": [
      "Test acc: 0.8787928554321\n"
     ]
    }
   ],
   "source": [
    "print(\"Test acc:\", roc_auc_score(Y_test, Pr_test, multi_class = 'ovo'))"
   ]
  },
  {
   "cell_type": "markdown",
   "id": "20b52961",
   "metadata": {},
   "source": [
    "- Get the class labels predictions"
   ]
  },
  {
   "cell_type": "code",
   "execution_count": 29,
   "id": "59301206",
   "metadata": {},
   "outputs": [],
   "source": [
    "P_train = model.predict(X_train)\n",
    "P_test = model.predict(X_test)"
   ]
  },
  {
   "cell_type": "markdown",
   "id": "02e8af65",
   "metadata": {},
   "source": [
    "- Call the confusion matrix function"
   ]
  },
  {
   "cell_type": "code",
   "execution_count": 30,
   "id": "7f5dd412",
   "metadata": {},
   "outputs": [
    {
     "data": {
      "text/plain": [
       "array([[0.97704448, 0.00466284, 0.01829268],\n",
       "       [0.24613221, 0.69620253, 0.05766526],\n",
       "       [0.34714446, 0.05151176, 0.60134378]])"
      ]
     },
     "execution_count": 30,
     "metadata": {},
     "output_type": "execute_result"
    }
   ],
   "source": [
    "cm = confusion_matrix(Y_train, P_train, normalize='true')\n",
    "cm"
   ]
  },
  {
   "cell_type": "markdown",
   "id": "1066e943",
   "metadata": {},
   "source": [
    "- Plot the confusion matrix"
   ]
  },
  {
   "cell_type": "code",
   "execution_count": 31,
   "id": "84ddb6ea",
   "metadata": {},
   "outputs": [],
   "source": [
    "classes = ['negative', 'positive', 'neutral'] "
   ]
  },
  {
   "cell_type": "code",
   "execution_count": 32,
   "id": "9a38b196",
   "metadata": {},
   "outputs": [
    {
     "data": {
      "text/plain": [
       "Text(33.0, 0.5, 'Target')"
      ]
     },
     "execution_count": 32,
     "metadata": {},
     "output_type": "execute_result"
    },
    {
     "data": {
      "image/png": "[encoded data removed]",
      "text/plain": [
       "<Figure size 432x288 with 2 Axes>"
      ]
     },
     "metadata": {
      "needs_background": "light"
     },
     "output_type": "display_data"
    }
   ],
   "source": [
    "df_cm = pd.DataFrame(cm, index=classes, columns=classes)\n",
    "\n",
    "ax = sn.heatmap(df_cm, annot=True, fmt='g')\n",
    "ax.set_xlabel(\"Predicted\")\n",
    "ax.set_ylabel(\"Target\")"
   ]
  },
  {
   "cell_type": "markdown",
   "id": "3f1b3540",
   "metadata": {},
   "source": [
    "<ul>\n",
    "    <li>Model do very well on negative class</li>\n",
    "    <li>For positive class we get around 70 %</li>\n",
    "    <li>When we do not predict the positive class corectly, we actually predict negative rather than neutral (it seems that there is a little chance of confusing positive tweets with neutral tweets)</li>\n",
    "    <li>Predicting neutral is the worst. If we predict wrong neutral, it will be rather negative than positive</li>\n",
    "</ul>\n",
    "\n",
    "<small>Note: Model is biased towards the negative class as it is overrepsented class</small>"
   ]
  },
  {
   "cell_type": "code",
   "execution_count": 33,
   "id": "bc5c6e4c",
   "metadata": {},
   "outputs": [
    {
     "data": {
      "text/plain": [
       "array([[0.95962441, 0.0114241 , 0.02895149],\n",
       "       [0.33535109, 0.53995157, 0.12469734],\n",
       "       [0.52719855, 0.04623753, 0.42656392]])"
      ]
     },
     "execution_count": 33,
     "metadata": {},
     "output_type": "execute_result"
    }
   ],
   "source": [
    "cm_test = confusion_matrix(Y_test, P_test, normalize='true')\n",
    "cm_test"
   ]
  },
  {
   "cell_type": "code",
   "execution_count": 34,
   "id": "d8b5511e",
   "metadata": {},
   "outputs": [
    {
     "data": {
      "text/plain": [
       "Text(33.0, 0.5, 'Target')"
      ]
     },
     "execution_count": 34,
     "metadata": {},
     "output_type": "execute_result"
    },
    {
     "data": {
      "image/png": "[encoded data removed]",
      "text/plain": [
       "<Figure size 432x288 with 2 Axes>"
      ]
     },
     "metadata": {
      "needs_background": "light"
     },
     "output_type": "display_data"
    }
   ],
   "source": [
    "df_cm = pd.DataFrame(cm_test, index=classes, columns=classes)\n",
    "\n",
    "ax = sn.heatmap(df_cm, annot=True, fmt='g')\n",
    "ax.set_xlabel(\"Predicted\")\n",
    "ax.set_ylabel(\"Target\")"
   ]
  },
  {
   "cell_type": "markdown",
   "id": "e0c85b58",
   "metadata": {},
   "source": [
    "<small style='color:red'>Performance is a bit worse! It's biased towards negative class.</small>"
   ]
  },
  {
   "cell_type": "markdown",
   "id": "9759109d",
   "metadata": {},
   "source": [
    "<h3>Train model without neutral class</h3>"
   ]
  },
  {
   "cell_type": "markdown",
   "id": "dec72040",
   "metadata": {},
   "source": [
    "- Take the samples that are classified as positive and negative"
   ]
  },
  {
   "cell_type": "code",
   "execution_count": 35,
   "id": "ebc965c9",
   "metadata": {},
   "outputs": [
    {
     "data": {
      "text/plain": [
       "[1, 0]"
      ]
     },
     "execution_count": 35,
     "metadata": {},
     "output_type": "execute_result"
    }
   ],
   "source": [
    "binary_target_list = [sentiment_encode['positive'], sentiment_encode['negative']]                    \n",
    "binary_target_list        "
   ]
  },
  {
   "cell_type": "markdown",
   "id": "6202d03e",
   "metadata": {},
   "source": [
    "- Filter the rows with the <code>encoded_sentiment</code> equal to 2"
   ]
  },
  {
   "cell_type": "code",
   "execution_count": 36,
   "id": "f9e7f9a7",
   "metadata": {},
   "outputs": [
    {
     "name": "stdout",
     "output_type": "stream",
     "text": [
      "Number of neutral airline_sentiment: 0\n",
      "Number of neutral airline_sentiment: 0\n"
     ]
    }
   ],
   "source": [
    "df_b_train = df_train[df_train['encoded_sentiment'] != 2]\n",
    "df_b_test = df_test[df_test['encoded_sentiment'] != 2]\n",
    "\n",
    "print(\"Number of neutral airline_sentiment:\", df_b_train.query('airline_sentiment == \"neutral\"')['airline_sentiment'].count())\n",
    "print(\"Number of neutral airline_sentiment:\", df_b_test.query('airline_sentiment == \"neutral\"')['airline_sentiment'].count())"
   ]
  },
  {
   "cell_type": "markdown",
   "id": "b081448b",
   "metadata": {},
   "source": [
    "- Print last five records"
   ]
  },
  {
   "cell_type": "code",
   "execution_count": 37,
   "id": "5151195a",
   "metadata": {},
   "outputs": [
    {
     "data": {
      "text/html": [
       "<div>\n",
       "<style scoped>\n",
       "    .dataframe tbody tr th:only-of-type {\n",
       "        vertical-align: middle;\n",
       "    }\n",
       "\n",
       "    .dataframe tbody tr th {\n",
       "        vertical-align: top;\n",
       "    }\n",
       "\n",
       "    .dataframe thead th {\n",
       "        text-align: right;\n",
       "    }\n",
       "</style>\n",
       "<table border=\"1\" class=\"dataframe\">\n",
       "  <thead>\n",
       "    <tr style=\"text-align: right;\">\n",
       "      <th></th>\n",
       "      <th>airline_sentiment</th>\n",
       "      <th>text</th>\n",
       "      <th>encoded_sentiment</th>\n",
       "    </tr>\n",
       "  </thead>\n",
       "  <tbody>\n",
       "    <tr>\n",
       "      <th>9767</th>\n",
       "      <td>negative</td>\n",
       "      <td>@USAirways why does this flight keep getting d...</td>\n",
       "      <td>0</td>\n",
       "    </tr>\n",
       "    <tr>\n",
       "      <th>6344</th>\n",
       "      <td>negative</td>\n",
       "      <td>@SouthwestAir Flight 4110 MCO to ISP delayed. ...</td>\n",
       "      <td>0</td>\n",
       "    </tr>\n",
       "    <tr>\n",
       "      <th>7027</th>\n",
       "      <td>negative</td>\n",
       "      <td>Just in case you needed confirmation that \"on ...</td>\n",
       "      <td>0</td>\n",
       "    </tr>\n",
       "    <tr>\n",
       "      <th>10682</th>\n",
       "      <td>negative</td>\n",
       "      <td>@USAirways us air should be ashamed of this se...</td>\n",
       "      <td>0</td>\n",
       "    </tr>\n",
       "    <tr>\n",
       "      <th>10735</th>\n",
       "      <td>negative</td>\n",
       "      <td>@USAirways them and @AmericanAir</td>\n",
       "      <td>0</td>\n",
       "    </tr>\n",
       "  </tbody>\n",
       "</table>\n",
       "</div>"
      ],
      "text/plain": [
       "      airline_sentiment                                               text  \\\n",
       "9767           negative  @USAirways why does this flight keep getting d...   \n",
       "6344           negative  @SouthwestAir Flight 4110 MCO to ISP delayed. ...   \n",
       "7027           negative  Just in case you needed confirmation that \"on ...   \n",
       "10682          negative  @USAirways us air should be ashamed of this se...   \n",
       "10735          negative                   @USAirways them and @AmericanAir   \n",
       "\n",
       "       encoded_sentiment  \n",
       "9767                   0  \n",
       "6344                   0  \n",
       "7027                   0  \n",
       "10682                  0  \n",
       "10735                  0  "
      ]
     },
     "execution_count": 37,
     "metadata": {},
     "output_type": "execute_result"
    }
   ],
   "source": [
    "df_b_train.tail()"
   ]
  },
  {
   "cell_type": "markdown",
   "id": "d79cd0f3",
   "metadata": {},
   "source": [
    "- Convert dataset into TD IDF vectorizer object"
   ]
  },
  {
   "cell_type": "code",
   "execution_count": 38,
   "id": "275c4404",
   "metadata": {},
   "outputs": [],
   "source": [
    "X_train = vectorizer.fit_transform(df_b_train[\"text\"])\n",
    "X_test = vectorizer.fit_transform(df_b_test[\"text\"])"
   ]
  },
  {
   "cell_type": "markdown",
   "id": "d2f4cec0",
   "metadata": {},
   "source": [
    "- Get the <code>encoded_sentiment</code> classes and obtain <code>Y_train</code> and <code>Y_test</code>"
   ]
  },
  {
   "cell_type": "code",
   "execution_count": 39,
   "id": "b28d7671",
   "metadata": {},
   "outputs": [],
   "source": [
    "Y_train = df_b_train['encoded_sentiment']\n",
    "Y_test = df_b_test['encoded_sentiment']"
   ]
  },
  {
   "cell_type": "markdown",
   "id": "29329b3b",
   "metadata": {},
   "source": [
    "- Train a new model on binary dataset"
   ]
  },
  {
   "cell_type": "code",
   "execution_count": 40,
   "id": "d30b9a89",
   "metadata": {},
   "outputs": [
    {
     "data": {
      "text/plain": [
       "LogisticRegression(max_iter=500)"
      ]
     },
     "execution_count": 40,
     "metadata": {},
     "output_type": "execute_result"
    }
   ],
   "source": [
    "model = LogisticRegression(max_iter=500)\n",
    "model.fit(X_train, Y_train)"
   ]
  },
  {
   "cell_type": "markdown",
   "id": "01b2bd57",
   "metadata": {},
   "source": [
    "- Print the binary accuracy"
   ]
  },
  {
   "cell_type": "code",
   "execution_count": 41,
   "id": "73d8692d",
   "metadata": {},
   "outputs": [
    {
     "name": "stdout",
     "output_type": "stream",
     "text": [
      "Train acc: 0.9111174621320377\n",
      "Test acc: 0.7838846058194479\n"
     ]
    }
   ],
   "source": [
    "print(\"Train acc:\", model.score(X_train, Y_train))\n",
    "print(\"Test acc:\", model.score(X_test, Y_test))"
   ]
  },
  {
   "cell_type": "markdown",
   "id": "4609464c",
   "metadata": {},
   "source": [
    "- Compute the AUC\n",
    "\n",
    "<small>Because we have binary classes, we only need one complement index 1 from the probabilities</small>"
   ]
  },
  {
   "cell_type": "code",
   "execution_count": 42,
   "id": "bc01a858",
   "metadata": {},
   "outputs": [],
   "source": [
    "Pr_train = model.predict_proba(X_train)[:, 1]\n",
    "Pr_test = model.predict_proba(X_test)[:, 1]"
   ]
  },
  {
   "cell_type": "markdown",
   "id": "accfd97d",
   "metadata": {},
   "source": [
    "- Print the binary accuracy"
   ]
  },
  {
   "cell_type": "code",
   "execution_count": 43,
   "id": "c91f81eb",
   "metadata": {},
   "outputs": [
    {
     "name": "stdout",
     "output_type": "stream",
     "text": [
      "Train AUC: 0.9790585834004283\n",
      "Test AUC: 0.5829017892666735\n"
     ]
    }
   ],
   "source": [
    "print(\"Train AUC:\", roc_auc_score(Y_train, Pr_train))\n",
    "print(\"Test AUC:\", roc_auc_score(Y_test, Pr_test))"
   ]
  },
  {
   "cell_type": "markdown",
   "id": "43436ba0",
   "metadata": {},
   "source": [
    "- Obtain a weights from the trained model"
   ]
  },
  {
   "cell_type": "code",
   "execution_count": 44,
   "id": "aee0a2fb",
   "metadata": {},
   "outputs": [
    {
     "data": {
      "text/plain": [
       "array([[-0.0617696 , -0.14976316, -0.56141979, ...,  0.11191977,\n",
       "         0.03613709, -0.37953891]])"
      ]
     },
     "execution_count": 44,
     "metadata": {},
     "output_type": "execute_result"
    }
   ],
   "source": [
    "model.coef_"
   ]
  },
  {
   "cell_type": "markdown",
   "id": "9730b5a5",
   "metadata": {},
   "source": [
    "- Plot the histogram of the weights\n",
    "\n",
    "<small></small>"
   ]
  },
  {
   "cell_type": "code",
   "execution_count": 45,
   "id": "eb4d99dc",
   "metadata": {},
   "outputs": [
    {
     "data": {
      "text/plain": [
       "(array([  1.,   0.,   0.,   1.,   0.,   3.,   2.,   6.,   6.,  12.,  40.,\n",
       "         88., 235., 875., 359., 202.,  82.,  47.,  21.,   5.,   2.,   1.,\n",
       "          2.,   2.,   3.,   2.,   1.,   0.,   0.,   0.,   0.,   0.,   0.,\n",
       "          0.,   0.,   0.,   0.,   0.,   1.,   1.]),\n",
       " array([-3.42819902, -3.18465537, -2.94111171, -2.69756805, -2.45402439,\n",
       "        -2.21048073, -1.96693707, -1.72339341, -1.47984975, -1.2363061 ,\n",
       "        -0.99276244, -0.74921878, -0.50567512, -0.26213146, -0.0185878 ,\n",
       "         0.22495586,  0.46849952,  0.71204317,  0.95558683,  1.19913049,\n",
       "         1.44267415,  1.68621781,  1.92976147,  2.17330513,  2.41684878,\n",
       "         2.66039244,  2.9039361 ,  3.14747976,  3.39102342,  3.63456708,\n",
       "         3.87811074,  4.1216544 ,  4.36519805,  4.60874171,  4.85228537,\n",
       "         5.09582903,  5.33937269,  5.58291635,  5.82646001,  6.07000367,\n",
       "         6.31354732]),\n",
       " <BarContainer object of 40 artists>)"
      ]
     },
     "execution_count": 45,
     "metadata": {},
     "output_type": "execute_result"
    },
    {
     "data": {
      "image/png": "[encoded data removed]",
      "text/plain": [
       "<Figure size 432x288 with 1 Axes>"
      ]
     },
     "metadata": {
      "needs_background": "light"
     },
     "output_type": "display_data"
    }
   ],
   "source": [
    "plt.hist(model.coef_[0], bins = 40)"
   ]
  },
  {
   "cell_type": "markdown",
   "id": "5340a04f",
   "metadata": {},
   "source": [
    "- Obtain the words to index mapping because we won't know which words correspond to which input"
   ]
  },
  {
   "cell_type": "code",
   "execution_count": 46,
   "id": "caf88ec5",
   "metadata": {},
   "outputs": [
    {
     "data": {
      "text/plain": [
       "{'americanair': 141,\n",
       " 'delta': 516,\n",
       " 'rerouted': 1461,\n",
       " 'of': 1228,\n",
       " 'my': 1181,\n",
       " 'bags': 222,\n",
       " 'onto': 1249,\n",
       " 'mia': 1137,\n",
       " 'how': 898,\n",
       " 'can': 306,\n",
       " 'see': 1533,\n",
       " 'if': 917,\n",
       " 'they': 1740,\n",
       " 'made': 1089,\n",
       " 'it': 964,\n",
       " 'the': 1734,\n",
       " 'flight': 719,\n",
       " 'usairways': 1860,\n",
       " 'please': 1339,\n",
       " 'explain': 654,\n",
       " 'have': 846,\n",
       " 'plenty': 1340,\n",
       " 'time': 1763,\n",
       " 'since': 1574,\n",
       " 'stranded': 1665,\n",
       " 'united': 1842,\n",
       " 'we': 1909,\n",
       " 'tried': 1800,\n",
       " 'to': 1769,\n",
       " 'change': 340,\n",
       " 'our': 1264,\n",
       " 'three': 1752,\n",
       " 'times': 1764,\n",
       " 'on': 1242,\n",
       " 'phone': 1316,\n",
       " 'and': 146,\n",
       " 'got': 808,\n",
       " 'disconnected': 552,\n",
       " 'each': 588,\n",
       " 'you': 1994,\n",
       " 'are': 173,\n",
       " 'for': 746,\n",
       " 'so': 1599,\n",
       " 'far': 676,\n",
       " 'in': 929,\n",
       " 'flights': 730,\n",
       " 'this': 1746,\n",
       " 'vacation': 1871,\n",
       " 'lost': 1069,\n",
       " 'there': 1738,\n",
       " 'was': 1897,\n",
       " 'from': 765,\n",
       " 'chi': 357,\n",
       " 'that': 1732,\n",
       " 'landed': 1003,\n",
       " 'over': 1270,\n",
       " 'hrs': 901,\n",
       " 'ago': 110,\n",
       " 'yet': 1992,\n",
       " 'still': 1655,\n",
       " 'zero': 1999,\n",
       " 'updates': 1852,\n",
       " 'jetblue': 972,\n",
       " 'do': 560,\n",
       " 'need': 1192,\n",
       " 'late': 1009,\n",
       " 'flightr': 729,\n",
       " 'one': 1245,\n",
       " 'guys': 820,\n",
       " 'changed': 341,\n",
       " 'now': 1222,\n",
       " 'as': 182,\n",
       " 'flyer': 737,\n",
       " 'makes': 1096,\n",
       " 'me': 1114,\n",
       " 'sad': 1504,\n",
       " 'cust': 477,\n",
       " 'assistance': 190,\n",
       " 'treated': 1798,\n",
       " 'poorly': 1351,\n",
       " 'why': 1941,\n",
       " 'board': 257,\n",
       " 'plane': 1331,\n",
       " 'knowing': 993,\n",
       " 'is': 959,\n",
       " 'issue': 961,\n",
       " 'thanks': 1730,\n",
       " 'reply': 1454,\n",
       " 'saw': 1516,\n",
       " 'but': 291,\n",
       " 'not': 1212,\n",
       " 'helpful': 864,\n",
       " 'flying': 740,\n",
       " 'those': 1749,\n",
       " 'specific': 1625,\n",
       " 'southwestair': 1619,\n",
       " 'many': 1104,\n",
       " 'before': 237,\n",
       " 'stop': 1659,\n",
       " 'trying': 1810,\n",
       " 'sell': 1538,\n",
       " 'us': 1858,\n",
       " 'credit': 465,\n",
       " 'card': 314,\n",
       " 'http': 902,\n",
       " 'co': 385,\n",
       " 'your': 1996,\n",
       " 'customer': 478,\n",
       " 'service': 1545,\n",
       " 'leaves': 1017,\n",
       " 'much': 1177,\n",
       " 'be': 233,\n",
       " 'folks': 741,\n",
       " 'handling': 830,\n",
       " 'calls': 303,\n",
       " 'could': 447,\n",
       " 'care': 315,\n",
       " 'less': 1023,\n",
       " 'shows': 1565,\n",
       " 'already': 132,\n",
       " 'spoke': 1631,\n",
       " 'someone': 1608,\n",
       " 'several': 1548,\n",
       " 'about': 71,\n",
       " 'matter': 1108,\n",
       " 'no': 1206,\n",
       " 'or': 1254,\n",
       " 'will': 1945,\n",
       " 'fly': 736,\n",
       " 'home': 880,\n",
       " 'early': 590,\n",
       " 'man': 1099,\n",
       " 'baggage': 221,\n",
       " 'office': 1233,\n",
       " 'says': 1519,\n",
       " 'help': 862,\n",
       " 'adding': 96,\n",
       " 'reservation': 1465,\n",
       " 'app': 168,\n",
       " 'doesn': 562,\n",
       " 'show': 1562,\n",
       " 'up': 1849,\n",
       " 'site': 1579,\n",
       " 'when': 1932,\n",
       " 'miles': 1144,\n",
       " 'upgrades': 1855,\n",
       " 'thru': 1755,\n",
       " 'more': 1167,\n",
       " 'loyal': 1081,\n",
       " 'customers': 479,\n",
       " 'happy': 839,\n",
       " 'by': 294,\n",
       " 'near': 1190,\n",
       " 'gate': 784,\n",
       " 'mean': 1116,\n",
       " 'sitting': 1580,\n",
       " 'almost': 129,\n",
       " 'hours': 895,\n",
       " 'then': 1737,\n",
       " 'yeah': 1985,\n",
       " 'virginamerica': 1881,\n",
       " 'sfo': 1550,\n",
       " 'pdx': 1301,\n",
       " 'schedule': 1520,\n",
       " 'didn': 538,\n",
       " 'want': 1892,\n",
       " 'cancelled': 307,\n",
       " 'wanted': 1893,\n",
       " 'take': 1703,\n",
       " 'off': 1229,\n",
       " 'keep': 982,\n",
       " 'price': 1370,\n",
       " 'held': 859,\n",
       " 'at': 191,\n",
       " 'today': 1770,\n",
       " 'go': 799,\n",
       " 'client': 376,\n",
       " 'cant': 311,\n",
       " 'get': 789,\n",
       " 'refund': 1438,\n",
       " 'filled': 702,\n",
       " 'out': 1265,\n",
       " 'form': 751,\n",
       " 'works': 1967,\n",
       " 'past': 1293,\n",
       " 'an': 145,\n",
       " 'has': 842,\n",
       " 'accurate': 88,\n",
       " 'delayed': 510,\n",
       " 'dept': 526,\n",
       " 'hear': 854,\n",
       " 'same': 1510,\n",
       " 'just': 981,\n",
       " 'curious': 474,\n",
       " 'mechanical': 1120,\n",
       " 'delay': 509,\n",
       " 'houston': 897,\n",
       " 'earlier': 589,\n",
       " 're': 1417,\n",
       " 'their': 1735,\n",
       " 'ord': 1255,\n",
       " 'because': 235,\n",
       " 'frozen': 767,\n",
       " 'fail': 665,\n",
       " 'make': 1095,\n",
       " 'connection': 426,\n",
       " 'denver': 519,\n",
       " 'which': 1935,\n",
       " 'finally': 704,\n",
       " 'flightled': 727,\n",
       " 'while': 1936,\n",
       " 'ground': 813,\n",
       " 'longer': 1060,\n",
       " 'than': 1728,\n",
       " 'air': 114,\n",
       " 'bad': 216,\n",
       " 'weather': 1911,\n",
       " 'happens': 838,\n",
       " 'lack': 998,\n",
       " 'good': 806,\n",
       " 'business': 289,\n",
       " 'clothes': 379,\n",
       " 'back': 215,\n",
       " 'airport': 120,\n",
       " 'wasn': 1899,\n",
       " 'going': 802,\n",
       " 'pay': 1298,\n",
       " 'another': 153,\n",
       " 'cab': 295,\n",
       " 'always': 136,\n",
       " 'fun': 775,\n",
       " 'screwed': 1524,\n",
       " 'isn': 960,\n",
       " 'full': 774,\n",
       " 'great': 812,\n",
       " 'airline': 117,\n",
       " 'attendant': 195,\n",
       " 'understand': 1835,\n",
       " 'english': 613,\n",
       " 'them': 1736,\n",
       " 'phl': 1313,\n",
       " 'think': 1743,\n",
       " 'left': 1019,\n",
       " 'love': 1074,\n",
       " 'jet': 971,\n",
       " 'blue': 255,\n",
       " 'tho': 1748,\n",
       " 'rebooked': 1429,\n",
       " 'arrived': 179,\n",
       " 'last': 1008,\n",
       " 'year': 1986,\n",
       " 'san': 1511,\n",
       " 'diego': 540,\n",
       " 'inflight': 941,\n",
       " 'entertainment': 617,\n",
       " 'yes': 1990,\n",
       " 'amp': 144,\n",
       " 'would': 1976,\n",
       " 'come': 392,\n",
       " 'never': 1195,\n",
       " 'happened': 836,\n",
       " 'any': 158,\n",
       " 'first': 710,\n",
       " 'with': 1951,\n",
       " 'disappointed': 549,\n",
       " 'after': 104,\n",
       " 'original': 1257,\n",
       " 'charlotte': 350,\n",
       " '1hr': 17,\n",
       " 'been': 236,\n",
       " 'amazing': 138,\n",
       " 'best': 243,\n",
       " 'ever': 630,\n",
       " 'am': 137,\n",
       " 'kidding': 987,\n",
       " 'incredible': 936,\n",
       " 'car': 313,\n",
       " 'way': 1907,\n",
       " 'missed': 1155,\n",
       " 'dca': 497,\n",
       " 'line': 1039,\n",
       " 'hr': 900,\n",
       " 'wait': 1885,\n",
       " 'thx': 1757,\n",
       " 'update': 1850,\n",
       " 've': 1874,\n",
       " 'through': 1753,\n",
       " 'book': 262,\n",
       " 'system': 1700,\n",
       " 'let': 1025,\n",
       " 'day': 494,\n",
       " 'ridiculous': 1482,\n",
       " 'know': 992,\n",
       " 'nothing': 1216,\n",
       " 'll': 1049,\n",
       " 'sure': 1688,\n",
       " 'everyone': 632,\n",
       " 'knows': 995,\n",
       " '2nd': 35,\n",
       " 'don': 568,\n",
       " 'something': 1609,\n",
       " 'else': 600,\n",
       " 'deal': 500,\n",
       " 'again': 106,\n",
       " 'killing': 989,\n",
       " 'send': 1539,\n",
       " 'number': 1223,\n",
       " 'call': 299,\n",
       " 'talk': 1708,\n",
       " 'person': 1308,\n",
       " 'put': 1401,\n",
       " 'hold': 877,\n",
       " 'message': 1133,\n",
       " 'anyone': 160,\n",
       " 'every': 631,\n",
       " 'had': 822,\n",
       " 'worst': 1973,\n",
       " 'experience': 650,\n",
       " 'airlines': 118,\n",
       " 'plans': 1335,\n",
       " 'southwest': 1618,\n",
       " 'crappy': 461,\n",
       " 'look': 1061,\n",
       " 'forward': 754,\n",
       " 'having': 848,\n",
       " 'both': 267,\n",
       " 'high': 871,\n",
       " 'five': 712,\n",
       " 'does': 561,\n",
       " 'actually': 93,\n",
       " 'work': 1963,\n",
       " 'dividend': 558,\n",
       " 'department': 523,\n",
       " 'what': 1928,\n",
       " 'forgot': 750,\n",
       " 'tell': 1718,\n",
       " 'coming': 395,\n",
       " 'allowing': 128,\n",
       " 'miss': 1154,\n",
       " 'looking': 1063,\n",
       " 'reason': 1425,\n",
       " 'travel': 1791,\n",
       " 'thank': 1729,\n",
       " 'dealing': 501,\n",
       " 'multiple': 1178,\n",
       " 'days': 495,\n",
       " 'completely': 409,\n",
       " 'unless': 1845,\n",
       " 'bag': 220,\n",
       " 'phx': 1318,\n",
       " '10': 2,\n",
       " 'mins': 1149,\n",
       " 'estimated': 624,\n",
       " 'departure': 524,\n",
       " 'nobody': 1207,\n",
       " 'deserves': 528,\n",
       " 'outbound': 1266,\n",
       " 'info': 942,\n",
       " 'connecting': 425,\n",
       " 'she': 1555,\n",
       " 'helped': 863,\n",
       " 'problem': 1377,\n",
       " 'easily': 592,\n",
       " 'nice': 1202,\n",
       " 'rock': 1486,\n",
       " 'answer': 154,\n",
       " 'hang': 832,\n",
       " 'flightlations': 726,\n",
       " 'dfw': 534,\n",
       " 'tomorrow': 1773,\n",
       " 'morning': 1168,\n",
       " 'hotel': 891,\n",
       " 'reservations': 1466,\n",
       " 'etc': 626,\n",
       " 'asap': 183,\n",
       " 'seats': 1529,\n",
       " 'told': 1772,\n",
       " 'getting': 791,\n",
       " 'error': 621,\n",
       " 'msg': 1175,\n",
       " 'due': 583,\n",
       " 'paid': 1277,\n",
       " '1st': 19,\n",
       " 'class': 369,\n",
       " 'check': 352,\n",
       " 'sound': 1615,\n",
       " 'right': 1483,\n",
       " 'different': 543,\n",
       " 'should': 1559,\n",
       " 'contact': 433,\n",
       " 'snack': 1595,\n",
       " 'drinks': 577,\n",
       " 'only': 1248,\n",
       " 'drink': 576,\n",
       " '50': 55,\n",
       " 'min': 1146,\n",
       " 'passengers': 1291,\n",
       " 'stuck': 1668,\n",
       " 'philly': 1312,\n",
       " 'where': 1934,\n",
       " 'pilot': 1324,\n",
       " 'wife': 1943,\n",
       " 'asking': 187,\n",
       " 'switch': 1695,\n",
       " 'gets': 790,\n",
       " 'new': 1197,\n",
       " 'waited': 1886,\n",
       " 'crew': 466,\n",
       " 'maintenance': 1093,\n",
       " 'neveragain': 1196,\n",
       " 'disaster': 551,\n",
       " 'passenger': 1290,\n",
       " 'count': 450,\n",
       " 'done': 569,\n",
       " 'really': 1424,\n",
       " 'free': 757,\n",
       " 'birthday': 250,\n",
       " 'points': 1346,\n",
       " 'all': 124,\n",
       " 'hour': 894,\n",
       " 'nyc': 1226,\n",
       " 'kind': 990,\n",
       " 'contacted': 434,\n",
       " 'usair': 1859,\n",
       " 'around': 176,\n",
       " 'funeral': 777,\n",
       " 'did': 537,\n",
       " 'mention': 1129,\n",
       " 'infant': 940,\n",
       " 'seat': 1526,\n",
       " 'yr': 1997,\n",
       " 'poor': 1350,\n",
       " 'icy': 913,\n",
       " 'case': 323,\n",
       " 'gear': 787,\n",
       " 'friday': 760,\n",
       " 'saturday': 1514,\n",
       " 'starts': 1644,\n",
       " 'old': 1240,\n",
       " 'seem': 1534,\n",
       " 'response': 1474,\n",
       " 'pretty': 1367,\n",
       " 'hilarious': 873,\n",
       " 'finish': 709,\n",
       " 'his': 876,\n",
       " 'awful': 212,\n",
       " 'doing': 565,\n",
       " 'ewr': 634,\n",
       " 'bna': 256,\n",
       " 'flew': 718,\n",
       " 'aus': 199,\n",
       " 'austin': 200,\n",
       " 'cancun': 308,\n",
       " 'intl': 955,\n",
       " 'too': 1775,\n",
       " 'big': 247,\n",
       " 'small': 1590,\n",
       " '24': 27,\n",
       " 'booked': 263,\n",
       " 'online': 1247,\n",
       " 'impossible': 925,\n",
       " 'answering': 156,\n",
       " 'phones': 1317,\n",
       " 'listening': 1043,\n",
       " 'damn': 491,\n",
       " 'minutes': 1152,\n",
       " 'extra': 657,\n",
       " 'wonder': 1957,\n",
       " 'room': 1488,\n",
       " 'twice': 1821,\n",
       " 'terrible': 1724,\n",
       " 'god': 800,\n",
       " 'here': 868,\n",
       " 'hope': 885,\n",
       " 'international': 952,\n",
       " 'making': 1097,\n",
       " 'situation': 1581,\n",
       " 'worse': 1972,\n",
       " 'flighted': 723,\n",
       " 'stay': 1649,\n",
       " 'overnight': 1273,\n",
       " 'sxm': 1698,\n",
       " 'won': 1956,\n",
       " 'provide': 1389,\n",
       " 'vouchers': 1884,\n",
       " 'bought': 269,\n",
       " 'tickets': 1760,\n",
       " 'via': 1877,\n",
       " 'quick': 1408,\n",
       " 'traveling': 1795,\n",
       " 'tag': 1702,\n",
       " 'sense': 1541,\n",
       " 'end': 610,\n",
       " 'anyway': 162,\n",
       " 'bring': 273,\n",
       " 'carrier': 318,\n",
       " 'onboard': 1243,\n",
       " 'managed': 1101,\n",
       " 'luck': 1084,\n",
       " 'snow': 1597,\n",
       " 'texas': 1726,\n",
       " 'hey': 869,\n",
       " 'booking': 264,\n",
       " 'problems': 1378,\n",
       " 'ran': 1412,\n",
       " 'middle': 1139,\n",
       " 'names': 1186,\n",
       " 'together': 1771,\n",
       " 'luggage': 1086,\n",
       " 'house': 896,\n",
       " 'seems': 1535,\n",
       " 'little': 1046,\n",
       " 'may': 1109,\n",
       " 'two': 1823,\n",
       " 'team': 1715,\n",
       " 'bother': 268,\n",
       " 'responding': 1473,\n",
       " 'using': 1867,\n",
       " 'half': 825,\n",
       " 'pilots': 1325,\n",
       " 'fa': 660,\n",
       " 'personnel': 1310,\n",
       " 'job': 976,\n",
       " 'blame': 254,\n",
       " 'who': 1937,\n",
       " 'leave': 1016,\n",
       " 'night': 1203,\n",
       " 'use': 1863,\n",
       " 'magic': 1090,\n",
       " 'private': 1375,\n",
       " 'details': 533,\n",
       " 'svc': 1691,\n",
       " 'training': 1787,\n",
       " 'staff': 1636,\n",
       " 'checked': 353,\n",
       " 'security': 1532,\n",
       " 'under': 1834,\n",
       " 'wrong': 1979,\n",
       " 'name': 1184,\n",
       " 'given': 794,\n",
       " 'boarding': 259,\n",
       " 'pass': 1287,\n",
       " 'wasting': 1902,\n",
       " 'claim': 366,\n",
       " 'without': 1953,\n",
       " 'checking': 355,\n",
       " 'space': 1621,\n",
       " 'frustrated': 768,\n",
       " 'suck': 1674,\n",
       " 'speak': 1622,\n",
       " 'type': 1826,\n",
       " 'chairman': 336,\n",
       " 'preferred': 1363,\n",
       " 'reward': 1479,\n",
       " 'usual': 1868,\n",
       " 'fantastic': 675,\n",
       " 'cabin': 296,\n",
       " 'landing': 1004,\n",
       " 'thankyou': 1731,\n",
       " 'jfk': 974,\n",
       " 'sna': 1594,\n",
       " 'mke': 1158,\n",
       " 'offering': 1232,\n",
       " 'rooms': 1489,\n",
       " '32': 42,\n",
       " 'people': 1303,\n",
       " 'sleep': 1586,\n",
       " 'cali': 297,\n",
       " 'other': 1261,\n",
       " 'friend': 761,\n",
       " 'counting': 452,\n",
       " 'gotten': 810,\n",
       " 'answers': 157,\n",
       " 'said': 1508,\n",
       " 'were': 1925,\n",
       " 'possible': 1355,\n",
       " 'flightlation': 725,\n",
       " 'plan': 1330,\n",
       " 'travelers': 1794,\n",
       " 'boston': 266,\n",
       " 'storm': 1661,\n",
       " 'virgin': 1880,\n",
       " 'complete': 408,\n",
       " 'giving': 796,\n",
       " 'direct': 545,\n",
       " 'iah': 910,\n",
       " '3rd': 46,\n",
       " 'attempt': 194,\n",
       " 'years': 1987,\n",
       " 'meal': 1115,\n",
       " 'voucher': 1883,\n",
       " 'wow': 1978,\n",
       " 'dm': 559,\n",
       " 'twitter': 1822,\n",
       " 'following': 744,\n",
       " 'enough': 615,\n",
       " 'food': 745,\n",
       " 'well': 1923,\n",
       " 'glad': 797,\n",
       " 'sit': 1578,\n",
       " 'place': 1329,\n",
       " 'rather': 1415,\n",
       " 'york': 1993,\n",
       " 'issues': 963,\n",
       " 'seriously': 1544,\n",
       " 'supervisor': 1684,\n",
       " 'happen': 835,\n",
       " 'hi': 870,\n",
       " 'aa': 68,\n",
       " 'friends': 763,\n",
       " 'gt': 816,\n",
       " 'her': 867,\n",
       " 'options': 1253,\n",
       " '40': 48,\n",
       " 'fixed': 714,\n",
       " 'future': 780,\n",
       " 'dumb': 586,\n",
       " 'la': 997,\n",
       " 'rdu': 1416,\n",
       " 'yep': 1989,\n",
       " 'certain': 334,\n",
       " 'guy': 819,\n",
       " 'better': 244,\n",
       " 'rest': 1476,\n",
       " '5hrs': 59,\n",
       " 'talked': 1709,\n",
       " 'couldn': 448,\n",
       " 'anything': 161,\n",
       " 'available': 205,\n",
       " 'charge': 346,\n",
       " 'part': 1283,\n",
       " 'rocks': 1487,\n",
       " 'sw': 1692,\n",
       " 'agent': 108,\n",
       " 'excellent': 638,\n",
       " 'provided': 1390,\n",
       " 'fav': 683,\n",
       " 'aware': 209,\n",
       " 'rules': 1500,\n",
       " 'especially': 623,\n",
       " 'worries': 1970,\n",
       " 'terminal': 1723,\n",
       " 'taking': 1707,\n",
       " 'basically': 227,\n",
       " 'runway': 1503,\n",
       " 'water': 1906,\n",
       " 'hate': 844,\n",
       " 'mr': 1174,\n",
       " 'option': 1252,\n",
       " 'like': 1037,\n",
       " 'crap': 460,\n",
       " 'ok': 1237,\n",
       " 'guess': 818,\n",
       " 'rough': 1490,\n",
       " 'sort': 1614,\n",
       " 'missing': 1156,\n",
       " 'suggestions': 1678,\n",
       " 'extremely': 658,\n",
       " 'upset': 1856,\n",
       " 'handlers': 829,\n",
       " 'sharing': 1554,\n",
       " 'video': 1878,\n",
       " 'some': 1605,\n",
       " 'tampa': 1711,\n",
       " 'forever': 749,\n",
       " 'awesome': 211,\n",
       " 'mistake': 1157,\n",
       " 'laguardia': 1000,\n",
       " 'compensate': 402,\n",
       " '45': 53,\n",
       " 'promised': 1385,\n",
       " 'wifi': 1944,\n",
       " 'point': 1345,\n",
       " 'waiting': 1887,\n",
       " 'mess': 1132,\n",
       " 'excuses': 642,\n",
       " 'usairwaysfail': 1861,\n",
       " 'filed': 700,\n",
       " 'yesterday': 1991,\n",
       " 'haven': 847,\n",
       " 'sorry': 1613,\n",
       " 'long': 1059,\n",
       " 'sending': 1540,\n",
       " 'generic': 788,\n",
       " 'responses': 1475,\n",
       " 'keeping': 983,\n",
       " 'safe': 1505,\n",
       " 'being': 240,\n",
       " 'wish': 1950,\n",
       " 'give': 793,\n",
       " 'kudos': 996,\n",
       " 'chicago': 358,\n",
       " '13': 7,\n",
       " '12': 6,\n",
       " 'america': 139,\n",
       " 'shameful': 1552,\n",
       " 'employees': 608,\n",
       " 'literally': 1045,\n",
       " '800': 64,\n",
       " 'very': 1876,\n",
       " 'rude': 1497,\n",
       " 'rep': 1453,\n",
       " 'family': 673,\n",
       " 'also': 133,\n",
       " 'showed': 1563,\n",
       " '23': 26,\n",
       " 'empty': 609,\n",
       " 'scheduled': 1521,\n",
       " 'reflight': 1437,\n",
       " 'sent': 1542,\n",
       " 'link': 1041,\n",
       " 'month': 1165,\n",
       " 'submitted': 1671,\n",
       " 'complaint': 406,\n",
       " 'compensated': 403,\n",
       " 'even': 627,\n",
       " 'exit': 644,\n",
       " 'layover': 1012,\n",
       " 'itinerary': 966,\n",
       " 'ugh': 1829,\n",
       " 'pre': 1362,\n",
       " 'down': 575,\n",
       " 'able': 70,\n",
       " 'clean': 371,\n",
       " 'website': 1913,\n",
       " 'select': 1537,\n",
       " 'email': 602,\n",
       " 'sucks': 1675,\n",
       " 'feedback': 687,\n",
       " 'handle': 827,\n",
       " 'found': 755,\n",
       " 'offered': 1231,\n",
       " '200': 21,\n",
       " 'lose': 1065,\n",
       " 'whenever': 1933,\n",
       " 'goes': 801,\n",
       " 'promise': 1384,\n",
       " 'anymore': 159,\n",
       " 'talking': 1710,\n",
       " 'believe': 241,\n",
       " 'notification': 1218,\n",
       " 'receive': 1431,\n",
       " 'automated': 202,\n",
       " 'wonderful': 1958,\n",
       " 'daughter': 493,\n",
       " 'myself': 1182,\n",
       " 'orlando': 1259,\n",
       " 'inside': 948,\n",
       " 'returned': 1478,\n",
       " 'valid': 1872,\n",
       " 'journey': 978,\n",
       " 'cannot': 310,\n",
       " '20': 20,\n",
       " 'feet': 692,\n",
       " 'open': 1250,\n",
       " 'damage': 489,\n",
       " 'life': 1035,\n",
       " 'appreciate': 171,\n",
       " 'regarding': 1443,\n",
       " 'horrible': 888,\n",
       " 'hung': 907,\n",
       " 'flt': 735,\n",
       " 'minute': 1151,\n",
       " 'instead': 949,\n",
       " 'super': 1683,\n",
       " 'frustrating': 769,\n",
       " 'ticket': 1758,\n",
       " 'counter': 451,\n",
       " 'aren': 175,\n",
       " 'own': 1274,\n",
       " 'media': 1122,\n",
       " 'rate': 1414,\n",
       " 'true': 1805,\n",
       " 'bank': 224,\n",
       " 'issued': 962,\n",
       " 'company': 400,\n",
       " 'account': 86,\n",
       " 'rebook': 1428,\n",
       " 'note': 1214,\n",
       " 'taken': 1704,\n",
       " 'im': 920,\n",
       " 'lady': 999,\n",
       " 'losing': 1067,\n",
       " 'trust': 1808,\n",
       " 'anywhere': 163,\n",
       " '20min': 23,\n",
       " 'group': 815,\n",
       " 'try': 1809,\n",
       " 'fault': 682,\n",
       " 'failure': 669,\n",
       " 'software': 1601,\n",
       " 'airplane': 119,\n",
       " 'such': 1673,\n",
       " 'thing': 1741,\n",
       " 'emergency': 606,\n",
       " 'takeoff': 1705,\n",
       " 'totally': 1779,\n",
       " 'hangs': 834,\n",
       " 'lousy': 1073,\n",
       " 'lit': 1044,\n",
       " 'eventually': 629,\n",
       " 'once': 1244,\n",
       " 'things': 1742,\n",
       " 'appreciated': 172,\n",
       " 'effort': 597,\n",
       " 'ones': 1246,\n",
       " 'delays': 512,\n",
       " 'speed': 1626,\n",
       " 'process': 1380,\n",
       " 'straight': 1663,\n",
       " 'agents': 109,\n",
       " 'absolutely': 75,\n",
       " 'unacceptable': 1832,\n",
       " 'calling': 302,\n",
       " 'bit': 251,\n",
       " 'second': 1531,\n",
       " 'warm': 1896,\n",
       " 'fill': 701,\n",
       " 'miami': 1138,\n",
       " 'philadelphia': 1311,\n",
       " 'caused': 328,\n",
       " 'msy': 1176,\n",
       " 'took': 1776,\n",
       " 'cost': 443,\n",
       " 'weeks': 1919,\n",
       " 'perfect': 1305,\n",
       " 'planes': 1332,\n",
       " 'sun': 1680,\n",
       " 'carriers': 319,\n",
       " 'raise': 1410,\n",
       " 'gotta': 809,\n",
       " 'upgrade': 1853,\n",
       " 'holding': 879,\n",
       " '30': 37,\n",
       " 'worry': 1971,\n",
       " 'used': 1864,\n",
       " 'arriving': 181,\n",
       " 'planned': 1333,\n",
       " 'flighting': 724,\n",
       " 'course': 455,\n",
       " 'trip': 1801,\n",
       " 'exec': 643,\n",
       " 'week': 1917,\n",
       " 'fix': 713,\n",
       " 'dont': 570,\n",
       " 'delivery': 515,\n",
       " '11': 5,\n",
       " 'purpose': 1398,\n",
       " 'weren': 1926,\n",
       " 'relate': 1447,\n",
       " 'flightd': 722,\n",
       " 'spend': 1627,\n",
       " 'top': 1777,\n",
       " 'attendants': 196,\n",
       " 'until': 1848,\n",
       " 'needed': 1193,\n",
       " 'changes': 342,\n",
       " 'fair': 670,\n",
       " '150': 11,\n",
       " 'excuse': 641,\n",
       " 'arrival': 177,\n",
       " 'ive': 968,\n",
       " 'whole': 1939,\n",
       " 'next': 1200,\n",
       " 'failing': 667,\n",
       " 'communication': 397,\n",
       " 'decision': 505,\n",
       " 'called': 301,\n",
       " 'redeem': 1436,\n",
       " 'gone': 804,\n",
       " 'felt': 693,\n",
       " 'ipad': 957,\n",
       " 'den': 517,\n",
       " 'plz': 1343,\n",
       " '100': 3,\n",
       " 'spending': 1628,\n",
       " 'along': 131,\n",
       " 'asked': 186,\n",
       " 'oh': 1236,\n",
       " 'entire': 618,\n",
       " 'de': 498,\n",
       " 'boarded': 258,\n",
       " 'wouldn': 1977,\n",
       " 'lol': 1057,\n",
       " 'thought': 1751,\n",
       " 'auto': 201,\n",
       " 'tweet': 1818,\n",
       " 'expect': 646,\n",
       " 'rt': 1496,\n",
       " 'offer': 1230,\n",
       " 'though': 1750,\n",
       " 'usairwayssucks': 1862,\n",
       " 'track': 1783,\n",
       " 'human': 905,\n",
       " 'wont': 1960,\n",
       " 'watched': 1904,\n",
       " 'pull': 1395,\n",
       " 'away': 210,\n",
       " '16': 12,\n",
       " 'into': 956,\n",
       " 'helping': 865,\n",
       " 'tonight': 1774,\n",
       " 'impressed': 926,\n",
       " 'cut': 482,\n",
       " 'short': 1557,\n",
       " 'peanuts': 1302,\n",
       " 'received': 1432,\n",
       " 'american': 140,\n",
       " 'prompt': 1387,\n",
       " 'additional': 97,\n",
       " '1k': 18,\n",
       " 'hopefully': 886,\n",
       " 'quickly': 1409,\n",
       " 'gave': 786,\n",
       " 'its': 967,\n",
       " 'outside': 1268,\n",
       " 'apologies': 165,\n",
       " 'weak': 1910,\n",
       " 'salt': 1509,\n",
       " 'pathetic': 1294,\n",
       " 'delivered': 514,\n",
       " 'hoping': 887,\n",
       " 'frequent': 759,\n",
       " 'congrats': 422,\n",
       " 'fll': 731,\n",
       " 'large': 1006,\n",
       " 'customerservice': 480,\n",
       " '15': 10,\n",
       " 'unreal': 1847,\n",
       " 'nightmare': 1204,\n",
       " 'push': 1399,\n",
       " 'run': 1501,\n",
       " 'alternate': 134,\n",
       " 'prevent': 1368,\n",
       " 'constant': 432,\n",
       " 'definitely': 507,\n",
       " 'ride': 1481,\n",
       " 'charging': 349,\n",
       " 'domestic': 567,\n",
       " 'ps': 1392,\n",
       " 'deplaned': 525,\n",
       " 'obviously': 1227,\n",
       " 'deliver': 513,\n",
       " 'dfwairport': 535,\n",
       " 'most': 1169,\n",
       " 'mon': 1162,\n",
       " 'cowboycerrone': 459,\n",
       " 'https': 903,\n",
       " 'confirmed': 420,\n",
       " 'members': 1128,\n",
       " 'unitedairlines': 1843,\n",
       " 'cnn': 384,\n",
       " 'support': 1685,\n",
       " 'bwi': 293,\n",
       " 'follow': 742,\n",
       " 'otherwise': 1263,\n",
       " 'reschedule': 1462,\n",
       " 'gives': 795,\n",
       " 'luv': 1087,\n",
       " 'land': 1002,\n",
       " 'behind': 239,\n",
       " 'services': 1546,\n",
       " 'raleigh': 1411,\n",
       " 'saying': 1518,\n",
       " 'cause': 327,\n",
       " 'americanairlines': 142,\n",
       " 'pick': 1320,\n",
       " 'address': 98,\n",
       " 'bc': 230,\n",
       " 'notifications': 1219,\n",
       " 'child': 359,\n",
       " 'ahead': 112,\n",
       " 'feel': 688,\n",
       " 'maybe': 1110,\n",
       " 'fucking': 772,\n",
       " 'fan': 674,\n",
       " '14': 8,\n",
       " 'atl': 192,\n",
       " 'means': 1117,\n",
       " 'nothappy': 1215,\n",
       " 'view': 1879,\n",
       " 'cover': 458,\n",
       " 'costs': 445,\n",
       " 'set': 1547,\n",
       " 'however': 899,\n",
       " 'dulles': 584,\n",
       " 'currently': 476,\n",
       " 'silver': 1571,\n",
       " 'status': 1648,\n",
       " 'feb': 685,\n",
       " 'cold': 390,\n",
       " 'sick': 1567,\n",
       " 'overbooked': 1271,\n",
       " 'sincerely': 1575,\n",
       " 'award': 208,\n",
       " 'date': 492,\n",
       " 'fee': 686,\n",
       " 'apology': 167,\n",
       " 'disappointing': 550,\n",
       " 'fact': 664,\n",
       " ...}"
      ]
     },
     "execution_count": 46,
     "metadata": {},
     "output_type": "execute_result"
    }
   ],
   "source": [
    "word_index_map = vectorizer.vocabulary_\n",
    "word_index_map "
   ]
  },
  {
   "cell_type": "markdown",
   "id": "187ffe5b",
   "metadata": {},
   "source": [
    "- Define the most extreme words for each class (find the words with the largest magnitudes of weights)\n",
    "\n",
    "<small style='color:red'>Note: Words that have largest impact on the output.</small>\n",
    "<small>\n",
    "\n",
    "<p>There is no much words with the weight larger than two we'll try with different tresholds:</p>\n",
    "<ul>\n",
    "    <li>2</li>\n",
    "    <li>1.5</li>\n",
    "    <li>1.8</li>\n",
    "</ul>\n",
    "</small>"
   ]
  },
  {
   "cell_type": "code",
   "execution_count": 47,
   "id": "dfb9cb46",
   "metadata": {},
   "outputs": [],
   "source": [
    "tresholds = [2, 1.5, 1.8]"
   ]
  },
  {
   "cell_type": "markdown",
   "id": "83c53298",
   "metadata": {},
   "source": [
    "- Print the most positive words"
   ]
  },
  {
   "cell_type": "code",
   "execution_count": 48,
   "id": "5359f626",
   "metadata": {},
   "outputs": [
    {
     "name": "stdout",
     "output_type": "stream",
     "text": [
      "Most positive words:\n",
      "they 5.992355001506386\n",
      "still 2.532919702956886\n",
      "works 2.054260047536216\n",
      "inflight 2.4919011737136194\n",
      "awesome 2.9001334647718817\n",
      "generic 2.016274064044278\n",
      "give 2.922065002337304\n",
      "believe 2.5545318666531927\n",
      "things 6.313547324646913\n",
      "alternate 2.41409127423671\n",
      "walk 2.3036756027805225\n",
      "london 2.6792678766710414\n"
     ]
    }
   ],
   "source": [
    "print(\"Most positive words:\")\n",
    "\n",
    "most_positive_words = {}\n",
    "\n",
    "for word, index in word_index_map.items():\n",
    "    weight = model.coef_[0][index]\n",
    "    if weight > tresholds[0]:\n",
    "        most_positive_words[word] = weight\n",
    "        print(word, weight)"
   ]
  },
  {
   "cell_type": "code",
   "execution_count": 49,
   "id": "bb66b2ec",
   "metadata": {},
   "outputs": [
    {
     "name": "stdout",
     "output_type": "stream",
     "text": [
      "Most positive words:\n",
      "they 5.992355001506386\n",
      "still 2.532919702956886\n",
      "works 2.054260047536216\n",
      "inflight 2.4919011737136194\n",
      "awesome 2.9001334647718817\n",
      "generic 2.016274064044278\n",
      "give 2.922065002337304\n",
      "believe 2.5545318666531927\n",
      "anywhere 1.7768347472479922\n",
      "things 6.313547324646913\n",
      "alternate 2.41409127423671\n",
      "walk 2.3036756027805225\n",
      "smooth 1.5403445000409843\n",
      "london 2.6792678766710414\n"
     ]
    }
   ],
   "source": [
    "print(\"Most positive words:\")\n",
    "\n",
    "most_positive_words = {}\n",
    "\n",
    "for word, index in word_index_map.items():\n",
    "    weight = model.coef_[0][index]\n",
    "    if weight > tresholds[1]:\n",
    "        most_positive_words[word] = weight\n",
    "        print(word, weight)"
   ]
  },
  {
   "cell_type": "code",
   "execution_count": 50,
   "id": "87d6514a",
   "metadata": {},
   "outputs": [
    {
     "name": "stdout",
     "output_type": "stream",
     "text": [
      "Most positive words:\n",
      "they 5.992355001506386\n",
      "still 2.532919702956886\n",
      "works 2.054260047536216\n",
      "inflight 2.4919011737136194\n",
      "awesome 2.9001334647718817\n",
      "generic 2.016274064044278\n",
      "give 2.922065002337304\n",
      "believe 2.5545318666531927\n",
      "things 6.313547324646913\n",
      "alternate 2.41409127423671\n",
      "walk 2.3036756027805225\n",
      "london 2.6792678766710414\n"
     ]
    }
   ],
   "source": [
    "print(\"Most positive words:\")\n",
    "\n",
    "most_positive_words = {}\n",
    "\n",
    "for word, index in word_index_map.items():\n",
    "    weight = model.coef_[0][index]\n",
    "    if weight > tresholds[2]:\n",
    "        most_positive_words[word] = weight\n",
    "        print(word, weight)"
   ]
  },
  {
   "cell_type": "markdown",
   "id": "8f2b5edf",
   "metadata": {},
   "source": [
    "<small>Some words may be the names of the airlines which means that these are associated with positive feedback!</small>"
   ]
  },
  {
   "cell_type": "code",
   "execution_count": 51,
   "id": "76f4c92c",
   "metadata": {},
   "outputs": [
    {
     "data": {
      "text/html": [
       "<div>\n",
       "<style scoped>\n",
       "    .dataframe tbody tr th:only-of-type {\n",
       "        vertical-align: middle;\n",
       "    }\n",
       "\n",
       "    .dataframe tbody tr th {\n",
       "        vertical-align: top;\n",
       "    }\n",
       "\n",
       "    .dataframe thead th {\n",
       "        text-align: right;\n",
       "    }\n",
       "</style>\n",
       "<table border=\"1\" class=\"dataframe\">\n",
       "  <thead>\n",
       "    <tr style=\"text-align: right;\">\n",
       "      <th></th>\n",
       "      <th>weight</th>\n",
       "    </tr>\n",
       "  </thead>\n",
       "  <tbody>\n",
       "    <tr>\n",
       "      <th>they</th>\n",
       "      <td>5.992355</td>\n",
       "    </tr>\n",
       "    <tr>\n",
       "      <th>still</th>\n",
       "      <td>2.532920</td>\n",
       "    </tr>\n",
       "    <tr>\n",
       "      <th>works</th>\n",
       "      <td>2.054260</td>\n",
       "    </tr>\n",
       "    <tr>\n",
       "      <th>inflight</th>\n",
       "      <td>2.491901</td>\n",
       "    </tr>\n",
       "    <tr>\n",
       "      <th>awesome</th>\n",
       "      <td>2.900133</td>\n",
       "    </tr>\n",
       "    <tr>\n",
       "      <th>generic</th>\n",
       "      <td>2.016274</td>\n",
       "    </tr>\n",
       "    <tr>\n",
       "      <th>give</th>\n",
       "      <td>2.922065</td>\n",
       "    </tr>\n",
       "    <tr>\n",
       "      <th>believe</th>\n",
       "      <td>2.554532</td>\n",
       "    </tr>\n",
       "    <tr>\n",
       "      <th>things</th>\n",
       "      <td>6.313547</td>\n",
       "    </tr>\n",
       "    <tr>\n",
       "      <th>alternate</th>\n",
       "      <td>2.414091</td>\n",
       "    </tr>\n",
       "    <tr>\n",
       "      <th>walk</th>\n",
       "      <td>2.303676</td>\n",
       "    </tr>\n",
       "    <tr>\n",
       "      <th>london</th>\n",
       "      <td>2.679268</td>\n",
       "    </tr>\n",
       "  </tbody>\n",
       "</table>\n",
       "</div>"
      ],
      "text/plain": [
       "             weight\n",
       "they       5.992355\n",
       "still      2.532920\n",
       "works      2.054260\n",
       "inflight   2.491901\n",
       "awesome    2.900133\n",
       "generic    2.016274\n",
       "give       2.922065\n",
       "believe    2.554532\n",
       "things     6.313547\n",
       "alternate  2.414091\n",
       "walk       2.303676\n",
       "london     2.679268"
      ]
     },
     "execution_count": 51,
     "metadata": {},
     "output_type": "execute_result"
    }
   ],
   "source": [
    "most_positive_words_df = pd.DataFrame.from_dict(most_positive_words, orient='index', columns=['weight'])\n",
    "\n",
    "most_positive_words_df"
   ]
  },
  {
   "cell_type": "code",
   "execution_count": 52,
   "id": "71dbfc35",
   "metadata": {},
   "outputs": [
    {
     "data": {
      "image/png": "[encoded data removed]",
      "text/plain": [
       "<Figure size 1440x360 with 1 Axes>"
      ]
     },
     "metadata": {
      "needs_background": "light"
     },
     "output_type": "display_data"
    }
   ],
   "source": [
    "most_positive_words_df.plot.bar(rot=0, figsize=(20,5))\n",
    "\n",
    "plt.title('Most positive words')\n",
    "plt.xlabel('word')\n",
    "plt.ylabel('weigth')\n",
    "\n",
    "plt.show()"
   ]
  },
  {
   "cell_type": "code",
   "execution_count": 53,
   "id": "a5807a0e",
   "metadata": {},
   "outputs": [
    {
     "name": "stdout",
     "output_type": "stream",
     "text": [
      "Wordcloud for most positive words\n"
     ]
    },
    {
     "data": {
      "image/png": "[encoded data removed]",
      "text/plain": [
       "<Figure size 1080x720 with 1 Axes>"
      ]
     },
     "metadata": {
      "needs_background": "light"
     },
     "output_type": "display_data"
    }
   ],
   "source": [
    "print(\"Wordcloud for most positive words\")\n",
    "\n",
    "positive_wordcloud = WordCloud(background_color=\"white\", width=800, height=400)\n",
    "positive_wordcloud.generate_from_frequencies(most_positive_words)\n",
    "plt.figure(figsize=(15,10))\n",
    "plt.imshow(positive_wordcloud, interpolation=\"bilinear\")\n",
    "plt.axis(\"off\")\n",
    "plt.show()"
   ]
  },
  {
   "cell_type": "markdown",
   "id": "0ebd65dd",
   "metadata": {},
   "source": [
    "- Print the most negative words"
   ]
  },
  {
   "cell_type": "code",
   "execution_count": 54,
   "id": "af1982b8",
   "metadata": {},
   "outputs": [
    {
     "name": "stdout",
     "output_type": "stream",
     "text": [
      "Most negative words:\n",
      "no -2.4959578449606075\n",
      "nothing -3.4281990246135243\n",
      "impossible -2.005408170507468\n",
      "her -2.037290780271605\n",
      "dallas -2.037660970424201\n"
     ]
    }
   ],
   "source": [
    "print(\"Most negative words:\")\n",
    "\n",
    "most_negative_words = {}\n",
    "\n",
    "for word, index in word_index_map.items():\n",
    "    weight = model.coef_[0][index]\n",
    "    if weight < - tresholds[0]:\n",
    "        most_negative_words[word] = weight\n",
    "        print(word, weight)"
   ]
  },
  {
   "cell_type": "code",
   "execution_count": 55,
   "id": "8d199b19",
   "metadata": {},
   "outputs": [
    {
     "name": "stdout",
     "output_type": "stream",
     "text": [
      "Most negative words:\n",
      "no -2.4959578449606075\n",
      "nothing -3.4281990246135243\n",
      "wife -1.8766202939860512\n",
      "impossible -2.005408170507468\n",
      "her -2.037290780271605\n",
      "dallas -2.037660970424201\n",
      "came -1.9360871540698879\n"
     ]
    }
   ],
   "source": [
    "print(\"Most negative words:\")\n",
    "\n",
    "most_negative_words = {}\n",
    "\n",
    "for word, index in word_index_map.items():\n",
    "    weight = model.coef_[0][index]\n",
    "    if weight < - tresholds[2]:\n",
    "        most_negative_words[word] = weight\n",
    "        print(word, weight)"
   ]
  },
  {
   "cell_type": "code",
   "execution_count": 56,
   "id": "94a969b3",
   "metadata": {},
   "outputs": [
    {
     "name": "stdout",
     "output_type": "stream",
     "text": [
      "Most negative words:\n",
      "no -2.4959578449606075\n",
      "nothing -3.4281990246135243\n",
      "wife -1.8766202939860512\n",
      "impossible -2.005408170507468\n",
      "cabin -1.5965008983308842\n",
      "her -2.037290780271605\n",
      "worries -1.6017983070540553\n",
      "whenever -1.6937375053252572\n",
      "heading -1.6566538347185595\n",
      "dallas -2.037660970424201\n",
      "came -1.9360871540698879\n",
      "value -1.5167074355001944\n"
     ]
    }
   ],
   "source": [
    "print(\"Most negative words:\")\n",
    "\n",
    "most_negative_words = {}\n",
    "\n",
    "for word, index in word_index_map.items():\n",
    "    weight = model.coef_[0][index]\n",
    "    if weight < - tresholds[1]:\n",
    "        most_negative_words[word] = weight\n",
    "        print(word, weight)"
   ]
  },
  {
   "cell_type": "code",
   "execution_count": 57,
   "id": "c066a29c",
   "metadata": {},
   "outputs": [
    {
     "data": {
      "text/html": [
       "<div>\n",
       "<style scoped>\n",
       "    .dataframe tbody tr th:only-of-type {\n",
       "        vertical-align: middle;\n",
       "    }\n",
       "\n",
       "    .dataframe tbody tr th {\n",
       "        vertical-align: top;\n",
       "    }\n",
       "\n",
       "    .dataframe thead th {\n",
       "        text-align: right;\n",
       "    }\n",
       "</style>\n",
       "<table border=\"1\" class=\"dataframe\">\n",
       "  <thead>\n",
       "    <tr style=\"text-align: right;\">\n",
       "      <th></th>\n",
       "      <th>weight</th>\n",
       "    </tr>\n",
       "  </thead>\n",
       "  <tbody>\n",
       "    <tr>\n",
       "      <th>no</th>\n",
       "      <td>-2.495958</td>\n",
       "    </tr>\n",
       "    <tr>\n",
       "      <th>nothing</th>\n",
       "      <td>-3.428199</td>\n",
       "    </tr>\n",
       "    <tr>\n",
       "      <th>wife</th>\n",
       "      <td>-1.876620</td>\n",
       "    </tr>\n",
       "    <tr>\n",
       "      <th>impossible</th>\n",
       "      <td>-2.005408</td>\n",
       "    </tr>\n",
       "    <tr>\n",
       "      <th>cabin</th>\n",
       "      <td>-1.596501</td>\n",
       "    </tr>\n",
       "    <tr>\n",
       "      <th>her</th>\n",
       "      <td>-2.037291</td>\n",
       "    </tr>\n",
       "    <tr>\n",
       "      <th>worries</th>\n",
       "      <td>-1.601798</td>\n",
       "    </tr>\n",
       "    <tr>\n",
       "      <th>whenever</th>\n",
       "      <td>-1.693738</td>\n",
       "    </tr>\n",
       "    <tr>\n",
       "      <th>heading</th>\n",
       "      <td>-1.656654</td>\n",
       "    </tr>\n",
       "    <tr>\n",
       "      <th>dallas</th>\n",
       "      <td>-2.037661</td>\n",
       "    </tr>\n",
       "    <tr>\n",
       "      <th>came</th>\n",
       "      <td>-1.936087</td>\n",
       "    </tr>\n",
       "    <tr>\n",
       "      <th>value</th>\n",
       "      <td>-1.516707</td>\n",
       "    </tr>\n",
       "  </tbody>\n",
       "</table>\n",
       "</div>"
      ],
      "text/plain": [
       "              weight\n",
       "no         -2.495958\n",
       "nothing    -3.428199\n",
       "wife       -1.876620\n",
       "impossible -2.005408\n",
       "cabin      -1.596501\n",
       "her        -2.037291\n",
       "worries    -1.601798\n",
       "whenever   -1.693738\n",
       "heading    -1.656654\n",
       "dallas     -2.037661\n",
       "came       -1.936087\n",
       "value      -1.516707"
      ]
     },
     "execution_count": 57,
     "metadata": {},
     "output_type": "execute_result"
    }
   ],
   "source": [
    "most_negative_words_df = pd.DataFrame.from_dict(most_negative_words, orient='index', columns=['weight'])\n",
    "\n",
    "most_negative_words_df"
   ]
  },
  {
   "cell_type": "markdown",
   "id": "40674f5f",
   "metadata": {},
   "source": [
    "<small>Words like: hours, now, and will are words that have low weight. That means that (unfulfilled) promises are time-consuming, and one of the most relevant factors of good service is the time in which the service is delivered.</small>"
   ]
  },
  {
   "cell_type": "code",
   "execution_count": 58,
   "id": "6b25a2f7",
   "metadata": {},
   "outputs": [
    {
     "data": {
      "image/png": "[encoded data removed]",
      "text/plain": [
       "<Figure size 1440x360 with 1 Axes>"
      ]
     },
     "metadata": {
      "needs_background": "light"
     },
     "output_type": "display_data"
    }
   ],
   "source": [
    "most_negative_words_df.plot.bar(rot=0, figsize=(20,5))\n",
    "\n",
    "plt.title('Most negative words')\n",
    "plt.xlabel('word')\n",
    "plt.ylabel('weigth')\n",
    "\n",
    "plt.show()"
   ]
  },
  {
   "cell_type": "code",
   "execution_count": 59,
   "id": "837d616b",
   "metadata": {},
   "outputs": [
    {
     "name": "stdout",
     "output_type": "stream",
     "text": [
      "Wordcloud for most negative words\n"
     ]
    },
    {
     "data": {
      "image/png": "[encoded data removed]",
      "text/plain": [
       "<Figure size 1080x720 with 1 Axes>"
      ]
     },
     "metadata": {
      "needs_background": "light"
     },
     "output_type": "display_data"
    }
   ],
   "source": [
    "print(\"Wordcloud for most negative words\")\n",
    "\n",
    "negative_wordcloud = WordCloud(background_color=\"white\", width=800, height=400)\n",
    "negative_wordcloud.generate_from_frequencies(most_negative_words)\n",
    "plt.figure(figsize=(15,10))\n",
    "plt.imshow(negative_wordcloud, interpolation=\"bilinear\")\n",
    "plt.axis(\"off\")\n",
    "plt.show()"
   ]
  },
  {
   "cell_type": "markdown",
   "id": "493efaa7",
   "metadata": {},
   "source": [
    "- Filter out stopwords"
   ]
  },
  {
   "cell_type": "code",
   "execution_count": 60,
   "id": "046ed90c",
   "metadata": {},
   "outputs": [
    {
     "name": "stdout",
     "output_type": "stream",
     "text": [
      "Before: 12 12\n",
      "After: 11 10\n"
     ]
    }
   ],
   "source": [
    "stop = stopwords.words('english')\n",
    "\n",
    "most_positive_words_without_stop_words = [word for word in most_positive_words_df.index if word not in stopwords.words('english')]\n",
    "most_negative_words_without_stop_words = [word for word in most_negative_words_df.index if word not in stopwords.words('english')]\n",
    "\n",
    "print(\"Before:\", len(most_positive_words), len(most_negative_words))\n",
    "print(\"After:\", len(most_positive_words_without_stop_words), len(most_negative_words_without_stop_words))\n",
    "\n"
   ]
  },
  {
   "cell_type": "code",
   "execution_count": 61,
   "id": "8ac8c95a",
   "metadata": {},
   "outputs": [
    {
     "data": {
      "text/html": [
       "<div>\n",
       "<style scoped>\n",
       "    .dataframe tbody tr th:only-of-type {\n",
       "        vertical-align: middle;\n",
       "    }\n",
       "\n",
       "    .dataframe tbody tr th {\n",
       "        vertical-align: top;\n",
       "    }\n",
       "\n",
       "    .dataframe thead th {\n",
       "        text-align: right;\n",
       "    }\n",
       "</style>\n",
       "<table border=\"1\" class=\"dataframe\">\n",
       "  <thead>\n",
       "    <tr style=\"text-align: right;\">\n",
       "      <th></th>\n",
       "      <th>State</th>\n",
       "      <th>Positive</th>\n",
       "      <th>Negative</th>\n",
       "    </tr>\n",
       "  </thead>\n",
       "  <tbody>\n",
       "    <tr>\n",
       "      <th>0</th>\n",
       "      <td>Before</td>\n",
       "      <td>12</td>\n",
       "      <td>11</td>\n",
       "    </tr>\n",
       "    <tr>\n",
       "      <th>1</th>\n",
       "      <td>After</td>\n",
       "      <td>12</td>\n",
       "      <td>10</td>\n",
       "    </tr>\n",
       "  </tbody>\n",
       "</table>\n",
       "</div>"
      ],
      "text/plain": [
       "    State  Positive  Negative\n",
       "0  Before        12        11\n",
       "1   After        12        10"
      ]
     },
     "execution_count": 61,
     "metadata": {},
     "output_type": "execute_result"
    }
   ],
   "source": [
    "filtered_df = pd.DataFrame();\n",
    "filtered_df['State'] = [\"Before\", \"After\"]\n",
    "filtered_df['Positive'] = [len(most_positive_words), len(most_negative_words)]\n",
    "filtered_df['Negative'] = [len(most_positive_words_without_stop_words), len(most_negative_words_without_stop_words)]\n",
    "\n",
    "filtered_df"
   ]
  }
 ],
 "metadata": {
  "kernelspec": {
   "display_name": "Python 3",
   "language": "python",
   "name": "python3"
  },
  "language_info": {
   "codemirror_mode": {
    "name": "ipython",
    "version": 3
   },
   "file_extension": ".py",
   "mimetype": "text/x-python",
   "name": "python",
   "nbconvert_exporter": "python",
   "pygments_lexer": "ipython3",
   "version": "3.8.8"
  }
 },
 "nbformat": 4,
 "nbformat_minor": 5
}
