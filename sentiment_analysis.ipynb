{
 "cells": [
  {
   "cell_type": "markdown",
   "id": "f2abfa2f",
   "metadata": {},
   "source": [
    "Import necessary modules:"
   ]
  },
  {
   "cell_type": "code",
   "execution_count": 124,
   "id": "9fe9ec41",
   "metadata": {},
   "outputs": [],
   "source": [
    "import numpy as np\n",
    "import pandas as pd\n",
    "import seaborn as sn\n",
    "import matplotlib.pyplot as plt\n",
    "\n",
    "from sklearn.feature_extraction.text import TfidfVectorizer\n",
    "from sklearn.linear_model import LogisticRegression\n",
    "from sklearn.metrics import roc_auc_score, f1_score, confusion_matrix\n",
    "from sklearn.model_selection import train_test_split\n",
    "from nltk.corpus import stopwords\n",
    "from wordcloud import WordCloud"
   ]
  },
  {
   "cell_type": "markdown",
   "id": "4f4e67f1",
   "metadata": {},
   "source": [
    "- Import 'csv' file"
   ]
  },
  {
   "cell_type": "code",
   "execution_count": 125,
   "id": "2199a09a",
   "metadata": {},
   "outputs": [],
   "source": [
    "df = pd.read_csv(\"./Tweets.csv\")"
   ]
  },
  {
   "cell_type": "markdown",
   "id": "c03cbdc2",
   "metadata": {},
   "source": [
    "- Get first five records"
   ]
  },
  {
   "cell_type": "code",
   "execution_count": 126,
   "id": "f2724bab",
   "metadata": {},
   "outputs": [
    {
     "data": {
      "text/html": [
       "<div>\n",
       "<style scoped>\n",
       "    .dataframe tbody tr th:only-of-type {\n",
       "        vertical-align: middle;\n",
       "    }\n",
       "\n",
       "    .dataframe tbody tr th {\n",
       "        vertical-align: top;\n",
       "    }\n",
       "\n",
       "    .dataframe thead th {\n",
       "        text-align: right;\n",
       "    }\n",
       "</style>\n",
       "<table border=\"1\" class=\"dataframe\">\n",
       "  <thead>\n",
       "    <tr style=\"text-align: right;\">\n",
       "      <th></th>\n",
       "      <th>tweet_id</th>\n",
       "      <th>airline_sentiment</th>\n",
       "      <th>airline_sentiment_confidence</th>\n",
       "      <th>negativereason</th>\n",
       "      <th>negativereason_confidence</th>\n",
       "      <th>airline</th>\n",
       "      <th>airline_sentiment_gold</th>\n",
       "      <th>name</th>\n",
       "      <th>negativereason_gold</th>\n",
       "      <th>retweet_count</th>\n",
       "      <th>text</th>\n",
       "      <th>tweet_coord</th>\n",
       "      <th>tweet_created</th>\n",
       "      <th>tweet_location</th>\n",
       "      <th>user_timezone</th>\n",
       "    </tr>\n",
       "  </thead>\n",
       "  <tbody>\n",
       "    <tr>\n",
       "      <th>0</th>\n",
       "      <td>570306133677760513</td>\n",
       "      <td>neutral</td>\n",
       "      <td>1.0000</td>\n",
       "      <td>NaN</td>\n",
       "      <td>NaN</td>\n",
       "      <td>Virgin America</td>\n",
       "      <td>NaN</td>\n",
       "      <td>cairdin</td>\n",
       "      <td>NaN</td>\n",
       "      <td>0</td>\n",
       "      <td>@VirginAmerica What @dhepburn said.</td>\n",
       "      <td>NaN</td>\n",
       "      <td>2015-02-24 11:35:52 -0800</td>\n",
       "      <td>NaN</td>\n",
       "      <td>Eastern Time (US &amp; Canada)</td>\n",
       "    </tr>\n",
       "    <tr>\n",
       "      <th>1</th>\n",
       "      <td>570301130888122368</td>\n",
       "      <td>positive</td>\n",
       "      <td>0.3486</td>\n",
       "      <td>NaN</td>\n",
       "      <td>0.0000</td>\n",
       "      <td>Virgin America</td>\n",
       "      <td>NaN</td>\n",
       "      <td>jnardino</td>\n",
       "      <td>NaN</td>\n",
       "      <td>0</td>\n",
       "      <td>@VirginAmerica plus you've added commercials t...</td>\n",
       "      <td>NaN</td>\n",
       "      <td>2015-02-24 11:15:59 -0800</td>\n",
       "      <td>NaN</td>\n",
       "      <td>Pacific Time (US &amp; Canada)</td>\n",
       "    </tr>\n",
       "    <tr>\n",
       "      <th>2</th>\n",
       "      <td>570301083672813571</td>\n",
       "      <td>neutral</td>\n",
       "      <td>0.6837</td>\n",
       "      <td>NaN</td>\n",
       "      <td>NaN</td>\n",
       "      <td>Virgin America</td>\n",
       "      <td>NaN</td>\n",
       "      <td>yvonnalynn</td>\n",
       "      <td>NaN</td>\n",
       "      <td>0</td>\n",
       "      <td>@VirginAmerica I didn't today... Must mean I n...</td>\n",
       "      <td>NaN</td>\n",
       "      <td>2015-02-24 11:15:48 -0800</td>\n",
       "      <td>Lets Play</td>\n",
       "      <td>Central Time (US &amp; Canada)</td>\n",
       "    </tr>\n",
       "    <tr>\n",
       "      <th>3</th>\n",
       "      <td>570301031407624196</td>\n",
       "      <td>negative</td>\n",
       "      <td>1.0000</td>\n",
       "      <td>Bad Flight</td>\n",
       "      <td>0.7033</td>\n",
       "      <td>Virgin America</td>\n",
       "      <td>NaN</td>\n",
       "      <td>jnardino</td>\n",
       "      <td>NaN</td>\n",
       "      <td>0</td>\n",
       "      <td>@VirginAmerica it's really aggressive to blast...</td>\n",
       "      <td>NaN</td>\n",
       "      <td>2015-02-24 11:15:36 -0800</td>\n",
       "      <td>NaN</td>\n",
       "      <td>Pacific Time (US &amp; Canada)</td>\n",
       "    </tr>\n",
       "    <tr>\n",
       "      <th>4</th>\n",
       "      <td>570300817074462722</td>\n",
       "      <td>negative</td>\n",
       "      <td>1.0000</td>\n",
       "      <td>Can't Tell</td>\n",
       "      <td>1.0000</td>\n",
       "      <td>Virgin America</td>\n",
       "      <td>NaN</td>\n",
       "      <td>jnardino</td>\n",
       "      <td>NaN</td>\n",
       "      <td>0</td>\n",
       "      <td>@VirginAmerica and it's a really big bad thing...</td>\n",
       "      <td>NaN</td>\n",
       "      <td>2015-02-24 11:14:45 -0800</td>\n",
       "      <td>NaN</td>\n",
       "      <td>Pacific Time (US &amp; Canada)</td>\n",
       "    </tr>\n",
       "  </tbody>\n",
       "</table>\n",
       "</div>"
      ],
      "text/plain": [
       "             tweet_id airline_sentiment  airline_sentiment_confidence  \\\n",
       "0  570306133677760513           neutral                        1.0000   \n",
       "1  570301130888122368          positive                        0.3486   \n",
       "2  570301083672813571           neutral                        0.6837   \n",
       "3  570301031407624196          negative                        1.0000   \n",
       "4  570300817074462722          negative                        1.0000   \n",
       "\n",
       "  negativereason  negativereason_confidence         airline  \\\n",
       "0            NaN                        NaN  Virgin America   \n",
       "1            NaN                     0.0000  Virgin America   \n",
       "2            NaN                        NaN  Virgin America   \n",
       "3     Bad Flight                     0.7033  Virgin America   \n",
       "4     Can't Tell                     1.0000  Virgin America   \n",
       "\n",
       "  airline_sentiment_gold        name negativereason_gold  retweet_count  \\\n",
       "0                    NaN     cairdin                 NaN              0   \n",
       "1                    NaN    jnardino                 NaN              0   \n",
       "2                    NaN  yvonnalynn                 NaN              0   \n",
       "3                    NaN    jnardino                 NaN              0   \n",
       "4                    NaN    jnardino                 NaN              0   \n",
       "\n",
       "                                                text tweet_coord  \\\n",
       "0                @VirginAmerica What @dhepburn said.         NaN   \n",
       "1  @VirginAmerica plus you've added commercials t...         NaN   \n",
       "2  @VirginAmerica I didn't today... Must mean I n...         NaN   \n",
       "3  @VirginAmerica it's really aggressive to blast...         NaN   \n",
       "4  @VirginAmerica and it's a really big bad thing...         NaN   \n",
       "\n",
       "               tweet_created tweet_location               user_timezone  \n",
       "0  2015-02-24 11:35:52 -0800            NaN  Eastern Time (US & Canada)  \n",
       "1  2015-02-24 11:15:59 -0800            NaN  Pacific Time (US & Canada)  \n",
       "2  2015-02-24 11:15:48 -0800      Lets Play  Central Time (US & Canada)  \n",
       "3  2015-02-24 11:15:36 -0800            NaN  Pacific Time (US & Canada)  \n",
       "4  2015-02-24 11:14:45 -0800            NaN  Pacific Time (US & Canada)  "
      ]
     },
     "execution_count": 126,
     "metadata": {},
     "output_type": "execute_result"
    }
   ],
   "source": [
    "df.head()"
   ]
  },
  {
   "cell_type": "markdown",
   "id": "64d68833",
   "metadata": {},
   "source": [
    "- Filter out colums for further work"
   ]
  },
  {
   "cell_type": "markdown",
   "id": "d4bdd1e0",
   "metadata": {},
   "source": [
    "<h1>Exploratory data analysis</h1>"
   ]
  },
  {
   "cell_type": "markdown",
   "id": "12b0e02a",
   "metadata": {},
   "source": [
    "<h3> Most preferable airlines </h3>"
   ]
  },
  {
   "cell_type": "markdown",
   "id": "145c4a10",
   "metadata": {},
   "source": [
    "- List of airlines"
   ]
  },
  {
   "cell_type": "code",
   "execution_count": 127,
   "id": "2f6a5e90",
   "metadata": {},
   "outputs": [
    {
     "name": "stdout",
     "output_type": "stream",
     "text": [
      "Airlines: ['Virgin America' 'United' 'Southwest' 'Delta' 'US Airways' 'American']\n"
     ]
    }
   ],
   "source": [
    "airlines = df['airline'].unique()\n",
    "\n",
    "print(\"Airlines:\", airlines)"
   ]
  },
  {
   "cell_type": "markdown",
   "id": "ffc867a5",
   "metadata": {},
   "source": [
    "- Positive, neutral and negative <code>airline_sentiment</code> per <code>airline</code>"
   ]
  },
  {
   "cell_type": "code",
   "execution_count": 128,
   "id": "f92b3f77",
   "metadata": {},
   "outputs": [
    {
     "data": {
      "text/html": [
       "<div>\n",
       "<style scoped>\n",
       "    .dataframe tbody tr th:only-of-type {\n",
       "        vertical-align: middle;\n",
       "    }\n",
       "\n",
       "    .dataframe tbody tr th {\n",
       "        vertical-align: top;\n",
       "    }\n",
       "\n",
       "    .dataframe thead th {\n",
       "        text-align: right;\n",
       "    }\n",
       "</style>\n",
       "<table border=\"1\" class=\"dataframe\">\n",
       "  <thead>\n",
       "    <tr style=\"text-align: right;\">\n",
       "      <th></th>\n",
       "      <th>neutrals</th>\n",
       "      <th>positives</th>\n",
       "      <th>negatives</th>\n",
       "    </tr>\n",
       "  </thead>\n",
       "  <tbody>\n",
       "    <tr>\n",
       "      <th>Virgin America</th>\n",
       "      <td>171</td>\n",
       "      <td>152</td>\n",
       "      <td>181</td>\n",
       "    </tr>\n",
       "    <tr>\n",
       "      <th>United</th>\n",
       "      <td>697</td>\n",
       "      <td>492</td>\n",
       "      <td>2633</td>\n",
       "    </tr>\n",
       "    <tr>\n",
       "      <th>Southwest</th>\n",
       "      <td>664</td>\n",
       "      <td>570</td>\n",
       "      <td>1186</td>\n",
       "    </tr>\n",
       "    <tr>\n",
       "      <th>Delta</th>\n",
       "      <td>723</td>\n",
       "      <td>544</td>\n",
       "      <td>955</td>\n",
       "    </tr>\n",
       "    <tr>\n",
       "      <th>US Airways</th>\n",
       "      <td>381</td>\n",
       "      <td>269</td>\n",
       "      <td>2263</td>\n",
       "    </tr>\n",
       "    <tr>\n",
       "      <th>American</th>\n",
       "      <td>463</td>\n",
       "      <td>336</td>\n",
       "      <td>1960</td>\n",
       "    </tr>\n",
       "  </tbody>\n",
       "</table>\n",
       "</div>"
      ],
      "text/plain": [
       "                neutrals  positives  negatives\n",
       "Virgin America       171        152        181\n",
       "United               697        492       2633\n",
       "Southwest            664        570       1186\n",
       "Delta                723        544        955\n",
       "US Airways           381        269       2263\n",
       "American             463        336       1960"
      ]
     },
     "execution_count": 128,
     "metadata": {},
     "output_type": "execute_result"
    }
   ],
   "source": [
    "def get_airline_sentiment(df, airlines):\n",
    "    positives = []\n",
    "    negatives = []\n",
    "    neutrals = []\n",
    "\n",
    "    for airline in airlines:\n",
    "        positive = df.query('@airline == airline and airline_sentiment == \"positive\"')['tweet_id'].count()\n",
    "        negative = df.query('@airline == airline and airline_sentiment == \"negative\"')['tweet_id'].count()\n",
    "        neutral = df.query('@airline == airline and airline_sentiment == \"neutral\"')['tweet_id'].count()\n",
    "        \n",
    "        positives.append(positive)\n",
    "        negatives.append(negative)\n",
    "        neutrals.append(neutral)\n",
    "          \n",
    "    return positives, negatives, neutrals\n",
    "        \n",
    "\n",
    "     \n",
    "positives, negatives, neutrals = get_airline_sentiment(df, airlines)\n",
    "\n",
    "sentiment_airlines_df = pd.DataFrame(index = airlines);\n",
    "sentiment_airlines_df['neutrals'] = neutrals\n",
    "sentiment_airlines_df['positives'] = positives\n",
    "sentiment_airlines_df['negatives'] = negatives\n",
    "sentiment_airlines_df"
   ]
  },
  {
   "cell_type": "markdown",
   "id": "eb001119",
   "metadata": {},
   "source": [
    "- Positive, neutral and negative <code>airline_sentiment</code> per <code>airline</code> in percentage (%)"
   ]
  },
  {
   "cell_type": "code",
   "execution_count": 129,
   "id": "17ceef4b",
   "metadata": {},
   "outputs": [
    {
     "data": {
      "text/html": [
       "<div>\n",
       "<style scoped>\n",
       "    .dataframe tbody tr th:only-of-type {\n",
       "        vertical-align: middle;\n",
       "    }\n",
       "\n",
       "    .dataframe tbody tr th {\n",
       "        vertical-align: top;\n",
       "    }\n",
       "\n",
       "    .dataframe thead th {\n",
       "        text-align: right;\n",
       "    }\n",
       "</style>\n",
       "<table border=\"1\" class=\"dataframe\">\n",
       "  <thead>\n",
       "    <tr style=\"text-align: right;\">\n",
       "      <th></th>\n",
       "      <th>neutrals (%)</th>\n",
       "      <th>positives (%)</th>\n",
       "      <th>negatives (%)</th>\n",
       "    </tr>\n",
       "  </thead>\n",
       "  <tbody>\n",
       "    <tr>\n",
       "      <th>Virgin America</th>\n",
       "      <td>5.517909</td>\n",
       "      <td>6.432501</td>\n",
       "      <td>1.972107</td>\n",
       "    </tr>\n",
       "    <tr>\n",
       "      <th>United</th>\n",
       "      <td>22.491126</td>\n",
       "      <td>20.820990</td>\n",
       "      <td>28.688167</td>\n",
       "    </tr>\n",
       "    <tr>\n",
       "      <th>Southwest</th>\n",
       "      <td>21.426267</td>\n",
       "      <td>24.121879</td>\n",
       "      <td>12.922205</td>\n",
       "    </tr>\n",
       "    <tr>\n",
       "      <th>Delta</th>\n",
       "      <td>23.330106</td>\n",
       "      <td>23.021583</td>\n",
       "      <td>10.405317</td>\n",
       "    </tr>\n",
       "    <tr>\n",
       "      <th>US Airways</th>\n",
       "      <td>12.294288</td>\n",
       "      <td>11.383834</td>\n",
       "      <td>24.656788</td>\n",
       "    </tr>\n",
       "    <tr>\n",
       "      <th>American</th>\n",
       "      <td>14.940303</td>\n",
       "      <td>14.219213</td>\n",
       "      <td>21.355415</td>\n",
       "    </tr>\n",
       "  </tbody>\n",
       "</table>\n",
       "</div>"
      ],
      "text/plain": [
       "                neutrals (%)  positives (%)  negatives (%)\n",
       "Virgin America      5.517909       6.432501       1.972107\n",
       "United             22.491126      20.820990      28.688167\n",
       "Southwest          21.426267      24.121879      12.922205\n",
       "Delta              23.330106      23.021583      10.405317\n",
       "US Airways         12.294288      11.383834      24.656788\n",
       "American           14.940303      14.219213      21.355415"
      ]
     },
     "execution_count": 129,
     "metadata": {},
     "output_type": "execute_result"
    }
   ],
   "source": [
    "sentiment_airlines_percentage_df = pd.DataFrame(index = airlines);\n",
    "sentiment_airlines_percentage_df['neutrals (%)'] = list(map(lambda n: n / sum(neutrals) * 100, neutrals))\n",
    "sentiment_airlines_percentage_df['positives (%)'] = list(map(lambda n: n / sum(positives) * 100, positives))\n",
    "sentiment_airlines_percentage_df['negatives (%)'] = list(map(lambda n: n / sum(negatives) * 100, negatives))\n",
    "sentiment_airlines_percentage_df"
   ]
  },
  {
   "cell_type": "markdown",
   "id": "593d3e1a",
   "metadata": {},
   "source": [
    "<strong>According to this analysis, the most preferable airline is Southwest. Virgin America is the airline with the lowest negative feedbacks.</strong>"
   ]
  },
  {
   "cell_type": "markdown",
   "id": "c1c5a250",
   "metadata": {},
   "source": [
    "- Positive, neutral and negative <code>airline_sentiment</code> per <code>airline</code>"
   ]
  },
  {
   "cell_type": "code",
   "execution_count": 130,
   "id": "b11fcd02",
   "metadata": {},
   "outputs": [
    {
     "data": {
      "image/png": "[encoded data removed]",
      "text/plain": [
       "<Figure size 1440x360 with 1 Axes>"
      ]
     },
     "metadata": {
      "needs_background": "light"
     },
     "output_type": "display_data"
    }
   ],
   "source": [
    "sentiment_airlines_df.plot.bar(rot=0, figsize=(20,5))\n",
    "\n",
    "plt.title('Sentiment count by airlines')\n",
    "plt.xlabel('Airlines')\n",
    "plt.ylabel('number of sentiments')\n",
    "\n",
    "plt.show()"
   ]
  },
  {
   "cell_type": "code",
   "execution_count": 131,
   "id": "7a79ac38",
   "metadata": {},
   "outputs": [],
   "source": [
    "sentiment_df = df[['airline_sentiment', 'text']].copy()"
   ]
  },
  {
   "cell_type": "markdown",
   "id": "aa4866b3",
   "metadata": {},
   "source": [
    "- Get first five records"
   ]
  },
  {
   "cell_type": "code",
   "execution_count": 132,
   "id": "511b1ffa",
   "metadata": {},
   "outputs": [
    {
     "data": {
      "text/html": [
       "<div>\n",
       "<style scoped>\n",
       "    .dataframe tbody tr th:only-of-type {\n",
       "        vertical-align: middle;\n",
       "    }\n",
       "\n",
       "    .dataframe tbody tr th {\n",
       "        vertical-align: top;\n",
       "    }\n",
       "\n",
       "    .dataframe thead th {\n",
       "        text-align: right;\n",
       "    }\n",
       "</style>\n",
       "<table border=\"1\" class=\"dataframe\">\n",
       "  <thead>\n",
       "    <tr style=\"text-align: right;\">\n",
       "      <th></th>\n",
       "      <th>airline_sentiment</th>\n",
       "      <th>text</th>\n",
       "    </tr>\n",
       "  </thead>\n",
       "  <tbody>\n",
       "    <tr>\n",
       "      <th>0</th>\n",
       "      <td>neutral</td>\n",
       "      <td>@VirginAmerica What @dhepburn said.</td>\n",
       "    </tr>\n",
       "    <tr>\n",
       "      <th>1</th>\n",
       "      <td>positive</td>\n",
       "      <td>@VirginAmerica plus you've added commercials t...</td>\n",
       "    </tr>\n",
       "    <tr>\n",
       "      <th>2</th>\n",
       "      <td>neutral</td>\n",
       "      <td>@VirginAmerica I didn't today... Must mean I n...</td>\n",
       "    </tr>\n",
       "    <tr>\n",
       "      <th>3</th>\n",
       "      <td>negative</td>\n",
       "      <td>@VirginAmerica it's really aggressive to blast...</td>\n",
       "    </tr>\n",
       "    <tr>\n",
       "      <th>4</th>\n",
       "      <td>negative</td>\n",
       "      <td>@VirginAmerica and it's a really big bad thing...</td>\n",
       "    </tr>\n",
       "  </tbody>\n",
       "</table>\n",
       "</div>"
      ],
      "text/plain": [
       "  airline_sentiment                                               text\n",
       "0           neutral                @VirginAmerica What @dhepburn said.\n",
       "1          positive  @VirginAmerica plus you've added commercials t...\n",
       "2           neutral  @VirginAmerica I didn't today... Must mean I n...\n",
       "3          negative  @VirginAmerica it's really aggressive to blast...\n",
       "4          negative  @VirginAmerica and it's a really big bad thing..."
      ]
     },
     "execution_count": 132,
     "metadata": {},
     "output_type": "execute_result"
    }
   ],
   "source": [
    "sentiment_df.head()"
   ]
  },
  {
   "cell_type": "markdown",
   "id": "8babcc73",
   "metadata": {},
   "source": [
    "- Apply histogram (distribution of data) on <code>airline_sentiment</code> to check for potential class imbalance"
   ]
  },
  {
   "cell_type": "code",
   "execution_count": 133,
   "id": "54064438",
   "metadata": {},
   "outputs": [
    {
     "data": {
      "text/plain": [
       "<AxesSubplot:>"
      ]
     },
     "execution_count": 133,
     "metadata": {},
     "output_type": "execute_result"
    },
    {
     "data": {
      "image/png": "[encoded data removed]",
      "text/plain": [
       "<Figure size 432x288 with 1 Axes>"
      ]
     },
     "metadata": {
      "needs_background": "light"
     },
     "output_type": "display_data"
    }
   ],
   "source": [
    "sentiment_df['airline_sentiment'].hist()"
   ]
  },
  {
   "cell_type": "markdown",
   "id": "f41c3bbe",
   "metadata": {},
   "source": [
    "<strong style='color:red'>Class is imbalanced!</strong> Negative class overrepresented! <br/> <small>Note: Users may used social network to express dissatisfaction with a particular service.</small>"
   ]
  },
  {
   "cell_type": "markdown",
   "id": "6563625f",
   "metadata": {},
   "source": [
    "- Apply integer encoding"
   ]
  },
  {
   "cell_type": "code",
   "execution_count": 72,
   "id": "ca51350e",
   "metadata": {},
   "outputs": [],
   "source": [
    "sentiment_encode = {\n",
    "    'negative': 0, \n",
    "    'positive': 1, \n",
    "    'neutral': 2\n",
    "}"
   ]
  },
  {
   "cell_type": "code",
   "execution_count": 73,
   "id": "f8a47356",
   "metadata": {},
   "outputs": [
    {
     "data": {
      "text/html": [
       "<div>\n",
       "<style scoped>\n",
       "    .dataframe tbody tr th:only-of-type {\n",
       "        vertical-align: middle;\n",
       "    }\n",
       "\n",
       "    .dataframe tbody tr th {\n",
       "        vertical-align: top;\n",
       "    }\n",
       "\n",
       "    .dataframe thead th {\n",
       "        text-align: right;\n",
       "    }\n",
       "</style>\n",
       "<table border=\"1\" class=\"dataframe\">\n",
       "  <thead>\n",
       "    <tr style=\"text-align: right;\">\n",
       "      <th></th>\n",
       "      <th>airline_sentiment</th>\n",
       "      <th>text</th>\n",
       "      <th>encoded_sentiment</th>\n",
       "    </tr>\n",
       "  </thead>\n",
       "  <tbody>\n",
       "    <tr>\n",
       "      <th>0</th>\n",
       "      <td>neutral</td>\n",
       "      <td>@VirginAmerica What @dhepburn said.</td>\n",
       "      <td>2</td>\n",
       "    </tr>\n",
       "    <tr>\n",
       "      <th>1</th>\n",
       "      <td>positive</td>\n",
       "      <td>@VirginAmerica plus you've added commercials t...</td>\n",
       "      <td>1</td>\n",
       "    </tr>\n",
       "    <tr>\n",
       "      <th>2</th>\n",
       "      <td>neutral</td>\n",
       "      <td>@VirginAmerica I didn't today... Must mean I n...</td>\n",
       "      <td>2</td>\n",
       "    </tr>\n",
       "    <tr>\n",
       "      <th>3</th>\n",
       "      <td>negative</td>\n",
       "      <td>@VirginAmerica it's really aggressive to blast...</td>\n",
       "      <td>0</td>\n",
       "    </tr>\n",
       "    <tr>\n",
       "      <th>4</th>\n",
       "      <td>negative</td>\n",
       "      <td>@VirginAmerica and it's a really big bad thing...</td>\n",
       "      <td>0</td>\n",
       "    </tr>\n",
       "  </tbody>\n",
       "</table>\n",
       "</div>"
      ],
      "text/plain": [
       "  airline_sentiment                                               text  \\\n",
       "0           neutral                @VirginAmerica What @dhepburn said.   \n",
       "1          positive  @VirginAmerica plus you've added commercials t...   \n",
       "2           neutral  @VirginAmerica I didn't today... Must mean I n...   \n",
       "3          negative  @VirginAmerica it's really aggressive to blast...   \n",
       "4          negative  @VirginAmerica and it's a really big bad thing...   \n",
       "\n",
       "   encoded_sentiment  \n",
       "0                  2  \n",
       "1                  1  \n",
       "2                  2  \n",
       "3                  0  \n",
       "4                  0  "
      ]
     },
     "execution_count": 73,
     "metadata": {},
     "output_type": "execute_result"
    }
   ],
   "source": [
    "sentiment_df['encoded_sentiment'] = sentiment_df['airline_sentiment'].map(sentiment_encode)\n",
    "\n",
    "sentiment_df.head()"
   ]
  },
  {
   "cell_type": "markdown",
   "id": "8de140bd",
   "metadata": {},
   "source": [
    "- Split the data into two subrecords:\n",
    "<ul>\n",
    "    <li>train (30%)</li>\n",
    "    <li>test (70%)</li>\n",
    "</ul>"
   ]
  },
  {
   "cell_type": "code",
   "execution_count": 74,
   "id": "a37f3869",
   "metadata": {},
   "outputs": [
    {
     "name": "stdout",
     "output_type": "stream",
     "text": [
      "Number of train samples are: 4392.\n",
      "Number of test samles are: 10248.\n"
     ]
    }
   ],
   "source": [
    "df_train, df_test = train_test_split(sentiment_df, train_size = 0.30)\n",
    "\n",
    "print(f'Number of train samples are: {len(df_train.index)}.\\nNumber of test samles are: {len(df_test.index)}.')"
   ]
  },
  {
   "cell_type": "markdown",
   "id": "061e2544",
   "metadata": {},
   "source": [
    "- Get the last five records"
   ]
  },
  {
   "cell_type": "code",
   "execution_count": 75,
   "id": "a4ef70f9",
   "metadata": {},
   "outputs": [
    {
     "data": {
      "text/html": [
       "<div>\n",
       "<style scoped>\n",
       "    .dataframe tbody tr th:only-of-type {\n",
       "        vertical-align: middle;\n",
       "    }\n",
       "\n",
       "    .dataframe tbody tr th {\n",
       "        vertical-align: top;\n",
       "    }\n",
       "\n",
       "    .dataframe thead th {\n",
       "        text-align: right;\n",
       "    }\n",
       "</style>\n",
       "<table border=\"1\" class=\"dataframe\">\n",
       "  <thead>\n",
       "    <tr style=\"text-align: right;\">\n",
       "      <th></th>\n",
       "      <th>airline_sentiment</th>\n",
       "      <th>text</th>\n",
       "      <th>encoded_sentiment</th>\n",
       "    </tr>\n",
       "  </thead>\n",
       "  <tbody>\n",
       "    <tr>\n",
       "      <th>6596</th>\n",
       "      <td>negative</td>\n",
       "      <td>@SouthwestAir Your onboard wifi is so bad it's...</td>\n",
       "      <td>0</td>\n",
       "    </tr>\n",
       "    <tr>\n",
       "      <th>13654</th>\n",
       "      <td>negative</td>\n",
       "      <td>@AmericanAir highly disappointed in the baggag...</td>\n",
       "      <td>0</td>\n",
       "    </tr>\n",
       "    <tr>\n",
       "      <th>10942</th>\n",
       "      <td>positive</td>\n",
       "      <td>@USAirways Thks US #1786 2/19 PHL to FLL. Over...</td>\n",
       "      <td>1</td>\n",
       "    </tr>\n",
       "    <tr>\n",
       "      <th>2866</th>\n",
       "      <td>positive</td>\n",
       "      <td>@united On the plane but thanks! Maybe don't l...</td>\n",
       "      <td>1</td>\n",
       "    </tr>\n",
       "    <tr>\n",
       "      <th>10731</th>\n",
       "      <td>negative</td>\n",
       "      <td>@USAirways I know some folks have to use your ...</td>\n",
       "      <td>0</td>\n",
       "    </tr>\n",
       "  </tbody>\n",
       "</table>\n",
       "</div>"
      ],
      "text/plain": [
       "      airline_sentiment                                               text  \\\n",
       "6596           negative  @SouthwestAir Your onboard wifi is so bad it's...   \n",
       "13654          negative  @AmericanAir highly disappointed in the baggag...   \n",
       "10942          positive  @USAirways Thks US #1786 2/19 PHL to FLL. Over...   \n",
       "2866           positive  @united On the plane but thanks! Maybe don't l...   \n",
       "10731          negative  @USAirways I know some folks have to use your ...   \n",
       "\n",
       "       encoded_sentiment  \n",
       "6596                   0  \n",
       "13654                  0  \n",
       "10942                  1  \n",
       "2866                   1  \n",
       "10731                  0  "
      ]
     },
     "execution_count": 75,
     "metadata": {},
     "output_type": "execute_result"
    }
   ],
   "source": [
    "df_train.tail()"
   ]
  },
  {
   "cell_type": "markdown",
   "id": "0b2f8619",
   "metadata": {},
   "source": [
    "- Get the last five records"
   ]
  },
  {
   "cell_type": "code",
   "execution_count": 76,
   "id": "e33859b9",
   "metadata": {},
   "outputs": [
    {
     "data": {
      "text/html": [
       "<div>\n",
       "<style scoped>\n",
       "    .dataframe tbody tr th:only-of-type {\n",
       "        vertical-align: middle;\n",
       "    }\n",
       "\n",
       "    .dataframe tbody tr th {\n",
       "        vertical-align: top;\n",
       "    }\n",
       "\n",
       "    .dataframe thead th {\n",
       "        text-align: right;\n",
       "    }\n",
       "</style>\n",
       "<table border=\"1\" class=\"dataframe\">\n",
       "  <thead>\n",
       "    <tr style=\"text-align: right;\">\n",
       "      <th></th>\n",
       "      <th>airline_sentiment</th>\n",
       "      <th>text</th>\n",
       "      <th>encoded_sentiment</th>\n",
       "    </tr>\n",
       "  </thead>\n",
       "  <tbody>\n",
       "    <tr>\n",
       "      <th>10612</th>\n",
       "      <td>negative</td>\n",
       "      <td>All followers please note that @USAirways is n...</td>\n",
       "      <td>0</td>\n",
       "    </tr>\n",
       "    <tr>\n",
       "      <th>2820</th>\n",
       "      <td>negative</td>\n",
       "      <td>@united Terribly disappointed. Confirmed reser...</td>\n",
       "      <td>0</td>\n",
       "    </tr>\n",
       "    <tr>\n",
       "      <th>6846</th>\n",
       "      <td>neutral</td>\n",
       "      <td>@JetBlue Hi there, any rough idea of when Janu...</td>\n",
       "      <td>2</td>\n",
       "    </tr>\n",
       "    <tr>\n",
       "      <th>4961</th>\n",
       "      <td>positive</td>\n",
       "      <td>@SouthwestAir  Mad love http://t.co/4ojrSDWPkK...</td>\n",
       "      <td>1</td>\n",
       "    </tr>\n",
       "    <tr>\n",
       "      <th>11507</th>\n",
       "      <td>neutral</td>\n",
       "      <td>@USAirways No, this is a systemic problem. Mai...</td>\n",
       "      <td>2</td>\n",
       "    </tr>\n",
       "  </tbody>\n",
       "</table>\n",
       "</div>"
      ],
      "text/plain": [
       "      airline_sentiment                                               text  \\\n",
       "10612          negative  All followers please note that @USAirways is n...   \n",
       "2820           negative  @united Terribly disappointed. Confirmed reser...   \n",
       "6846            neutral  @JetBlue Hi there, any rough idea of when Janu...   \n",
       "4961           positive  @SouthwestAir  Mad love http://t.co/4ojrSDWPkK...   \n",
       "11507           neutral  @USAirways No, this is a systemic problem. Mai...   \n",
       "\n",
       "       encoded_sentiment  \n",
       "10612                  0  \n",
       "2820                   0  \n",
       "6846                   2  \n",
       "4961                   1  \n",
       "11507                  2  "
      ]
     },
     "execution_count": 76,
     "metadata": {},
     "output_type": "execute_result"
    }
   ],
   "source": [
    "df_test.tail()"
   ]
  },
  {
   "cell_type": "markdown",
   "id": "bdc41557",
   "metadata": {},
   "source": [
    "- Create TD IDF vectorizer object (transforms the text into a usable vector)\n",
    "\n",
    "\n",
    "<small><code>max_features</code> limits the vocabulary size of the model to 2000</small>"
   ]
  },
  {
   "cell_type": "code",
   "execution_count": 77,
   "id": "5a7c1baf",
   "metadata": {},
   "outputs": [
    {
     "data": {
      "text/plain": [
       "TfidfVectorizer(max_features=2000)"
      ]
     },
     "execution_count": 77,
     "metadata": {},
     "output_type": "execute_result"
    }
   ],
   "source": [
    "vectorizer = TfidfVectorizer(max_features = 2000)\n",
    "vectorizer"
   ]
  },
  {
   "cell_type": "markdown",
   "id": "2cb96f5f",
   "metadata": {},
   "source": [
    "- Fit vectorizer to the training data and transform it into <code>X_train</code>"
   ]
  },
  {
   "cell_type": "code",
   "execution_count": 78,
   "id": "ce4175f6",
   "metadata": {},
   "outputs": [
    {
     "data": {
      "text/plain": [
       "<4392x2000 sparse matrix of type '<class 'numpy.float64'>'\n",
       "\twith 63686 stored elements in Compressed Sparse Row format>"
      ]
     },
     "execution_count": 78,
     "metadata": {},
     "output_type": "execute_result"
    }
   ],
   "source": [
    "X_train = vectorizer.fit_transform(df_train['text'])\n",
    "X_train"
   ]
  },
  {
   "cell_type": "markdown",
   "id": "17991880",
   "metadata": {},
   "source": [
    "- Transform the test data into <code>X_test</code>"
   ]
  },
  {
   "cell_type": "code",
   "execution_count": 79,
   "id": "a86ad97e",
   "metadata": {},
   "outputs": [
    {
     "data": {
      "text/plain": [
       "<10248x2000 sparse matrix of type '<class 'numpy.float64'>'\n",
       "\twith 144915 stored elements in Compressed Sparse Row format>"
      ]
     },
     "execution_count": 79,
     "metadata": {},
     "output_type": "execute_result"
    }
   ],
   "source": [
    "X_test = vectorizer.transform(df_test['text'])\n",
    "X_test"
   ]
  },
  {
   "cell_type": "markdown",
   "id": "c8dc1f7d",
   "metadata": {},
   "source": [
    "- Assign <code>Y_train</code> and <code>Y_test</code> to <code>encoded_sentiment</code> from previously integer encoded <code>airline_sentiment</code>"
   ]
  },
  {
   "cell_type": "code",
   "execution_count": 80,
   "id": "10bcd48e",
   "metadata": {},
   "outputs": [],
   "source": [
    "Y_train = df_train['encoded_sentiment']\n",
    "Y_test = df_test['encoded_sentiment']"
   ]
  },
  {
   "cell_type": "markdown",
   "id": "184f50d3",
   "metadata": {},
   "source": [
    "- print <code>df_train</code> data frame"
   ]
  },
  {
   "cell_type": "code",
   "execution_count": 81,
   "id": "5c4866a9",
   "metadata": {},
   "outputs": [
    {
     "data": {
      "text/html": [
       "<div>\n",
       "<style scoped>\n",
       "    .dataframe tbody tr th:only-of-type {\n",
       "        vertical-align: middle;\n",
       "    }\n",
       "\n",
       "    .dataframe tbody tr th {\n",
       "        vertical-align: top;\n",
       "    }\n",
       "\n",
       "    .dataframe thead th {\n",
       "        text-align: right;\n",
       "    }\n",
       "</style>\n",
       "<table border=\"1\" class=\"dataframe\">\n",
       "  <thead>\n",
       "    <tr style=\"text-align: right;\">\n",
       "      <th></th>\n",
       "      <th>airline_sentiment</th>\n",
       "      <th>text</th>\n",
       "      <th>encoded_sentiment</th>\n",
       "    </tr>\n",
       "  </thead>\n",
       "  <tbody>\n",
       "    <tr>\n",
       "      <th>11434</th>\n",
       "      <td>negative</td>\n",
       "      <td>@USAirways would you consider honoring the ori...</td>\n",
       "      <td>0</td>\n",
       "    </tr>\n",
       "    <tr>\n",
       "      <th>9634</th>\n",
       "      <td>negative</td>\n",
       "      <td>@USAirways pls get me back to Tallahassee:( no...</td>\n",
       "      <td>0</td>\n",
       "    </tr>\n",
       "    <tr>\n",
       "      <th>1567</th>\n",
       "      <td>negative</td>\n",
       "      <td>@united might possibly have the worst service ...</td>\n",
       "      <td>0</td>\n",
       "    </tr>\n",
       "    <tr>\n",
       "      <th>2663</th>\n",
       "      <td>negative</td>\n",
       "      <td>@united Thanks for nothing. Next time I'll bri...</td>\n",
       "      <td>0</td>\n",
       "    </tr>\n",
       "    <tr>\n",
       "      <th>8224</th>\n",
       "      <td>positive</td>\n",
       "      <td>@JetBlue yes thankfully! Catering just got her...</td>\n",
       "      <td>1</td>\n",
       "    </tr>\n",
       "    <tr>\n",
       "      <th>...</th>\n",
       "      <td>...</td>\n",
       "      <td>...</td>\n",
       "      <td>...</td>\n",
       "    </tr>\n",
       "    <tr>\n",
       "      <th>6596</th>\n",
       "      <td>negative</td>\n",
       "      <td>@SouthwestAir Your onboard wifi is so bad it's...</td>\n",
       "      <td>0</td>\n",
       "    </tr>\n",
       "    <tr>\n",
       "      <th>13654</th>\n",
       "      <td>negative</td>\n",
       "      <td>@AmericanAir highly disappointed in the baggag...</td>\n",
       "      <td>0</td>\n",
       "    </tr>\n",
       "    <tr>\n",
       "      <th>10942</th>\n",
       "      <td>positive</td>\n",
       "      <td>@USAirways Thks US #1786 2/19 PHL to FLL. Over...</td>\n",
       "      <td>1</td>\n",
       "    </tr>\n",
       "    <tr>\n",
       "      <th>2866</th>\n",
       "      <td>positive</td>\n",
       "      <td>@united On the plane but thanks! Maybe don't l...</td>\n",
       "      <td>1</td>\n",
       "    </tr>\n",
       "    <tr>\n",
       "      <th>10731</th>\n",
       "      <td>negative</td>\n",
       "      <td>@USAirways I know some folks have to use your ...</td>\n",
       "      <td>0</td>\n",
       "    </tr>\n",
       "  </tbody>\n",
       "</table>\n",
       "<p>4392 rows × 3 columns</p>\n",
       "</div>"
      ],
      "text/plain": [
       "      airline_sentiment                                               text  \\\n",
       "11434          negative  @USAirways would you consider honoring the ori...   \n",
       "9634           negative  @USAirways pls get me back to Tallahassee:( no...   \n",
       "1567           negative  @united might possibly have the worst service ...   \n",
       "2663           negative  @united Thanks for nothing. Next time I'll bri...   \n",
       "8224           positive  @JetBlue yes thankfully! Catering just got her...   \n",
       "...                 ...                                                ...   \n",
       "6596           negative  @SouthwestAir Your onboard wifi is so bad it's...   \n",
       "13654          negative  @AmericanAir highly disappointed in the baggag...   \n",
       "10942          positive  @USAirways Thks US #1786 2/19 PHL to FLL. Over...   \n",
       "2866           positive  @united On the plane but thanks! Maybe don't l...   \n",
       "10731          negative  @USAirways I know some folks have to use your ...   \n",
       "\n",
       "       encoded_sentiment  \n",
       "11434                  0  \n",
       "9634                   0  \n",
       "1567                   0  \n",
       "2663                   0  \n",
       "8224                   1  \n",
       "...                  ...  \n",
       "6596                   0  \n",
       "13654                  0  \n",
       "10942                  1  \n",
       "2866                   1  \n",
       "10731                  0  \n",
       "\n",
       "[4392 rows x 3 columns]"
      ]
     },
     "execution_count": 81,
     "metadata": {},
     "output_type": "execute_result"
    }
   ],
   "source": [
    "df_train"
   ]
  },
  {
   "cell_type": "markdown",
   "id": "8f416771",
   "metadata": {},
   "source": [
    "- print <code>df_test</code> data frame"
   ]
  },
  {
   "cell_type": "code",
   "execution_count": 82,
   "id": "dde91c1c",
   "metadata": {},
   "outputs": [
    {
     "data": {
      "text/html": [
       "<div>\n",
       "<style scoped>\n",
       "    .dataframe tbody tr th:only-of-type {\n",
       "        vertical-align: middle;\n",
       "    }\n",
       "\n",
       "    .dataframe tbody tr th {\n",
       "        vertical-align: top;\n",
       "    }\n",
       "\n",
       "    .dataframe thead th {\n",
       "        text-align: right;\n",
       "    }\n",
       "</style>\n",
       "<table border=\"1\" class=\"dataframe\">\n",
       "  <thead>\n",
       "    <tr style=\"text-align: right;\">\n",
       "      <th></th>\n",
       "      <th>airline_sentiment</th>\n",
       "      <th>text</th>\n",
       "      <th>encoded_sentiment</th>\n",
       "    </tr>\n",
       "  </thead>\n",
       "  <tbody>\n",
       "    <tr>\n",
       "      <th>11453</th>\n",
       "      <td>negative</td>\n",
       "      <td>@USAirways they said because there was no meal...</td>\n",
       "      <td>0</td>\n",
       "    </tr>\n",
       "    <tr>\n",
       "      <th>965</th>\n",
       "      <td>negative</td>\n",
       "      <td>@united #albanyairport delayed departure to ch...</td>\n",
       "      <td>0</td>\n",
       "    </tr>\n",
       "    <tr>\n",
       "      <th>5774</th>\n",
       "      <td>positive</td>\n",
       "      <td>@SouthwestAir Hi! I ❤️ your company and fly al...</td>\n",
       "      <td>1</td>\n",
       "    </tr>\n",
       "    <tr>\n",
       "      <th>9838</th>\n",
       "      <td>negative</td>\n",
       "      <td>@USAirways @AmericanAir will one of you please...</td>\n",
       "      <td>0</td>\n",
       "    </tr>\n",
       "    <tr>\n",
       "      <th>10590</th>\n",
       "      <td>negative</td>\n",
       "      <td>@USAirways flight 813 DCA to CLT stuck waiting...</td>\n",
       "      <td>0</td>\n",
       "    </tr>\n",
       "    <tr>\n",
       "      <th>...</th>\n",
       "      <td>...</td>\n",
       "      <td>...</td>\n",
       "      <td>...</td>\n",
       "    </tr>\n",
       "    <tr>\n",
       "      <th>10612</th>\n",
       "      <td>negative</td>\n",
       "      <td>All followers please note that @USAirways is n...</td>\n",
       "      <td>0</td>\n",
       "    </tr>\n",
       "    <tr>\n",
       "      <th>2820</th>\n",
       "      <td>negative</td>\n",
       "      <td>@united Terribly disappointed. Confirmed reser...</td>\n",
       "      <td>0</td>\n",
       "    </tr>\n",
       "    <tr>\n",
       "      <th>6846</th>\n",
       "      <td>neutral</td>\n",
       "      <td>@JetBlue Hi there, any rough idea of when Janu...</td>\n",
       "      <td>2</td>\n",
       "    </tr>\n",
       "    <tr>\n",
       "      <th>4961</th>\n",
       "      <td>positive</td>\n",
       "      <td>@SouthwestAir  Mad love http://t.co/4ojrSDWPkK...</td>\n",
       "      <td>1</td>\n",
       "    </tr>\n",
       "    <tr>\n",
       "      <th>11507</th>\n",
       "      <td>neutral</td>\n",
       "      <td>@USAirways No, this is a systemic problem. Mai...</td>\n",
       "      <td>2</td>\n",
       "    </tr>\n",
       "  </tbody>\n",
       "</table>\n",
       "<p>10248 rows × 3 columns</p>\n",
       "</div>"
      ],
      "text/plain": [
       "      airline_sentiment                                               text  \\\n",
       "11453          negative  @USAirways they said because there was no meal...   \n",
       "965            negative  @united #albanyairport delayed departure to ch...   \n",
       "5774           positive  @SouthwestAir Hi! I ❤️ your company and fly al...   \n",
       "9838           negative  @USAirways @AmericanAir will one of you please...   \n",
       "10590          negative  @USAirways flight 813 DCA to CLT stuck waiting...   \n",
       "...                 ...                                                ...   \n",
       "10612          negative  All followers please note that @USAirways is n...   \n",
       "2820           negative  @united Terribly disappointed. Confirmed reser...   \n",
       "6846            neutral  @JetBlue Hi there, any rough idea of when Janu...   \n",
       "4961           positive  @SouthwestAir  Mad love http://t.co/4ojrSDWPkK...   \n",
       "11507           neutral  @USAirways No, this is a systemic problem. Mai...   \n",
       "\n",
       "       encoded_sentiment  \n",
       "11453                  0  \n",
       "965                    0  \n",
       "5774                   1  \n",
       "9838                   0  \n",
       "10590                  0  \n",
       "...                  ...  \n",
       "10612                  0  \n",
       "2820                   0  \n",
       "6846                   2  \n",
       "4961                   1  \n",
       "11507                  2  \n",
       "\n",
       "[10248 rows x 3 columns]"
      ]
     },
     "execution_count": 82,
     "metadata": {},
     "output_type": "execute_result"
    }
   ],
   "source": [
    "df_test"
   ]
  },
  {
   "cell_type": "markdown",
   "id": "aadf5cfb",
   "metadata": {},
   "source": [
    "- Build a logistic reggression instace \n",
    "\n",
    "<small><code>max_iter</code> number of training processes taken to converge with the default values</small>"
   ]
  },
  {
   "cell_type": "code",
   "execution_count": 83,
   "id": "d1820113",
   "metadata": {},
   "outputs": [],
   "source": [
    "model = LogisticRegression(max_iter = 500)"
   ]
  },
  {
   "cell_type": "markdown",
   "id": "e3ac5399",
   "metadata": {},
   "source": [
    "- Fit the both train sets to the model"
   ]
  },
  {
   "cell_type": "code",
   "execution_count": 84,
   "id": "696d86e0",
   "metadata": {},
   "outputs": [
    {
     "data": {
      "text/plain": [
       "LogisticRegression(max_iter=500)"
      ]
     },
     "execution_count": 84,
     "metadata": {},
     "output_type": "execute_result"
    }
   ],
   "source": [
    "model.fit(X_train, Y_train)"
   ]
  },
  {
   "cell_type": "markdown",
   "id": "8aba28c1",
   "metadata": {},
   "source": [
    "- Print train set accuracy"
   ]
  },
  {
   "cell_type": "code",
   "execution_count": 85,
   "id": "7d2a4b7c",
   "metadata": {},
   "outputs": [
    {
     "name": "stdout",
     "output_type": "stream",
     "text": [
      "Train acc: 0.8526867030965392\n"
     ]
    }
   ],
   "source": [
    "print(\"Train acc:\", model.score(X_train, Y_train))"
   ]
  },
  {
   "cell_type": "markdown",
   "id": "2199e2a5",
   "metadata": {},
   "source": [
    "- Print test set accuracy"
   ]
  },
  {
   "cell_type": "code",
   "execution_count": 86,
   "id": "55189152",
   "metadata": {},
   "outputs": [
    {
     "name": "stdout",
     "output_type": "stream",
     "text": [
      "Test acc: 0.779664324746292\n"
     ]
    }
   ],
   "source": [
    "print(\"Test acc:\", model.score(X_test, Y_test))"
   ]
  },
  {
   "cell_type": "markdown",
   "id": "7caed6fb",
   "metadata": {},
   "source": [
    "<small style='color:red'>Note: Both results cannot be interpreted in isolation since there are imbalanced classes</small>"
   ]
  },
  {
   "cell_type": "markdown",
   "id": "d385e3a8",
   "metadata": {},
   "source": [
    "- Check the AUC (infer the class probabilities)"
   ]
  },
  {
   "cell_type": "code",
   "execution_count": 87,
   "id": "80327c8b",
   "metadata": {},
   "outputs": [],
   "source": [
    "Pr_train = model.predict_proba(X_train)\n",
    "Pr_test = model.predict_proba(X_test)"
   ]
  },
  {
   "cell_type": "markdown",
   "id": "b6f89d0f",
   "metadata": {},
   "source": [
    "- Print train AUC"
   ]
  },
  {
   "cell_type": "code",
   "execution_count": 88,
   "id": "bc27d596",
   "metadata": {},
   "outputs": [
    {
     "name": "stdout",
     "output_type": "stream",
     "text": [
      "Train AUC: 0.9559508474794239\n"
     ]
    }
   ],
   "source": [
    "print(\"Train AUC:\", roc_auc_score(Y_train, Pr_train, multi_class = 'ovo'))"
   ]
  },
  {
   "cell_type": "markdown",
   "id": "da996940",
   "metadata": {},
   "source": [
    "- Print test AUC"
   ]
  },
  {
   "cell_type": "code",
   "execution_count": 89,
   "id": "90e69c7f",
   "metadata": {},
   "outputs": [
    {
     "name": "stdout",
     "output_type": "stream",
     "text": [
      "Test acc: 0.8764936196260439\n"
     ]
    }
   ],
   "source": [
    "print(\"Test acc:\", roc_auc_score(Y_test, Pr_test, multi_class = 'ovo'))"
   ]
  },
  {
   "cell_type": "markdown",
   "id": "20b52961",
   "metadata": {},
   "source": [
    "- Get the class labels predictions"
   ]
  },
  {
   "cell_type": "code",
   "execution_count": 90,
   "id": "59301206",
   "metadata": {},
   "outputs": [],
   "source": [
    "P_train = model.predict(X_train)\n",
    "P_test = model.predict(X_test)"
   ]
  },
  {
   "cell_type": "markdown",
   "id": "02e8af65",
   "metadata": {},
   "source": [
    "- Call the confusion matrix function"
   ]
  },
  {
   "cell_type": "code",
   "execution_count": 91,
   "id": "7f5dd412",
   "metadata": {},
   "outputs": [
    {
     "data": {
      "text/plain": [
       "array([[0.97595628, 0.00364299, 0.02040073],\n",
       "       [0.23695346, 0.69816643, 0.06488011],\n",
       "       [0.35714286, 0.03411514, 0.608742  ]])"
      ]
     },
     "execution_count": 91,
     "metadata": {},
     "output_type": "execute_result"
    }
   ],
   "source": [
    "cm = confusion_matrix(Y_train, P_train, normalize='true')\n",
    "cm"
   ]
  },
  {
   "cell_type": "markdown",
   "id": "1066e943",
   "metadata": {},
   "source": [
    "- Plot the confusion matrix"
   ]
  },
  {
   "cell_type": "code",
   "execution_count": 92,
   "id": "84ddb6ea",
   "metadata": {},
   "outputs": [],
   "source": [
    "classes = ['negative', 'positive', 'neutral'] "
   ]
  },
  {
   "cell_type": "code",
   "execution_count": 93,
   "id": "9a38b196",
   "metadata": {},
   "outputs": [
    {
     "data": {
      "text/plain": [
       "Text(33.0, 0.5, 'Target')"
      ]
     },
     "execution_count": 93,
     "metadata": {},
     "output_type": "execute_result"
    },
    {
     "data": {
      "image/png": "[encoded data removed]",
      "text/plain": [
       "<Figure size 432x288 with 2 Axes>"
      ]
     },
     "metadata": {
      "needs_background": "light"
     },
     "output_type": "display_data"
    }
   ],
   "source": [
    "df_cm = pd.DataFrame(cm, index=classes, columns=classes)\n",
    "\n",
    "ax = sn.heatmap(df_cm, annot=True, fmt='g')\n",
    "ax.set_xlabel(\"Predicted\")\n",
    "ax.set_ylabel(\"Target\")"
   ]
  },
  {
   "cell_type": "markdown",
   "id": "3f1b3540",
   "metadata": {},
   "source": [
    "<ul>\n",
    "    <li>Model do very well on negative class</li>\n",
    "    <li>For positive class we get around 70 %</li>\n",
    "    <li>When we do not predict the positive class corectly, we actually predict negative rather than neutral (it seems that there is a little chance of confusing positive tweets with neutral tweets)</li>\n",
    "    <li>Predicting neutral is the worst. If we predict wrong neutral, it will be rather negative than positive</li>\n",
    "</ul>\n",
    "\n",
    "<small>Note: Model is biased towards the negative class as it is overrepsented class</small>"
   ]
  },
  {
   "cell_type": "code",
   "execution_count": 94,
   "id": "bc5c6e4c",
   "metadata": {},
   "outputs": [
    {
     "data": {
      "text/plain": [
       "array([[0.94730297, 0.01321312, 0.03948391],\n",
       "       [0.32648126, 0.53990326, 0.13361548],\n",
       "       [0.47987043, 0.0559926 , 0.46413697]])"
      ]
     },
     "execution_count": 94,
     "metadata": {},
     "output_type": "execute_result"
    }
   ],
   "source": [
    "cm_test = confusion_matrix(Y_test, P_test, normalize='true')\n",
    "cm_test"
   ]
  },
  {
   "cell_type": "code",
   "execution_count": 95,
   "id": "d8b5511e",
   "metadata": {},
   "outputs": [
    {
     "data": {
      "text/plain": [
       "Text(33.0, 0.5, 'Target')"
      ]
     },
     "execution_count": 95,
     "metadata": {},
     "output_type": "execute_result"
    },
    {
     "data": {
      "image/png": "[encoded data removed]",
      "text/plain": [
       "<Figure size 432x288 with 2 Axes>"
      ]
     },
     "metadata": {
      "needs_background": "light"
     },
     "output_type": "display_data"
    }
   ],
   "source": [
    "df_cm = pd.DataFrame(cm_test, index=classes, columns=classes)\n",
    "\n",
    "ax = sn.heatmap(df_cm, annot=True, fmt='g')\n",
    "ax.set_xlabel(\"Predicted\")\n",
    "ax.set_ylabel(\"Target\")"
   ]
  },
  {
   "cell_type": "markdown",
   "id": "e0c85b58",
   "metadata": {},
   "source": [
    "<small style='color:red'>Performance is a bit worse! It's biased towards negative class.</small>"
   ]
  },
  {
   "cell_type": "markdown",
   "id": "9759109d",
   "metadata": {},
   "source": [
    "<h3>Train model without neutral class</h3>"
   ]
  },
  {
   "cell_type": "markdown",
   "id": "dec72040",
   "metadata": {},
   "source": [
    "- Take the samples that are classified as positive and negative"
   ]
  },
  {
   "cell_type": "code",
   "execution_count": 96,
   "id": "ebc965c9",
   "metadata": {},
   "outputs": [
    {
     "data": {
      "text/plain": [
       "[1, 0]"
      ]
     },
     "execution_count": 96,
     "metadata": {},
     "output_type": "execute_result"
    }
   ],
   "source": [
    "binary_target_list = [sentiment_encode['positive'], sentiment_encode['negative']]                    \n",
    "binary_target_list        "
   ]
  },
  {
   "cell_type": "markdown",
   "id": "6202d03e",
   "metadata": {},
   "source": [
    "- Filter the rows with the <code>encoded_sentiment</code> equal to 2"
   ]
  },
  {
   "cell_type": "code",
   "execution_count": 97,
   "id": "f9e7f9a7",
   "metadata": {},
   "outputs": [
    {
     "name": "stdout",
     "output_type": "stream",
     "text": [
      "Number of neutral airline_sentiment: 0\n",
      "Number of neutral airline_sentiment: 0\n"
     ]
    }
   ],
   "source": [
    "df_b_train = df_train[df_train['encoded_sentiment'] != 2]\n",
    "df_b_test = df_test[df_test['encoded_sentiment'] != 2]\n",
    "\n",
    "print(\"Number of neutral airline_sentiment:\", df_b_train.query('airline_sentiment == \"neutral\"')['airline_sentiment'].count())\n",
    "print(\"Number of neutral airline_sentiment:\", df_b_test.query('airline_sentiment == \"neutral\"')['airline_sentiment'].count())"
   ]
  },
  {
   "cell_type": "markdown",
   "id": "b081448b",
   "metadata": {},
   "source": [
    "- Print last five records"
   ]
  },
  {
   "cell_type": "code",
   "execution_count": 98,
   "id": "5151195a",
   "metadata": {},
   "outputs": [
    {
     "data": {
      "text/html": [
       "<div>\n",
       "<style scoped>\n",
       "    .dataframe tbody tr th:only-of-type {\n",
       "        vertical-align: middle;\n",
       "    }\n",
       "\n",
       "    .dataframe tbody tr th {\n",
       "        vertical-align: top;\n",
       "    }\n",
       "\n",
       "    .dataframe thead th {\n",
       "        text-align: right;\n",
       "    }\n",
       "</style>\n",
       "<table border=\"1\" class=\"dataframe\">\n",
       "  <thead>\n",
       "    <tr style=\"text-align: right;\">\n",
       "      <th></th>\n",
       "      <th>airline_sentiment</th>\n",
       "      <th>text</th>\n",
       "      <th>encoded_sentiment</th>\n",
       "    </tr>\n",
       "  </thead>\n",
       "  <tbody>\n",
       "    <tr>\n",
       "      <th>6596</th>\n",
       "      <td>negative</td>\n",
       "      <td>@SouthwestAir Your onboard wifi is so bad it's...</td>\n",
       "      <td>0</td>\n",
       "    </tr>\n",
       "    <tr>\n",
       "      <th>13654</th>\n",
       "      <td>negative</td>\n",
       "      <td>@AmericanAir highly disappointed in the baggag...</td>\n",
       "      <td>0</td>\n",
       "    </tr>\n",
       "    <tr>\n",
       "      <th>10942</th>\n",
       "      <td>positive</td>\n",
       "      <td>@USAirways Thks US #1786 2/19 PHL to FLL. Over...</td>\n",
       "      <td>1</td>\n",
       "    </tr>\n",
       "    <tr>\n",
       "      <th>2866</th>\n",
       "      <td>positive</td>\n",
       "      <td>@united On the plane but thanks! Maybe don't l...</td>\n",
       "      <td>1</td>\n",
       "    </tr>\n",
       "    <tr>\n",
       "      <th>10731</th>\n",
       "      <td>negative</td>\n",
       "      <td>@USAirways I know some folks have to use your ...</td>\n",
       "      <td>0</td>\n",
       "    </tr>\n",
       "  </tbody>\n",
       "</table>\n",
       "</div>"
      ],
      "text/plain": [
       "      airline_sentiment                                               text  \\\n",
       "6596           negative  @SouthwestAir Your onboard wifi is so bad it's...   \n",
       "13654          negative  @AmericanAir highly disappointed in the baggag...   \n",
       "10942          positive  @USAirways Thks US #1786 2/19 PHL to FLL. Over...   \n",
       "2866           positive  @united On the plane but thanks! Maybe don't l...   \n",
       "10731          negative  @USAirways I know some folks have to use your ...   \n",
       "\n",
       "       encoded_sentiment  \n",
       "6596                   0  \n",
       "13654                  0  \n",
       "10942                  1  \n",
       "2866                   1  \n",
       "10731                  0  "
      ]
     },
     "execution_count": 98,
     "metadata": {},
     "output_type": "execute_result"
    }
   ],
   "source": [
    "df_b_train.tail()"
   ]
  },
  {
   "cell_type": "markdown",
   "id": "d79cd0f3",
   "metadata": {},
   "source": [
    "- Convert dataset into TD IDF vectorizer object"
   ]
  },
  {
   "cell_type": "code",
   "execution_count": 99,
   "id": "275c4404",
   "metadata": {},
   "outputs": [],
   "source": [
    "X_train = vectorizer.fit_transform(df_b_train[\"text\"])\n",
    "X_test = vectorizer.fit_transform(df_b_test[\"text\"])"
   ]
  },
  {
   "cell_type": "markdown",
   "id": "d2f4cec0",
   "metadata": {},
   "source": [
    "- Get the <code>encoded_sentiment</code> classes and obtain <code>Y_train</code> and <code>Y_test</code>"
   ]
  },
  {
   "cell_type": "code",
   "execution_count": 100,
   "id": "b28d7671",
   "metadata": {},
   "outputs": [],
   "source": [
    "Y_train = df_b_train['encoded_sentiment']\n",
    "Y_test = df_b_test['encoded_sentiment']"
   ]
  },
  {
   "cell_type": "markdown",
   "id": "29329b3b",
   "metadata": {},
   "source": [
    "- Train a new model on binary dataset"
   ]
  },
  {
   "cell_type": "code",
   "execution_count": 101,
   "id": "d30b9a89",
   "metadata": {},
   "outputs": [
    {
     "data": {
      "text/plain": [
       "LogisticRegression(max_iter=500)"
      ]
     },
     "execution_count": 101,
     "metadata": {},
     "output_type": "execute_result"
    }
   ],
   "source": [
    "model = LogisticRegression(max_iter=500)\n",
    "model.fit(X_train, Y_train)"
   ]
  },
  {
   "cell_type": "markdown",
   "id": "01b2bd57",
   "metadata": {},
   "source": [
    "- Print the binary accuracy"
   ]
  },
  {
   "cell_type": "code",
   "execution_count": 102,
   "id": "73d8692d",
   "metadata": {},
   "outputs": [
    {
     "name": "stdout",
     "output_type": "stream",
     "text": [
      "Train acc: 0.917486971627099\n",
      "Test acc: 0.7895387659206133\n"
     ]
    }
   ],
   "source": [
    "print(\"Train acc:\", model.score(X_train, Y_train))\n",
    "print(\"Test acc:\", model.score(X_test, Y_test))"
   ]
  },
  {
   "cell_type": "markdown",
   "id": "4609464c",
   "metadata": {},
   "source": [
    "- Compute the AUC\n",
    "\n",
    "<small>Because we have binary classes, we only need one complement index 1 from the probabilities</small>"
   ]
  },
  {
   "cell_type": "code",
   "execution_count": 103,
   "id": "bc01a858",
   "metadata": {},
   "outputs": [],
   "source": [
    "Pr_train = model.predict_proba(X_train)[:, 1]\n",
    "Pr_test = model.predict_proba(X_test)[:, 1]"
   ]
  },
  {
   "cell_type": "markdown",
   "id": "accfd97d",
   "metadata": {},
   "source": [
    "- Print the binary accuracy"
   ]
  },
  {
   "cell_type": "code",
   "execution_count": 104,
   "id": "c91f81eb",
   "metadata": {},
   "outputs": [
    {
     "name": "stdout",
     "output_type": "stream",
     "text": [
      "Train AUC: 0.9797919540850014\n",
      "Test AUC: 0.4429255533410989\n"
     ]
    }
   ],
   "source": [
    "print(\"Train AUC:\", roc_auc_score(Y_train, Pr_train))\n",
    "print(\"Test AUC:\", roc_auc_score(Y_test, Pr_test))"
   ]
  },
  {
   "cell_type": "markdown",
   "id": "43436ba0",
   "metadata": {},
   "source": [
    "- Obtain a weights from the trained model"
   ]
  },
  {
   "cell_type": "code",
   "execution_count": 105,
   "id": "aee0a2fb",
   "metadata": {},
   "outputs": [
    {
     "data": {
      "text/plain": [
       "array([[-0.18885046, -0.18586426, -0.08895383, ...,  0.23569296,\n",
       "         0.37591575, -0.24746794]])"
      ]
     },
     "execution_count": 105,
     "metadata": {},
     "output_type": "execute_result"
    }
   ],
   "source": [
    "model.coef_"
   ]
  },
  {
   "cell_type": "markdown",
   "id": "9730b5a5",
   "metadata": {},
   "source": [
    "- Plot the histogram of the weights\n",
    "\n",
    "<small></small>"
   ]
  },
  {
   "cell_type": "code",
   "execution_count": 106,
   "id": "eb4d99dc",
   "metadata": {},
   "outputs": [
    {
     "data": {
      "text/plain": [
       "(array([  2.,   0.,   0.,   0.,   2.,   9.,  13.,  22.,  32.,  96., 355.,\n",
       "        838., 344., 143.,  68.,  36.,  16.,  10.,   1.,   1.,   1.,   2.,\n",
       "          3.,   1.,   2.,   0.,   0.,   1.,   0.,   0.,   0.,   0.,   0.,\n",
       "          0.,   0.,   0.,   0.,   1.,   0.,   1.]),\n",
       " array([-2.84204983, -2.60174561, -2.36144139, -2.12113716, -1.88083294,\n",
       "        -1.64052872, -1.40022449, -1.15992027, -0.91961605, -0.67931182,\n",
       "        -0.4390076 , -0.19870338,  0.04160084,  0.28190507,  0.52220929,\n",
       "         0.76251351,  1.00281774,  1.24312196,  1.48342618,  1.72373041,\n",
       "         1.96403463,  2.20433885,  2.44464307,  2.6849473 ,  2.92525152,\n",
       "         3.16555574,  3.40585997,  3.64616419,  3.88646841,  4.12677264,\n",
       "         4.36707686,  4.60738108,  4.8476853 ,  5.08798953,  5.32829375,\n",
       "         5.56859797,  5.8089022 ,  6.04920642,  6.28951064,  6.52981487,\n",
       "         6.77011909]),\n",
       " <BarContainer object of 40 artists>)"
      ]
     },
     "execution_count": 106,
     "metadata": {},
     "output_type": "execute_result"
    },
    {
     "data": {
      "image/png": "[encoded data removed]",
      "text/plain": [
       "<Figure size 432x288 with 1 Axes>"
      ]
     },
     "metadata": {
      "needs_background": "light"
     },
     "output_type": "display_data"
    }
   ],
   "source": [
    "plt.hist(model.coef_[0], bins = 40)"
   ]
  },
  {
   "cell_type": "markdown",
   "id": "5340a04f",
   "metadata": {},
   "source": [
    "- Obtain the words to index mapping because we won't know which words correspond to which input"
   ]
  },
  {
   "cell_type": "code",
   "execution_count": 107,
   "id": "caf88ec5",
   "metadata": {},
   "outputs": [
    {
     "data": {
      "text/plain": [
       "{'usairways': 1866,\n",
       " 'they': 1741,\n",
       " 'said': 1511,\n",
       " 'because': 231,\n",
       " 'there': 1739,\n",
       " 'was': 1908,\n",
       " 'no': 1208,\n",
       " 'meal': 1116,\n",
       " 'on': 1246,\n",
       " 'my': 1185,\n",
       " 'flight': 726,\n",
       " 'would': 1975,\n",
       " 'not': 1216,\n",
       " 'what': 1935,\n",
       " 'airline': 117,\n",
       " 'food': 754,\n",
       " 'anymore': 159,\n",
       " 'update': 1856,\n",
       " 'in': 943,\n",
       " 'policy': 1352,\n",
       " 'united': 1846,\n",
       " 'delayed': 500,\n",
       " 'departure': 514,\n",
       " 'to': 1772,\n",
       " 'check': 355,\n",
       " 'bags': 220,\n",
       " 'at': 191,\n",
       " 'gate': 795,\n",
       " 'space': 1633,\n",
       " 'filled': 709,\n",
       " 'and': 146,\n",
       " 'walk': 1899,\n",
       " 'open': 1254,\n",
       " 'delay': 499,\n",
       " 'southwestair': 1631,\n",
       " 'hi': 884,\n",
       " 'your': 1995,\n",
       " 'company': 404,\n",
       " 'fly': 745,\n",
       " 'all': 124,\n",
       " 'the': 1735,\n",
       " 'time': 1764,\n",
       " 'if': 932,\n",
       " 'you': 1994,\n",
       " 'could': 449,\n",
       " 'please': 1341,\n",
       " 'share': 1563,\n",
       " 'this': 1748,\n",
       " 'link': 1050,\n",
       " 'amp': 144,\n",
       " 'read': 1419,\n",
       " 'http': 917,\n",
       " 'co': 385,\n",
       " 'americanair': 141,\n",
       " 'will': 1948,\n",
       " 'one': 1249,\n",
       " 'of': 1231,\n",
       " 'answer': 154,\n",
       " 'phone': 1318,\n",
       " 'dca': 492,\n",
       " 'clt': 380,\n",
       " 'stuck': 1673,\n",
       " 'waiting': 1897,\n",
       " 'missing': 1158,\n",
       " 'flt': 743,\n",
       " 'hope': 899,\n",
       " 'can': 308,\n",
       " 'rebook': 1427,\n",
       " 'me': 1115,\n",
       " 'listening': 1053,\n",
       " 'center': 335,\n",
       " 'is': 971,\n",
       " 'seating': 1532,\n",
       " 'just': 993,\n",
       " 'like': 1046,\n",
       " 'their': 1736,\n",
       " 'planes': 1334,\n",
       " 'thank': 1729,\n",
       " 'got': 821,\n",
       " 'cancelled': 310,\n",
       " 'flightled': 734,\n",
       " '16': 13,\n",
       " 'due': 590,\n",
       " 'lack': 1011,\n",
       " 'crew': 465,\n",
       " 'told': 1775,\n",
       " 'that': 1733,\n",
       " 'be': 229,\n",
       " 'reimbursed': 1442,\n",
       " 'for': 755,\n",
       " 'hotel': 907,\n",
       " 'who': 1942,\n",
       " 'do': 560,\n",
       " 'contact': 436,\n",
       " 'virginamerica': 1889,\n",
       " 'how': 913,\n",
       " 'reschedule': 1461,\n",
       " 'flights': 738,\n",
       " 'online': 1251,\n",
       " 'change': 344,\n",
       " 'button': 293,\n",
       " 'out': 1271,\n",
       " 'jetblue': 986,\n",
       " 'she': 1565,\n",
       " 'hung': 923,\n",
       " 'up': 1855,\n",
       " 'before': 234,\n",
       " 'get': 800,\n",
       " 'name': 1188,\n",
       " 'took': 1780,\n",
       " 'keeping': 996,\n",
       " 'hold': 892,\n",
       " 'next': 1202,\n",
       " 'rep': 1448,\n",
       " 'able': 75,\n",
       " 'track': 1787,\n",
       " '25': 29,\n",
       " 'minute': 1153,\n",
       " 'hr': 915,\n",
       " 'min': 1147,\n",
       " 'we': 1919,\n",
       " 'are': 172,\n",
       " 'san': 1513,\n",
       " 'scheduled': 1524,\n",
       " '3pm': 46,\n",
       " 'from': 775,\n",
       " 'city': 367,\n",
       " 'houston': 912,\n",
       " 'wait': 1895,\n",
       " 'any': 158,\n",
       " 'idea': 930,\n",
       " 'caused': 331,\n",
       " 'fll': 739,\n",
       " 'gt': 830,\n",
       " 'person': 1310,\n",
       " '50': 53,\n",
       " 'people': 1306,\n",
       " 'plane': 1333,\n",
       " 'boards': 260,\n",
       " '20': 21,\n",
       " 'minutes': 1154,\n",
       " 'he': 863,\n",
       " 'telling': 1721,\n",
       " 'exec': 654,\n",
       " 'seriously': 1551,\n",
       " 'reason': 1424,\n",
       " 'long': 1067,\n",
       " 'times': 1766,\n",
       " 'guys': 834,\n",
       " 'with': 1954,\n",
       " 'airport': 120,\n",
       " 'self': 1544,\n",
       " 'checkin': 357,\n",
       " 'only': 1252,\n",
       " 'option': 1258,\n",
       " 'now': 1224,\n",
       " 'employee': 616,\n",
       " 'training': 1791,\n",
       " 'send': 1546,\n",
       " 'asap': 182,\n",
       " 'have': 860,\n",
       " 'contacted': 437,\n",
       " 'them': 1737,\n",
       " 'but': 292,\n",
       " 'an': 145,\n",
       " 'automated': 201,\n",
       " 'response': 1472,\n",
       " 'won': 1957,\n",
       " 'give': 805,\n",
       " 'code': 388,\n",
       " 'too': 1779,\n",
       " 'late': 1022,\n",
       " 'ivr': 982,\n",
       " 'using': 1873,\n",
       " 'call': 301,\n",
       " 'back': 214,\n",
       " 'email': 611,\n",
       " 'know': 1005,\n",
       " 'so': 1612,\n",
       " 'go': 811,\n",
       " 'knowing': 1006,\n",
       " 'issue': 973,\n",
       " 'find': 712,\n",
       " 'fix': 720,\n",
       " 'it': 976,\n",
       " 'has': 856,\n",
       " 'failed': 675,\n",
       " 'day': 489,\n",
       " 'should': 1572,\n",
       " 'blame': 253,\n",
       " 'yes': 1990,\n",
       " 'service': 1554,\n",
       " 'sucks': 1678,\n",
       " 'agent': 109,\n",
       " 'passenger': 1293,\n",
       " 'been': 233,\n",
       " 'rude': 1499,\n",
       " 'everyone': 643,\n",
       " 'since': 1586,\n",
       " 'here': 882,\n",
       " 'weather': 1920,\n",
       " 'may': 1111,\n",
       " 'reflight': 1435,\n",
       " 'booking': 263,\n",
       " 'problems': 1379,\n",
       " 'options': 1259,\n",
       " 'available': 204,\n",
       " 'refund': 1436,\n",
       " 'also': 133,\n",
       " 'apology': 166,\n",
       " 'again': 107,\n",
       " 'every': 642,\n",
       " 'maintenance': 1097,\n",
       " 'issues': 975,\n",
       " 'another': 153,\n",
       " 'customer': 477,\n",
       " 'sorry': 1625,\n",
       " 'actually': 93,\n",
       " 'anything': 161,\n",
       " 'about': 76,\n",
       " 'guess': 832,\n",
       " 'systems': 1700,\n",
       " 'beyond': 244,\n",
       " 'or': 1260,\n",
       " 'lines': 1049,\n",
       " 'suck': 1677,\n",
       " 'us': 1864,\n",
       " 'air': 114,\n",
       " 'philly': 1314,\n",
       " 'talk': 1709,\n",
       " 'real': 1421,\n",
       " 'then': 1738,\n",
       " 'old': 1244,\n",
       " 'luggage': 1091,\n",
       " 'tag': 1703,\n",
       " 'other': 1267,\n",
       " 'jb': 984,\n",
       " 'flighted': 730,\n",
       " 'our': 1270,\n",
       " 'hour': 909,\n",
       " 'vacation': 1877,\n",
       " 'why': 1945,\n",
       " 'flightling': 735,\n",
       " 'tickets': 1761,\n",
       " 'customers': 478,\n",
       " 'three': 1755,\n",
       " 'months': 1170,\n",
       " 'miles': 1146,\n",
       " 'haven': 861,\n",
       " 'going': 815,\n",
       " 'sent': 1549,\n",
       " 'called': 303,\n",
       " 'flightlation': 732,\n",
       " 'ask': 184,\n",
       " 're': 1416,\n",
       " 'were': 1931,\n",
       " 'traveled': 1795,\n",
       " 'last': 1021,\n",
       " 'year': 1986,\n",
       " 've': 1880,\n",
       " 'flown': 742,\n",
       " 'figured': 705,\n",
       " 'worth': 1974,\n",
       " 'first': 717,\n",
       " 'ever': 641,\n",
       " 'airways': 122,\n",
       " 'ord': 1261,\n",
       " 'ground': 827,\n",
       " 'had': 836,\n",
       " 'move': 1176,\n",
       " '200': 22,\n",
       " 'right': 1482,\n",
       " 'traveling': 1798,\n",
       " 'dropped': 584,\n",
       " 'ball': 221,\n",
       " 'making': 1101,\n",
       " 'night': 1205,\n",
       " 'say': 1519,\n",
       " 'more': 1171,\n",
       " 'than': 1728,\n",
       " '140': 10,\n",
       " 'characters': 348,\n",
       " 'plus': 1345,\n",
       " 'don': 568,\n",
       " 'follow': 751,\n",
       " 'load': 1059,\n",
       " 'system': 1699,\n",
       " 'apparently': 168,\n",
       " 'down': 575,\n",
       " 'major': 1098,\n",
       " 'airlines': 118,\n",
       " 'help': 876,\n",
       " 'awesome': 210,\n",
       " 'agents': 110,\n",
       " 'las': 1020,\n",
       " 'getting': 802,\n",
       " 'home': 894,\n",
       " 'add': 94,\n",
       " 'wifi': 1947,\n",
       " 'entertainment': 625,\n",
       " 'seats': 1533,\n",
       " 'll': 1058,\n",
       " 'come': 392,\n",
       " 'happened': 849,\n",
       " 'afternoon': 106,\n",
       " 'huge': 919,\n",
       " 'sfo': 1560,\n",
       " 'over': 1276,\n",
       " 'hours': 910,\n",
       " 'frustrating': 779,\n",
       " 'its': 980,\n",
       " 'wasn': 1909,\n",
       " 'offered': 1234,\n",
       " 'by': 296,\n",
       " 'asked': 185,\n",
       " 'missed': 1157,\n",
       " 'male': 1102,\n",
       " 'stewardess': 1662,\n",
       " 'landed': 1016,\n",
       " 'already': 132,\n",
       " 'taken': 1705,\n",
       " 'off': 1232,\n",
       " 'yet': 1992,\n",
       " 'understand': 1839,\n",
       " '14': 9,\n",
       " 'flightr': 737,\n",
       " 'still': 1664,\n",
       " 'heard': 869,\n",
       " 'word': 1961,\n",
       " 'plan': 1332,\n",
       " 'week': 1925,\n",
       " 'zero': 1998,\n",
       " 'information': 959,\n",
       " 'write': 1978,\n",
       " 'letter': 1038,\n",
       " 'upset': 1862,\n",
       " 'leave': 1028,\n",
       " 'tomorrow': 1776,\n",
       " 'without': 1955,\n",
       " 'notice': 1220,\n",
       " 'am': 137,\n",
       " 'clue': 382,\n",
       " 'place': 1330,\n",
       " 'stay': 1659,\n",
       " 'bump': 286,\n",
       " 'group': 829,\n",
       " 'forced': 756,\n",
       " 'bag': 218,\n",
       " '30': 36,\n",
       " 'lga': 1041,\n",
       " 'ha': 835,\n",
       " 'fun': 786,\n",
       " 'folks': 750,\n",
       " 'platinum': 1338,\n",
       " 'desk': 520,\n",
       " 'great': 825,\n",
       " 'fees': 698,\n",
       " 'switch': 1696,\n",
       " 'sw': 1693,\n",
       " 'relations': 1445,\n",
       " 'date': 487,\n",
       " 'travel': 1794,\n",
       " 'funds': 787,\n",
       " 'changes': 346,\n",
       " 'two': 1825,\n",
       " 'delays': 502,\n",
       " 'even': 637,\n",
       " 'thinks': 1746,\n",
       " 'nope': 1213,\n",
       " 'walked': 1900,\n",
       " 'terminal': 1723,\n",
       " 'found': 763,\n",
       " 'showed': 1576,\n",
       " 'board': 257,\n",
       " 'many': 1107,\n",
       " 'direct': 538,\n",
       " 'phl': 1315,\n",
       " 'want': 1904,\n",
       " 'anyone': 160,\n",
       " 'else': 609,\n",
       " 'sadly': 1507,\n",
       " 'didn': 530,\n",
       " 'meeting': 1125,\n",
       " 'work': 1963,\n",
       " 'today': 1773,\n",
       " 'seeing': 1539,\n",
       " 'as': 181,\n",
       " 'cant': 314,\n",
       " 'award': 207,\n",
       " 'purchased': 1398,\n",
       " 'extra': 668,\n",
       " '10': 3,\n",
       " 'needed': 1195,\n",
       " 'game': 793,\n",
       " 'friendly': 772,\n",
       " 'thanks': 1731,\n",
       " 'moved': 1177,\n",
       " 'standby': 1649,\n",
       " 'holding': 893,\n",
       " 'boarding': 259,\n",
       " 'pass': 1290,\n",
       " 'yesterday': 1991,\n",
       " 'kept': 998,\n",
       " 'saying': 1520,\n",
       " 'directly': 539,\n",
       " 'boston': 265,\n",
       " 'after': 105,\n",
       " 'oh': 1240,\n",
       " 'fine': 714,\n",
       " 'lost': 1075,\n",
       " 'much': 1181,\n",
       " 'looks': 1071,\n",
       " 'least': 1027,\n",
       " 'half': 838,\n",
       " 'conference': 420,\n",
       " '777': 66,\n",
       " 'star': 1651,\n",
       " 'alliance': 125,\n",
       " 'short': 1570,\n",
       " 'amazing': 138,\n",
       " 'morning': 1172,\n",
       " 'doesn': 562,\n",
       " 'barely': 223,\n",
       " 'works': 1967,\n",
       " 'way': 1917,\n",
       " 'treat': 1800,\n",
       " 'someone': 1619,\n",
       " 'explain': 665,\n",
       " 'make': 1099,\n",
       " 'acceptable': 82,\n",
       " 'working': 1966,\n",
       " 'hard': 853,\n",
       " 'most': 1174,\n",
       " 'having': 862,\n",
       " 'pm': 1347,\n",
       " '12': 7,\n",
       " 'lax': 1023,\n",
       " 'seat': 1531,\n",
       " 'broken': 277,\n",
       " 'takeoff': 1706,\n",
       " 'full': 784,\n",
       " 'fa': 670,\n",
       " 'filed': 707,\n",
       " 'report': 1452,\n",
       " 'ewr': 645,\n",
       " 'tells': 1722,\n",
       " 'wife': 1946,\n",
       " 'yr': 1996,\n",
       " 'ny': 1228,\n",
       " 'catch': 328,\n",
       " 'yyz': 1997,\n",
       " 'good': 819,\n",
       " 'customerservice': 479,\n",
       " 'dead': 494,\n",
       " '40': 48,\n",
       " 'talked': 1710,\n",
       " 'gonna': 818,\n",
       " 'ok': 1241,\n",
       " 'honeymoon': 897,\n",
       " 'ago': 111,\n",
       " 'professional': 1382,\n",
       " 'learned': 1026,\n",
       " 'these': 1740,\n",
       " 'attendants': 196,\n",
       " 'need': 1194,\n",
       " 'some': 1616,\n",
       " 'notification': 1221,\n",
       " 'website': 1922,\n",
       " 'clearly': 376,\n",
       " 'inadequate': 944,\n",
       " 'app': 167,\n",
       " 'flying': 749,\n",
       " 'weeks': 1927,\n",
       " 'family': 681,\n",
       " 'friends': 773,\n",
       " 'sitting': 1593,\n",
       " 'cold': 390,\n",
       " 'nice': 1203,\n",
       " 'earlier': 596,\n",
       " 'refunded': 1437,\n",
       " 'those': 1751,\n",
       " 'free': 767,\n",
       " 'room': 1487,\n",
       " 'sleep': 1601,\n",
       " 'dia': 528,\n",
       " 'job': 990,\n",
       " 'losing': 1073,\n",
       " 'six': 1595,\n",
       " 'fee': 693,\n",
       " 'same': 1512,\n",
       " 'price': 1370,\n",
       " 'new': 1199,\n",
       " 'ticket': 1760,\n",
       " 'through': 1756,\n",
       " 'really': 1423,\n",
       " 'important': 939,\n",
       " 'plz': 1346,\n",
       " 'trying': 1813,\n",
       " 'use': 1869,\n",
       " 'chairman': 341,\n",
       " 'upgrade': 1859,\n",
       " '26': 30,\n",
       " 'being': 237,\n",
       " 'ride': 1480,\n",
       " '800': 69,\n",
       " 'video': 1884,\n",
       " 'flighting': 731,\n",
       " 'made': 1094,\n",
       " 'snow': 1611,\n",
       " 'flightlations': 733,\n",
       " 'ridiculous': 1481,\n",
       " 'connections': 431,\n",
       " 'quick': 1408,\n",
       " '22': 25,\n",
       " 'mdw': 1114,\n",
       " 'attendant': 195,\n",
       " 'fast': 687,\n",
       " 'b4': 212,\n",
       " 'welcome': 1928,\n",
       " 'concern': 415,\n",
       " 'apologies': 164,\n",
       " 'nor': 1214,\n",
       " 'miserable': 1155,\n",
       " 'past': 1296,\n",
       " 'pilots': 1326,\n",
       " 'hrs': 916,\n",
       " 'needs': 1196,\n",
       " 'wtf': 1981,\n",
       " 'incompetent': 949,\n",
       " 'address': 98,\n",
       " 'thoughts': 1754,\n",
       " 'experience': 661,\n",
       " 'feedback': 694,\n",
       " 'event': 639,\n",
       " 'jetway': 987,\n",
       " 'driver': 581,\n",
       " 'tarmac': 1713,\n",
       " 'horrible': 904,\n",
       " 'woman': 1956,\n",
       " 'baggage': 219,\n",
       " 'wouldn': 1976,\n",
       " 'per': 1307,\n",
       " 'site': 1592,\n",
       " 'taking': 1708,\n",
       " 'longer': 1068,\n",
       " 'joke': 991,\n",
       " 'staff': 1646,\n",
       " 'tell': 1720,\n",
       " 'something': 1620,\n",
       " 'vs': 1894,\n",
       " 'passengers': 1294,\n",
       " 'iah': 927,\n",
       " 'well': 1929,\n",
       " 'changing': 347,\n",
       " 'chance': 342,\n",
       " 'coming': 394,\n",
       " 'sincerely': 1588,\n",
       " 'think': 1744,\n",
       " 'happen': 848,\n",
       " 'lt': 1087,\n",
       " 'swa': 1694,\n",
       " 'thankyou': 1732,\n",
       " 'driving': 582,\n",
       " 'across': 90,\n",
       " 'dfw': 526,\n",
       " 'fucking': 782,\n",
       " 'until': 1854,\n",
       " 'fair': 678,\n",
       " 'goes': 813,\n",
       " '150': 12,\n",
       " 'each': 595,\n",
       " 'appreciate': 170,\n",
       " 'reply': 1451,\n",
       " 'hopefully': 901,\n",
       " 'cheers': 359,\n",
       " 'chicago': 361,\n",
       " 'buffalo': 283,\n",
       " 'care': 319,\n",
       " 'safety': 1510,\n",
       " 'via': 1883,\n",
       " 'wall': 1902,\n",
       " 'middle': 1141,\n",
       " 'where': 1939,\n",
       " 'show': 1575,\n",
       " 'notified': 1222,\n",
       " 'water': 1916,\n",
       " 'fixed': 721,\n",
       " 'waited': 1896,\n",
       " 'inside': 962,\n",
       " 'runway': 1505,\n",
       " 'returned': 1477,\n",
       " 'count': 452,\n",
       " 'valid': 1878,\n",
       " 'providing': 1391,\n",
       " 'feature': 691,\n",
       " 'merger': 1131,\n",
       " 'rebooked': 1428,\n",
       " 'myself': 1186,\n",
       " 'expired': 664,\n",
       " 'unacceptable': 1834,\n",
       " 'started': 1653,\n",
       " 'delaying': 501,\n",
       " '30pm': 40,\n",
       " 'wanted': 1905,\n",
       " 'ur': 1863,\n",
       " 'rdu': 1415,\n",
       " 'sea': 1530,\n",
       " 'thru': 1757,\n",
       " 'connecting': 429,\n",
       " 'gotta': 822,\n",
       " 'love': 1079,\n",
       " 'faster': 688,\n",
       " 'did': 529,\n",
       " 'smile': 1606,\n",
       " 'face': 672,\n",
       " 'received': 1431,\n",
       " 'forgot': 759,\n",
       " 'mia': 1139,\n",
       " 'bos': 264,\n",
       " 'rsw': 1497,\n",
       " 'sit': 1591,\n",
       " 'together': 1774,\n",
       " 'when': 1938,\n",
       " 'checking': 358,\n",
       " 'tried': 1803,\n",
       " 'whole': 1943,\n",
       " '000': 1,\n",
       " 'done': 569,\n",
       " 'sign': 1583,\n",
       " 'assigned': 187,\n",
       " 'round': 1490,\n",
       " 'worst': 1972,\n",
       " 'dumb': 592,\n",
       " 'different': 535,\n",
       " 'wth': 1982,\n",
       " 'course': 457,\n",
       " 'yeah': 1985,\n",
       " 'gotten': 823,\n",
       " 'harder': 854,\n",
       " 'fact': 673,\n",
       " 'attitude': 197,\n",
       " 'loaded': 1060,\n",
       " 'aa': 74,\n",
       " 'sending': 1547,\n",
       " 'destinationdragons': 524,\n",
       " 'vegas': 1881,\n",
       " 'imaginedragons': 937,\n",
       " 'sure': 1689,\n",
       " 'away': 209,\n",
       " 'cust': 476,\n",
       " 'busy': 291,\n",
       " 'yelled': 1988,\n",
       " 'bc': 226,\n",
       " 'put': 1401,\n",
       " 'diff': 533,\n",
       " 'gave': 797,\n",
       " 'waive': 1898,\n",
       " 'credit': 463,\n",
       " 'paying': 1302,\n",
       " 'couldnt': 451,\n",
       " 'destination': 523,\n",
       " 'twitter': 1824,\n",
       " 'while': 1941,\n",
       " 'act': 91,\n",
       " 'booked': 262,\n",
       " 'easy': 602,\n",
       " 'bna': 256,\n",
       " 'bad': 215,\n",
       " 'far': 684,\n",
       " 'answers': 157,\n",
       " 'probably': 1377,\n",
       " 'never': 1197,\n",
       " 'fails': 676,\n",
       " 'disappoint': 541,\n",
       " 'hire': 888,\n",
       " 'redeem': 1434,\n",
       " 'respect': 1468,\n",
       " 'tonight': 1778,\n",
       " 'pulling': 1396,\n",
       " 'into': 968,\n",
       " 'airbus': 115,\n",
       " 'flightations': 728,\n",
       " 'hates': 859,\n",
       " 'multiple': 1182,\n",
       " 'annoying': 152,\n",
       " 'seems': 1541,\n",
       " 'excited': 651,\n",
       " 'trip': 1804,\n",
       " 'wanna': 1903,\n",
       " 'charge': 349,\n",
       " 'nah': 1187,\n",
       " 'yall': 1984,\n",
       " 'sleeping': 1602,\n",
       " 'frustrated': 778,\n",
       " 'hang': 845,\n",
       " 'always': 136,\n",
       " 'counter': 453,\n",
       " 'poorly': 1354,\n",
       " 'enough': 623,\n",
       " 'usually': 1875,\n",
       " 'life': 1045,\n",
       " 'disappointment': 544,\n",
       " 'fail': 674,\n",
       " 'serious': 1550,\n",
       " 'question': 1405,\n",
       " 'showing': 1577,\n",
       " 'quality': 1404,\n",
       " 'better': 242,\n",
       " '30am': 39,\n",
       " '400': 49,\n",
       " 'cover': 459,\n",
       " 'cost': 445,\n",
       " 'stolen': 1665,\n",
       " 'til': 1762,\n",
       " 'patience': 1298,\n",
       " 'heads': 867,\n",
       " 'sarcasm': 1514,\n",
       " 'see': 1538,\n",
       " 'wednesday': 1924,\n",
       " 'save': 1517,\n",
       " 'surprised': 1691,\n",
       " 'responding': 1471,\n",
       " 'brand': 270,\n",
       " 'world': 1968,\n",
       " '55': 56,\n",
       " 'bother': 267,\n",
       " 'worse': 1971,\n",
       " 'unprofessional': 1851,\n",
       " 'let': 1036,\n",
       " 'complaints': 410,\n",
       " 'finally': 711,\n",
       " 'return': 1476,\n",
       " 'program': 1384,\n",
       " 'hot': 906,\n",
       " 'tea': 1715,\n",
       " 'top': 1781,\n",
       " 'info': 958,\n",
       " 'social': 1613,\n",
       " 'things': 1743,\n",
       " 'fleet': 724,\n",
       " 'fleek': 723,\n",
       " 'details': 525,\n",
       " 'gets': 801,\n",
       " 'line': 1048,\n",
       " 'southwest': 1630,\n",
       " 'used': 1870,\n",
       " 'nothing': 1219,\n",
       " 'look': 1069,\n",
       " 'supervisor': 1685,\n",
       " 'served': 1553,\n",
       " 'lot': 1076,\n",
       " 'terrible': 1724,\n",
       " 'number': 1225,\n",
       " 'big': 245,\n",
       " 'pilot': 1325,\n",
       " 'boarded': 258,\n",
       " 'try': 1812,\n",
       " 'book': 261,\n",
       " 'shows': 1578,\n",
       " 'which': 1940,\n",
       " 'accurate': 89,\n",
       " 'hear': 868,\n",
       " 'blah': 252,\n",
       " 'buy': 294,\n",
       " 'instead': 963,\n",
       " 'ill': 934,\n",
       " 'none': 1211,\n",
       " 'complete': 411,\n",
       " 'travelers': 1797,\n",
       " 'order': 1262,\n",
       " 'voucher': 1892,\n",
       " 'floor': 740,\n",
       " 'aren': 174,\n",
       " 'looking': 1070,\n",
       " 'disconnect': 546,\n",
       " 'twice': 1823,\n",
       " 'stranded': 1671,\n",
       " 'diverted': 555,\n",
       " 'stop': 1666,\n",
       " 'level': 1040,\n",
       " 'passed': 1292,\n",
       " 'helped': 877,\n",
       " 'saw': 1518,\n",
       " 'black': 251,\n",
       " 'history': 890,\n",
       " 'month': 1169,\n",
       " 'commercial': 396,\n",
       " 'tv': 1819,\n",
       " 'im': 935,\n",
       " 'support': 1686,\n",
       " 'guy': 833,\n",
       " 'large': 1019,\n",
       " 'heading': 866,\n",
       " 'maybe': 1112,\n",
       " 'funny': 789,\n",
       " '1st': 20,\n",
       " 'talking': 1711,\n",
       " 'came': 306,\n",
       " 'does': 561,\n",
       " 'answering': 156,\n",
       " 'public': 1393,\n",
       " 'messages': 1134,\n",
       " 'private': 1375,\n",
       " 'likely': 1047,\n",
       " 'business': 290,\n",
       " 'thx': 1759,\n",
       " 'brother': 278,\n",
       " 'dc': 491,\n",
       " 'sweet': 1695,\n",
       " '3056': 38,\n",
       " 'best': 240,\n",
       " 'kudos': 1009,\n",
       " 'overnight': 1279,\n",
       " 'ah': 112,\n",
       " 'might': 1143,\n",
       " 'garbage': 794,\n",
       " 'rescheduled': 1462,\n",
       " 'repair': 1449,\n",
       " 'absolute': 78,\n",
       " 'disregard': 553,\n",
       " 'operations': 1256,\n",
       " 'useless': 1872,\n",
       " 'account': 88,\n",
       " 'pretty': 1368,\n",
       " 'btw': 281,\n",
       " 'expect': 658,\n",
       " 'computers': 414,\n",
       " 'bwi': 295,\n",
       " 'moving': 1179,\n",
       " 'completely': 412,\n",
       " 'miss': 1156,\n",
       " 'connection': 430,\n",
       " 'turns': 1818,\n",
       " 'employees': 617,\n",
       " 'case': 326,\n",
       " 'id': 929,\n",
       " 'requested': 1457,\n",
       " '19': 17,\n",
       " 'days': 490,\n",
       " 'bs': 280,\n",
       " 'calling': 304,\n",
       " 'finding': 713,\n",
       " 'couldn': 450,\n",
       " 'denied': 508,\n",
       " 'sat': 1515,\n",
       " '05': 2,\n",
       " 'totally': 1783,\n",
       " 'watched': 1914,\n",
       " 'lady': 1012,\n",
       " 'den': 507,\n",
       " 'non': 1210,\n",
       " 'hotels': 908,\n",
       " 'eta': 635,\n",
       " 'improve': 942,\n",
       " 'broke': 276,\n",
       " 'drive': 580,\n",
       " 'jfk': 988,\n",
       " 'school': 1525,\n",
       " 'denver': 509,\n",
       " '11': 6,\n",
       " '15': 11,\n",
       " 'deplaned': 516,\n",
       " '45': 51,\n",
       " 'inexcusable': 955,\n",
       " 'interesting': 964,\n",
       " 'disappointed': 542,\n",
       " 'went': 1930,\n",
       " 'saturday': 1516,\n",
       " 'others': 1268,\n",
       " 'patient': 1299,\n",
       " 'refused': 1439,\n",
       " 'checked': 356,\n",
       " 'responded': 1470,\n",
       " 'dm': 557,\n",
       " 'claim': 368,\n",
       " 'eventually': 640,\n",
       " 'changed': 345,\n",
       " 'though': 1752,\n",
       " 'reservation': 1463,\n",
       " 'must': 1184,\n",
       " 'very': 1882,\n",
       " 'usair': 1865,\n",
       " 'representative': 1454,\n",
       " 'glad': 809,\n",
       " 'keep': 995,\n",
       " 'money': 1168,\n",
       " 'own': 1280,\n",
       " 'pay': 1301,\n",
       " 'overbooked': 1277,\n",
       " 'overhead': 1278,\n",
       " 'tuesday': 1815,\n",
       " '2hrs': 33,\n",
       " '75': 65,\n",
       " 'premier': 1365,\n",
       " 'process': 1381,\n",
       " 'shout': 1574,\n",
       " 'helping': 879,\n",
       " 'little': 1055,\n",
       " 'provide': 1389,\n",
       " 'routes': 1492,\n",
       " 'based': 224,\n",
       " 'previous': 1369,\n",
       " 'treated': 1801,\n",
       " 'possibly': 1358,\n",
       " 'means': 1118,\n",
       " 'spend': 1638,\n",
       " 'watching': 1915,\n",
       " 'cup': 472,\n",
       " 'understood': 1840,\n",
       " 'list': 1051,\n",
       " 'prior': 1373,\n",
       " 'following': 753,\n",
       " 'rental': 1447,\n",
       " 'poor': 1353,\n",
       " 'communication': 400,\n",
       " 'meant': 1119,\n",
       " 'supposed': 1688,\n",
       " 'depart': 510,\n",
       " '00': 0,\n",
       " 'says': 1521,\n",
       " 'central': 336,\n",
       " 'ready': 1420,\n",
       " 'close': 377,\n",
       " 'door': 571,\n",
       " '1hr': 18,\n",
       " 'onto': 1253,\n",
       " 'cleaned': 374,\n",
       " 'properly': 1388,\n",
       " 'sounds': 1628,\n",
       " 'normal': 1215,\n",
       " 'offer': 1233,\n",
       " 'uk': 1832,\n",
       " 'hey': 883,\n",
       " 'note': 1217,\n",
       " 'box': 269,\n",
       " 'legroom': 1033,\n",
       " 'point': 1348,\n",
       " 'kids': 1001,\n",
       " 'often': 1239,\n",
       " 'bought': 268,\n",
       " 'four': 764,\n",
       " 'dtw': 589,\n",
       " 'phx': 1320,\n",
       " 'gone': 817,\n",
       " 'met': 1136,\n",
       " 'seattle': 1534,\n",
       " 'merge': 1130,\n",
       " 'elite': 608,\n",
       " 'flyers': 747,\n",
       " 'nothappy': 1218,\n",
       " 'charlotte': 353,\n",
       " 'mechanical': 1121,\n",
       " 'dept': 517,\n",
       " 'okc': 1243,\n",
       " 'less': 1035,\n",
       " 'willing': 1949,\n",
       " 'everything': 644,\n",
       " 'catering': 329,\n",
       " 'coffee': 389,\n",
       " 'wonder': 1958,\n",
       " 'size': 1596,\n",
       " 'mco': 1113,\n",
       " 'arrive': 177,\n",
       " 'rt': 1498,\n",
       " 'watch': 1913,\n",
       " '35': 42,\n",
       " 'feet': 699,\n",
       " 'oscars': 1266,\n",
       " 'receive': 1430,\n",
       " 'assistance': 190,\n",
       " 'power': 1360,\n",
       " 'positive': 1356,\n",
       " 'thinking': 1745,\n",
       " 'hell': 874,\n",
       " 'leaving': 1030,\n",
       " 'mobile': 1162,\n",
       " 'smooth': 1607,\n",
       " 'landing': 1017,\n",
       " 'sky': 1599,\n",
       " 'ton': 1777,\n",
       " 'tiny': 1767,\n",
       " 'palm': 1284,\n",
       " 'head': 864,\n",
       " 'rock': 1485,\n",
       " 'drink': 578,\n",
       " '65': 61,\n",
       " 'points': 1349,\n",
       " 'mess': 1132,\n",
       " 'costs': 447,\n",
       " '5hrs': 57,\n",
       " 'nyc': 1229,\n",
       " '300': 37,\n",
       " 'difference': 534,\n",
       " 'speak': 1634,\n",
       " 'live': 1056,\n",
       " 'cannot': 313,\n",
       " 'omg': 1245,\n",
       " 'bumped': 287,\n",
       " 'companion': 403,\n",
       " 'purchase': 1397,\n",
       " ...}"
      ]
     },
     "execution_count": 107,
     "metadata": {},
     "output_type": "execute_result"
    }
   ],
   "source": [
    "word_index_map = vectorizer.vocabulary_\n",
    "word_index_map "
   ]
  },
  {
   "cell_type": "markdown",
   "id": "187ffe5b",
   "metadata": {},
   "source": [
    "- Define the most extreme words for each class (find the words with the largest magnitudes of weights)\n",
    "\n",
    "<small style='color:red'>Note: Words that have largest impact on the output.</small>\n",
    "<small>\n",
    "\n",
    "<p>There is no much words with the weight larger than two we'll try with different tresholds:</p>\n",
    "<ul>\n",
    "    <li>2</li>\n",
    "    <li>1.5</li>\n",
    "    <li>1.8</li>\n",
    "</ul>\n",
    "</small>"
   ]
  },
  {
   "cell_type": "code",
   "execution_count": 108,
   "id": "dfb9cb46",
   "metadata": {},
   "outputs": [],
   "source": [
    "tresholds = [2, 1.5, 1.8]"
   ]
  },
  {
   "cell_type": "markdown",
   "id": "83c53298",
   "metadata": {},
   "source": [
    "- Print the most positive words"
   ]
  },
  {
   "cell_type": "code",
   "execution_count": 109,
   "id": "5359f626",
   "metadata": {},
   "outputs": [
    {
     "name": "stdout",
     "output_type": "stream",
     "text": [
      "Most positive words:\n",
      "amp 3.1293147955862297\n",
      "beyond 2.4567690431826392\n",
      "losing 2.4835654187214122\n",
      "bad 2.198728789623176\n",
      "glad 3.670438948706921\n",
      "sunday 6.770119088457509\n",
      "intl 3.0908592006543087\n",
      "updates 2.220815371613413\n",
      "taxi 2.8461959702584565\n",
      "suitcase 6.081959549942102\n",
      "gift 2.465708992638931\n",
      "side 2.2265739990818973\n"
     ]
    }
   ],
   "source": [
    "print(\"Most positive words:\")\n",
    "\n",
    "most_positive_words = {}\n",
    "\n",
    "for word, index in word_index_map.items():\n",
    "    weight = model.coef_[0][index]\n",
    "    if weight > tresholds[0]:\n",
    "        most_positive_words[word] = weight\n",
    "        print(word, weight)"
   ]
  },
  {
   "cell_type": "code",
   "execution_count": 110,
   "id": "bb66b2ec",
   "metadata": {},
   "outputs": [
    {
     "name": "stdout",
     "output_type": "stream",
     "text": [
      "Most positive words:\n",
      "amp 3.1293147955862297\n",
      "beyond 2.4567690431826392\n",
      "losing 2.4835654187214122\n",
      "bad 2.198728789623176\n",
      "glad 3.670438948706921\n",
      "sunday 6.770119088457509\n",
      "intl 3.0908592006543087\n",
      "americanairlines 1.6577325854404168\n",
      "updates 2.220815371613413\n",
      "taxi 2.8461959702584565\n",
      "suitcase 6.081959549942102\n",
      "wasted 1.8558972715539899\n",
      "gift 2.465708992638931\n",
      "side 2.2265739990818973\n"
     ]
    }
   ],
   "source": [
    "print(\"Most positive words:\")\n",
    "\n",
    "most_positive_words = {}\n",
    "\n",
    "for word, index in word_index_map.items():\n",
    "    weight = model.coef_[0][index]\n",
    "    if weight > tresholds[1]:\n",
    "        most_positive_words[word] = weight\n",
    "        print(word, weight)"
   ]
  },
  {
   "cell_type": "code",
   "execution_count": 111,
   "id": "87d6514a",
   "metadata": {},
   "outputs": [
    {
     "name": "stdout",
     "output_type": "stream",
     "text": [
      "Most positive words:\n",
      "amp 3.1293147955862297\n",
      "beyond 2.4567690431826392\n",
      "losing 2.4835654187214122\n",
      "bad 2.198728789623176\n",
      "glad 3.670438948706921\n",
      "sunday 6.770119088457509\n",
      "intl 3.0908592006543087\n",
      "updates 2.220815371613413\n",
      "taxi 2.8461959702584565\n",
      "suitcase 6.081959549942102\n",
      "wasted 1.8558972715539899\n",
      "gift 2.465708992638931\n",
      "side 2.2265739990818973\n"
     ]
    }
   ],
   "source": [
    "print(\"Most positive words:\")\n",
    "\n",
    "most_positive_words = {}\n",
    "\n",
    "for word, index in word_index_map.items():\n",
    "    weight = model.coef_[0][index]\n",
    "    if weight > tresholds[2]:\n",
    "        most_positive_words[word] = weight\n",
    "        print(word, weight)"
   ]
  },
  {
   "cell_type": "markdown",
   "id": "8f2b5edf",
   "metadata": {},
   "source": [
    "<small>Some words may be the names of the airlines which means that these are associated with positive feedback!</small>"
   ]
  },
  {
   "cell_type": "code",
   "execution_count": 112,
   "id": "76f4c92c",
   "metadata": {},
   "outputs": [
    {
     "data": {
      "text/html": [
       "<div>\n",
       "<style scoped>\n",
       "    .dataframe tbody tr th:only-of-type {\n",
       "        vertical-align: middle;\n",
       "    }\n",
       "\n",
       "    .dataframe tbody tr th {\n",
       "        vertical-align: top;\n",
       "    }\n",
       "\n",
       "    .dataframe thead th {\n",
       "        text-align: right;\n",
       "    }\n",
       "</style>\n",
       "<table border=\"1\" class=\"dataframe\">\n",
       "  <thead>\n",
       "    <tr style=\"text-align: right;\">\n",
       "      <th></th>\n",
       "      <th>weight</th>\n",
       "    </tr>\n",
       "  </thead>\n",
       "  <tbody>\n",
       "    <tr>\n",
       "      <th>amp</th>\n",
       "      <td>3.129315</td>\n",
       "    </tr>\n",
       "    <tr>\n",
       "      <th>beyond</th>\n",
       "      <td>2.456769</td>\n",
       "    </tr>\n",
       "    <tr>\n",
       "      <th>losing</th>\n",
       "      <td>2.483565</td>\n",
       "    </tr>\n",
       "    <tr>\n",
       "      <th>bad</th>\n",
       "      <td>2.198729</td>\n",
       "    </tr>\n",
       "    <tr>\n",
       "      <th>glad</th>\n",
       "      <td>3.670439</td>\n",
       "    </tr>\n",
       "    <tr>\n",
       "      <th>sunday</th>\n",
       "      <td>6.770119</td>\n",
       "    </tr>\n",
       "    <tr>\n",
       "      <th>intl</th>\n",
       "      <td>3.090859</td>\n",
       "    </tr>\n",
       "    <tr>\n",
       "      <th>updates</th>\n",
       "      <td>2.220815</td>\n",
       "    </tr>\n",
       "    <tr>\n",
       "      <th>taxi</th>\n",
       "      <td>2.846196</td>\n",
       "    </tr>\n",
       "    <tr>\n",
       "      <th>suitcase</th>\n",
       "      <td>6.081960</td>\n",
       "    </tr>\n",
       "    <tr>\n",
       "      <th>wasted</th>\n",
       "      <td>1.855897</td>\n",
       "    </tr>\n",
       "    <tr>\n",
       "      <th>gift</th>\n",
       "      <td>2.465709</td>\n",
       "    </tr>\n",
       "    <tr>\n",
       "      <th>side</th>\n",
       "      <td>2.226574</td>\n",
       "    </tr>\n",
       "  </tbody>\n",
       "</table>\n",
       "</div>"
      ],
      "text/plain": [
       "            weight\n",
       "amp       3.129315\n",
       "beyond    2.456769\n",
       "losing    2.483565\n",
       "bad       2.198729\n",
       "glad      3.670439\n",
       "sunday    6.770119\n",
       "intl      3.090859\n",
       "updates   2.220815\n",
       "taxi      2.846196\n",
       "suitcase  6.081960\n",
       "wasted    1.855897\n",
       "gift      2.465709\n",
       "side      2.226574"
      ]
     },
     "execution_count": 112,
     "metadata": {},
     "output_type": "execute_result"
    }
   ],
   "source": [
    "most_positive_words_df = pd.DataFrame.from_dict(most_positive_words, orient='index', columns=['weight'])\n",
    "\n",
    "most_positive_words_df"
   ]
  },
  {
   "cell_type": "code",
   "execution_count": 113,
   "id": "71dbfc35",
   "metadata": {},
   "outputs": [
    {
     "data": {
      "image/png": "[encoded data removed]",
      "text/plain": [
       "<Figure size 1440x360 with 1 Axes>"
      ]
     },
     "metadata": {
      "needs_background": "light"
     },
     "output_type": "display_data"
    }
   ],
   "source": [
    "most_positive_words_df.plot.bar(rot=0, figsize=(20,5))\n",
    "\n",
    "plt.title('Most positive words')\n",
    "plt.xlabel('word')\n",
    "plt.ylabel('weigth')\n",
    "\n",
    "plt.show()"
   ]
  },
  {
   "cell_type": "code",
   "execution_count": 114,
   "id": "a5807a0e",
   "metadata": {},
   "outputs": [
    {
     "name": "stdout",
     "output_type": "stream",
     "text": [
      "Wordcloud for most positive words\n"
     ]
    },
    {
     "data": {
      "image/png": "[encoded data removed]",
      "text/plain": [
       "<Figure size 1080x720 with 1 Axes>"
      ]
     },
     "metadata": {
      "needs_background": "light"
     },
     "output_type": "display_data"
    }
   ],
   "source": [
    "print(\"Wordcloud for most positive words\")\n",
    "\n",
    "positive_wordcloud = WordCloud(background_color=\"white\", width=800, height=400)\n",
    "positive_wordcloud.generate_from_frequencies(most_positive_words)\n",
    "plt.figure(figsize=(15,10))\n",
    "plt.imshow(positive_wordcloud, interpolation=\"bilinear\")\n",
    "plt.axis(\"off\")\n",
    "plt.show()"
   ]
  },
  {
   "cell_type": "markdown",
   "id": "0ebd65dd",
   "metadata": {},
   "source": [
    "- Print the most negative words"
   ]
  },
  {
   "cell_type": "code",
   "execution_count": 115,
   "id": "af1982b8",
   "metadata": {},
   "outputs": [
    {
     "name": "stdout",
     "output_type": "stream",
     "text": [
      "Most negative words:\n",
      "nah -2.642376838357089\n",
      "nearly -2.8420498314743936\n"
     ]
    }
   ],
   "source": [
    "print(\"Most negative words:\")\n",
    "\n",
    "most_negative_words = {}\n",
    "\n",
    "for word, index in word_index_map.items():\n",
    "    weight = model.coef_[0][index]\n",
    "    if weight < - tresholds[0]:\n",
    "        most_negative_words[word] = weight\n",
    "        print(word, weight)"
   ]
  },
  {
   "cell_type": "code",
   "execution_count": 116,
   "id": "8d199b19",
   "metadata": {},
   "outputs": [
    {
     "name": "stdout",
     "output_type": "stream",
     "text": [
      "Most negative words:\n",
      "nah -2.642376838357089\n",
      "nearly -2.8420498314743936\n"
     ]
    }
   ],
   "source": [
    "print(\"Most negative words:\")\n",
    "\n",
    "most_negative_words = {}\n",
    "\n",
    "for word, index in word_index_map.items():\n",
    "    weight = model.coef_[0][index]\n",
    "    if weight < - tresholds[2]:\n",
    "        most_negative_words[word] = weight\n",
    "        print(word, weight)"
   ]
  },
  {
   "cell_type": "code",
   "execution_count": 117,
   "id": "94a969b3",
   "metadata": {},
   "outputs": [
    {
     "name": "stdout",
     "output_type": "stream",
     "text": [
      "Most negative words:\n",
      "welcome -1.547423732789267\n",
      "different -1.5070643518687898\n",
      "nah -2.642376838357089\n",
      "wonder -1.5662233091130773\n",
      "unavailable -1.5377175575115585\n",
      "hence -1.7242087386862028\n",
      "calls -1.5854387034934971\n",
      "honest -1.7182204630046793\n",
      "incredible -1.6000046427102281\n",
      "damn -1.5314282817185614\n",
      "nearly -2.8420498314743936\n"
     ]
    }
   ],
   "source": [
    "print(\"Most negative words:\")\n",
    "\n",
    "most_negative_words = {}\n",
    "\n",
    "for word, index in word_index_map.items():\n",
    "    weight = model.coef_[0][index]\n",
    "    if weight < - tresholds[1]:\n",
    "        most_negative_words[word] = weight\n",
    "        print(word, weight)"
   ]
  },
  {
   "cell_type": "code",
   "execution_count": 118,
   "id": "c066a29c",
   "metadata": {},
   "outputs": [
    {
     "data": {
      "text/html": [
       "<div>\n",
       "<style scoped>\n",
       "    .dataframe tbody tr th:only-of-type {\n",
       "        vertical-align: middle;\n",
       "    }\n",
       "\n",
       "    .dataframe tbody tr th {\n",
       "        vertical-align: top;\n",
       "    }\n",
       "\n",
       "    .dataframe thead th {\n",
       "        text-align: right;\n",
       "    }\n",
       "</style>\n",
       "<table border=\"1\" class=\"dataframe\">\n",
       "  <thead>\n",
       "    <tr style=\"text-align: right;\">\n",
       "      <th></th>\n",
       "      <th>weight</th>\n",
       "    </tr>\n",
       "  </thead>\n",
       "  <tbody>\n",
       "    <tr>\n",
       "      <th>welcome</th>\n",
       "      <td>-1.547424</td>\n",
       "    </tr>\n",
       "    <tr>\n",
       "      <th>different</th>\n",
       "      <td>-1.507064</td>\n",
       "    </tr>\n",
       "    <tr>\n",
       "      <th>nah</th>\n",
       "      <td>-2.642377</td>\n",
       "    </tr>\n",
       "    <tr>\n",
       "      <th>wonder</th>\n",
       "      <td>-1.566223</td>\n",
       "    </tr>\n",
       "    <tr>\n",
       "      <th>unavailable</th>\n",
       "      <td>-1.537718</td>\n",
       "    </tr>\n",
       "    <tr>\n",
       "      <th>hence</th>\n",
       "      <td>-1.724209</td>\n",
       "    </tr>\n",
       "    <tr>\n",
       "      <th>calls</th>\n",
       "      <td>-1.585439</td>\n",
       "    </tr>\n",
       "    <tr>\n",
       "      <th>honest</th>\n",
       "      <td>-1.718220</td>\n",
       "    </tr>\n",
       "    <tr>\n",
       "      <th>incredible</th>\n",
       "      <td>-1.600005</td>\n",
       "    </tr>\n",
       "    <tr>\n",
       "      <th>damn</th>\n",
       "      <td>-1.531428</td>\n",
       "    </tr>\n",
       "    <tr>\n",
       "      <th>nearly</th>\n",
       "      <td>-2.842050</td>\n",
       "    </tr>\n",
       "  </tbody>\n",
       "</table>\n",
       "</div>"
      ],
      "text/plain": [
       "               weight\n",
       "welcome     -1.547424\n",
       "different   -1.507064\n",
       "nah         -2.642377\n",
       "wonder      -1.566223\n",
       "unavailable -1.537718\n",
       "hence       -1.724209\n",
       "calls       -1.585439\n",
       "honest      -1.718220\n",
       "incredible  -1.600005\n",
       "damn        -1.531428\n",
       "nearly      -2.842050"
      ]
     },
     "execution_count": 118,
     "metadata": {},
     "output_type": "execute_result"
    }
   ],
   "source": [
    "most_negative_words_df = pd.DataFrame.from_dict(most_negative_words, orient='index', columns=['weight'])\n",
    "\n",
    "most_negative_words_df"
   ]
  },
  {
   "cell_type": "markdown",
   "id": "40674f5f",
   "metadata": {},
   "source": [
    "<small>Words like: hours, now, and will are words that have low weight. That means that (unfulfilled) promises are time-consuming, and one of the most relevant factors of good service is the time in which the service is delivered.</small>"
   ]
  },
  {
   "cell_type": "code",
   "execution_count": 119,
   "id": "6b25a2f7",
   "metadata": {},
   "outputs": [
    {
     "data": {
      "image/png": "[encoded data removed]",
      "text/plain": [
       "<Figure size 1440x360 with 1 Axes>"
      ]
     },
     "metadata": {
      "needs_background": "light"
     },
     "output_type": "display_data"
    }
   ],
   "source": [
    "most_negative_words_df.plot.bar(rot=0, figsize=(20,5))\n",
    "\n",
    "plt.title('Most negative words')\n",
    "plt.xlabel('word')\n",
    "plt.ylabel('weigth')\n",
    "\n",
    "plt.show()"
   ]
  },
  {
   "cell_type": "code",
   "execution_count": 120,
   "id": "837d616b",
   "metadata": {},
   "outputs": [
    {
     "name": "stdout",
     "output_type": "stream",
     "text": [
      "Wordcloud for most negative words\n"
     ]
    },
    {
     "data": {
      "image/png": "[encoded data removed]",
      "text/plain": [
       "<Figure size 1080x720 with 1 Axes>"
      ]
     },
     "metadata": {
      "needs_background": "light"
     },
     "output_type": "display_data"
    }
   ],
   "source": [
    "print(\"Wordcloud for most negative words\")\n",
    "\n",
    "negative_wordcloud = WordCloud(background_color=\"white\", width=800, height=400)\n",
    "negative_wordcloud.generate_from_frequencies(most_negative_words)\n",
    "plt.figure(figsize=(15,10))\n",
    "plt.imshow(negative_wordcloud, interpolation=\"bilinear\")\n",
    "plt.axis(\"off\")\n",
    "plt.show()"
   ]
  },
  {
   "cell_type": "markdown",
   "id": "493efaa7",
   "metadata": {},
   "source": [
    "- Filter out stopwords"
   ]
  },
  {
   "cell_type": "code",
   "execution_count": 121,
   "id": "046ed90c",
   "metadata": {},
   "outputs": [
    {
     "name": "stdout",
     "output_type": "stream",
     "text": [
      "Before: 13 11\n",
      "After: 13 11\n"
     ]
    }
   ],
   "source": [
    "stop = stopwords.words('english')\n",
    "\n",
    "most_positive_words_without_stop_words = [word for word in most_positive_words_df.index if word not in stopwords.words('english')]\n",
    "most_negative_words_without_stop_words = [word for word in most_negative_words_df.index if word not in stopwords.words('english')]\n",
    "\n",
    "print(\"Before:\", len(most_positive_words), len(most_negative_words))\n",
    "print(\"After:\", len(most_positive_words_without_stop_words), len(most_negative_words_without_stop_words))\n",
    "\n"
   ]
  },
  {
   "cell_type": "code",
   "execution_count": 122,
   "id": "a36295cc",
   "metadata": {},
   "outputs": [
    {
     "data": {
      "text/html": [
       "<div>\n",
       "<style scoped>\n",
       "    .dataframe tbody tr th:only-of-type {\n",
       "        vertical-align: middle;\n",
       "    }\n",
       "\n",
       "    .dataframe tbody tr th {\n",
       "        vertical-align: top;\n",
       "    }\n",
       "\n",
       "    .dataframe thead th {\n",
       "        text-align: right;\n",
       "    }\n",
       "</style>\n",
       "<table border=\"1\" class=\"dataframe\">\n",
       "  <thead>\n",
       "    <tr style=\"text-align: right;\">\n",
       "      <th></th>\n",
       "      <th>State</th>\n",
       "      <th>Positive</th>\n",
       "      <th>Negative</th>\n",
       "    </tr>\n",
       "  </thead>\n",
       "  <tbody>\n",
       "    <tr>\n",
       "      <th>0</th>\n",
       "      <td>Before</td>\n",
       "      <td>13</td>\n",
       "      <td>13</td>\n",
       "    </tr>\n",
       "    <tr>\n",
       "      <th>1</th>\n",
       "      <td>After</td>\n",
       "      <td>11</td>\n",
       "      <td>11</td>\n",
       "    </tr>\n",
       "  </tbody>\n",
       "</table>\n",
       "</div>"
      ],
      "text/plain": [
       "    State  Positive  Negative\n",
       "0  Before        13        13\n",
       "1   After        11        11"
      ]
     },
     "execution_count": 122,
     "metadata": {},
     "output_type": "execute_result"
    }
   ],
   "source": [
    "filtered_df = pd.DataFrame();\n",
    "filtered_df['State'] = [\"Before\", \"After\"]\n",
    "filtered_df['Positive'] = [len(most_positive_words), len(most_negative_words)]\n",
    "filtered_df['Negative'] = [len(most_positive_words_without_stop_words), len(most_negative_words_without_stop_words)]\n",
    "\n",
    "filtered_df"
   ]
  }
 ],
 "metadata": {
  "kernelspec": {
   "display_name": "Python 3",
   "language": "python",
   "name": "python3"
  },
  "language_info": {
   "codemirror_mode": {
    "name": "ipython",
    "version": 3
   },
   "file_extension": ".py",
   "mimetype": "text/x-python",
   "name": "python",
   "nbconvert_exporter": "python",
   "pygments_lexer": "ipython3",
   "version": "3.8.8"
  }
 },
 "nbformat": 4,
 "nbformat_minor": 5
}
